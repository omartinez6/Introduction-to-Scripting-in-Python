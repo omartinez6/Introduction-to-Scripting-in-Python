{
 "cells": [
  {
   "cell_type": "markdown",
   "id": "09bcacba-e1c6-4a38-a012-800fb742df0c",
   "metadata": {},
   "source": [
    "### Prime list"
   ]
  },
  {
   "cell_type": "code",
   "execution_count": 1,
   "id": "c4864395-ba05-4164-a097-07d530f7589e",
   "metadata": {},
   "outputs": [
    {
     "name": "stdout",
     "output_type": "stream",
     "text": [
      "3\n",
      "7\n",
      "13\n"
     ]
    }
   ],
   "source": [
    "\"\"\"\n",
    "Template- Create a list of the first six primes and print the 2nd, 4th, and 6th\n",
    "\"\"\"\n",
    "\n",
    "# Enter code here\n",
    "\n",
    "primes = [2, 3, 5, 7, 11, 13]\n",
    "\n",
    "for x in range(1, len(primes), 2):\n",
    "    print(primes[x])\n",
    "\n",
    "# Output\n",
    "#3 7 13"
   ]
  },
  {
   "cell_type": "markdown",
   "id": "14009024-1c1f-417b-8fcd-7afb8e2be6f7",
   "metadata": {},
   "source": [
    "### First last"
   ]
  },
  {
   "cell_type": "code",
   "execution_count": 2,
   "id": "0bf172d9-ae73-45ae-95db-64b3253407a4",
   "metadata": {},
   "outputs": [
    {
     "name": "stdout",
     "output_type": "stream",
     "text": [
      "[2, 13]\n"
     ]
    }
   ],
   "source": [
    "\"\"\"\n",
    "Template - Create a list formed by the first and last items of example_list\n",
    "\"\"\"\n",
    "\n",
    "example_list = [2, 3, 5, 7, 11, 13]\n",
    "\n",
    "# Uncomment and complete\n",
    "\n",
    "firstlast_list = [example_list[0], example_list[-1]]\n",
    "print(firstlast_list)\n",
    "\n",
    "\n",
    "# Output\n",
    "#[2, 13]"
   ]
  },
  {
   "cell_type": "markdown",
   "id": "48407c7d-5a53-4386-85d1-caee28850c31",
   "metadata": {},
   "source": [
    "### Middle"
   ]
  },
  {
   "cell_type": "code",
   "execution_count": 3,
   "id": "026017cb-b39c-4e3f-94e2-ecb47628c6a2",
   "metadata": {},
   "outputs": [
    {
     "name": "stdout",
     "output_type": "stream",
     "text": [
      "[3, 5, 7, 11]\n"
     ]
    }
   ],
   "source": [
    "\"\"\"\n",
    "Template - Create a list formed by excluding the first and last items of example_list\n",
    "\"\"\"\n",
    "\n",
    "# Enter code here\n",
    "\n",
    "example_list = [2, 3, 5, 7, 11, 13]\n",
    "\n",
    "# Uncomment and complete\n",
    "middle_list = example_list[1:len(example_list) - 1]\n",
    "print(middle_list)\n",
    "\n",
    "\n",
    "# Output\n",
    "#[3, 5, 7, 11]"
   ]
  },
  {
   "cell_type": "markdown",
   "id": "f4d85769-0796-4a3b-a55d-3135afb740ea",
   "metadata": {},
   "source": [
    "### True False"
   ]
  },
  {
   "cell_type": "code",
   "execution_count": 4,
   "id": "e0516bd8-7a76-403b-b720-24c32dc5ce08",
   "metadata": {},
   "outputs": [
    {
     "name": "stdout",
     "output_type": "stream",
     "text": [
      "[True, True, True, True, True, True, True, True, False, False, False, False, False, False, False, False]\n"
     ]
    }
   ],
   "source": [
    "\"\"\"\n",
    "Template - Create a list formed by 8 copies of True and 8 copies of False\n",
    "\"\"\"\n",
    "\n",
    "# Uncomment and enter code here\n",
    "\n",
    "truefalse_list = [True] * 8 + [False] * 8\n",
    "print(truefalse_list)\n",
    "\n",
    "\n",
    "# Output\n",
    "#[True, True, True, True, True, True, True, True, False, False, False, False, False, False, False, False]"
   ]
  },
  {
   "cell_type": "markdown",
   "id": "89f21c70-c1db-4ded-a59a-8c021a88dde4",
   "metadata": {},
   "source": [
    "### Text split"
   ]
  },
  {
   "cell_type": "code",
   "execution_count": 5,
   "id": "f1aa22b5-cdd2-4194-bbbe-d8681b0048c3",
   "metadata": {},
   "outputs": [
    {
     "name": "stdout",
     "output_type": "stream",
     "text": [
      "['Bring', 'me', 'a', 'shrubbery']\n"
     ]
    }
   ],
   "source": [
    "\"\"\"\n",
    "Template - Create a list of words form a string consisting of words separated by spaces\n",
    "\"\"\"\n",
    "\n",
    "# Uncomment and enter code here\n",
    "\n",
    "quote = \"Bring me a shrubbery\"\n",
    "word_list = quote.split()\n",
    "print(word_list)\n",
    "\n",
    "\n",
    "# Output\n",
    "#['Bring', 'me', 'a', 'shrubbery']"
   ]
  },
  {
   "cell_type": "markdown",
   "id": "189c7dfb-9ccb-4fea-afb7-b9ff422be7bc",
   "metadata": {},
   "source": [
    "### Word count"
   ]
  },
  {
   "cell_type": "code",
   "execution_count": 6,
   "id": "a807b4c1-4a82-49d4-9409-b14cc82a0d6c",
   "metadata": {},
   "outputs": [
    {
     "name": "stdout",
     "output_type": "stream",
     "text": [
      "2\n",
      "1\n",
      "1\n"
     ]
    }
   ],
   "source": [
    "\"\"\"\n",
    "Template - Count the number of times that a word appears in string of text\n",
    "\"\"\"\n",
    "\n",
    "def word_count(text, word):\n",
    "    \"\"\"\n",
    "    Given a string text consist of words separate by spaces and a string word\n",
    "    (with no spaces), return the number of times that word appears in the text\n",
    "    \"\"\"\n",
    "    \n",
    "    lista = text.split()\n",
    "    cuenta = lista.count(word)\n",
    "    return cuenta\n",
    "\n",
    "\n",
    "# Tests\n",
    "\n",
    "print(word_count(\"this pigdog is a fine pigdog\", \"pigdog\"))\n",
    "print(word_count(\"this pigdog is not a dog\", \"dog\"))\n",
    "print(word_count(\"this pigdog is not a pig\", \"pigdog\"))\n",
    "\n",
    "# Output\n",
    "#2\n",
    "#1\n",
    "#1"
   ]
  },
  {
   "cell_type": "markdown",
   "id": "2b159de2-73d7-4afe-be92-0e25bac5ceef",
   "metadata": {},
   "source": [
    "### List reference"
   ]
  },
  {
   "cell_type": "code",
   "execution_count": 7,
   "id": "e729d49d-880b-440e-8a2d-8c53d7cbeab2",
   "metadata": {},
   "outputs": [
    {
     "name": "stdout",
     "output_type": "stream",
     "text": [
      "[2, 3, 5, 7, 11, 13]\n",
      "[2, 3, 5, 7, 11, 13]\n",
      "[0, 3, 5, 7, 11, 13]\n",
      "[0, 3, 5, 7, 11, 13]\n"
     ]
    }
   ],
   "source": [
    "\"\"\"\n",
    "Template - Analyze an example of a list reference situation\n",
    "\"\"\"\n",
    "\n",
    "# Initial list\n",
    "list1 = [2, 3, 5, 7, 11, 13]\n",
    "\n",
    "# Another reference to list1\n",
    "list2 = list1\n",
    "\n",
    "# Print out both lists\n",
    "print(list1)\n",
    "print(list2)\n",
    "\n",
    "# Update the first item in second list to zero\n",
    "list2[0] = 0\n",
    "\n",
    "# Print out both lists\n",
    "print(list1)\n",
    "print(list2)\n",
    "\n",
    "# Explain what happens to list1 in a comment\n",
    "\n",
    "\n",
    "\n",
    "\n",
    "# Output\n",
    "#[2, 3, 5, 7, 11, 13]\n",
    "#[2, 3, 5, 7, 11, 13]\n",
    "#[0, 3, 5, 7, 11, 13]\n",
    "#[0, 3, 5, 7, 11, 13]"
   ]
  },
  {
   "cell_type": "markdown",
   "id": "4bccd972-9f12-4a34-b809-9a4d4ac01e1e",
   "metadata": {},
   "source": [
    "### List copy"
   ]
  },
  {
   "cell_type": "code",
   "execution_count": 8,
   "id": "23be825e-d8bd-4213-b451-8ab18911b1c6",
   "metadata": {},
   "outputs": [
    {
     "name": "stdout",
     "output_type": "stream",
     "text": [
      "[2, 3, 5, 7, 11, 13]\n",
      "[2, 3, 5, 7, 11, 13]\n",
      "[2, 3, 5, 7, 11, 13]\n",
      "[0, 3, 5, 7, 11, 13]\n"
     ]
    }
   ],
   "source": [
    "\"\"\"\n",
    "Template - Analyze another example of a list reference situation\n",
    "\"\"\"\n",
    "\n",
    "# Initial list\n",
    "list1 = [2, 3, 5, 7, 11, 13]\n",
    "\n",
    "# Make a copy of list1\n",
    "list2 = list(list1)\n",
    "\n",
    "# Print out both lists\n",
    "print(list1)\n",
    "print(list2)\n",
    "\n",
    "# Update the first item in second list to zero\n",
    "list2[0] = 0\n",
    "\n",
    "# Print out both lists\n",
    "print(list1)\n",
    "print(list2)\n",
    "\n",
    "# Explain what happens to list1 in a comment\n",
    "\n",
    "\n",
    "\n",
    "\n",
    "# Output\n",
    "#[2, 3, 5, 7, 11, 13]\n",
    "#[2, 3, 5, 7, 11, 13]\n",
    "#[2, 3, 5, 7, 11, 13]\n",
    "#[0, 3, 5, 7, 11, 13]"
   ]
  },
  {
   "cell_type": "markdown",
   "id": "8acd0c99-111f-44ef-8c35-cb11e7f16482",
   "metadata": {},
   "source": [
    "### List max"
   ]
  },
  {
   "cell_type": "code",
   "execution_count": 9,
   "id": "81256d3c-bdb2-430e-942b-72318f7c7ad1",
   "metadata": {},
   "outputs": [
    {
     "name": "stdout",
     "output_type": "stream",
     "text": [
      "4\n",
      "4\n",
      "7\n",
      "5\n"
     ]
    }
   ],
   "source": [
    "\"\"\"\n",
    "Template - Compute the largest number in a list\n",
    "\"\"\"\n",
    "\n",
    "def list_max(numbers):\n",
    "    \"\"\"\n",
    "    Given a list of numbers, return the maximum (largest) number\n",
    "    in the list\n",
    "    \"\"\"\n",
    "    maximo = 0\n",
    "    for x in numbers:\n",
    "        if x > maximo:\n",
    "            maximo = x\n",
    "    return maximo\n",
    "\n",
    "# Tests\n",
    "print(list_max([4]))\n",
    "print(list_max([-3, 4]))\n",
    "print(list_max([5, 3, 1, 7, -3, -4]))\n",
    "print(list_max([1, 2, 3, 4, 5]))\n",
    "\n",
    "\n",
    "# Output\n",
    "#4\n",
    "#4\n",
    "#7\n",
    "#5"
   ]
  },
  {
   "cell_type": "markdown",
   "id": "ec76833a-94ef-49e6-aff8-779b6e0c00e5",
   "metadata": {},
   "source": [
    "### Concatenate ints"
   ]
  },
  {
   "cell_type": "code",
   "execution_count": 10,
   "id": "e10fdcf0-2755-4d8d-a50a-e40b298ac9cb",
   "metadata": {},
   "outputs": [
    {
     "name": "stdout",
     "output_type": "stream",
     "text": [
      "4\n",
      "404\n",
      "123456789\n",
      "327961000\n"
     ]
    }
   ],
   "source": [
    "\"\"\"\n",
    "Template - Take a list of integers and concatenate their digits\n",
    "\"\"\"\n",
    "\n",
    "def concatenate_ints(int_list):\n",
    "    \"\"\"\n",
    "    Given a list of integers int_list, return the integer formed by\n",
    "    concatenating their decimal digits together\n",
    "    \"\"\"\n",
    "    cadena = ''\n",
    "    for x in int_list:\n",
    "        cadena = cadena + str(x)\n",
    "    \n",
    "    return cadena\n",
    "\n",
    "# Tests\n",
    "print(concatenate_ints([4]))\n",
    "print(concatenate_ints([4, 0, 4]))\n",
    "print(concatenate_ints([123, 456, 789]))\n",
    "print(concatenate_ints([32, 796, 1000]))\n",
    "\n",
    "\n",
    "# Output\n",
    "#4\n",
    "#404\n",
    "#123456789\n",
    "#327961000"
   ]
  },
  {
   "cell_type": "markdown",
   "id": "253b368b-af2b-47dd-beac-e6db5b9c7330",
   "metadata": {},
   "source": [
    "## Challenge"
   ]
  },
  {
   "cell_type": "markdown",
   "id": "69b1753d-5715-4134-84f3-91bf162b2652",
   "metadata": {},
   "source": [
    "### strange_sum\n",
    "Write a function strange_sum(numbers) that takes a list of integers and returns the sum of those items in the list that are not divisible by 3."
   ]
  },
  {
   "cell_type": "code",
   "execution_count": 12,
   "id": "81077e21-001f-4a1d-b75e-d0e0e95a53ad",
   "metadata": {},
   "outputs": [
    {
     "name": "stdout",
     "output_type": "stream",
     "text": [
      "24\n",
      "6994\n"
     ]
    }
   ],
   "source": [
    "\n",
    "def strange_sum(numbers):\n",
    "    '''\n",
    "    Realiza la suma de todos los números no divisibles por 3\n",
    "    \n",
    "    Parameters:\n",
    "    numbers (list): una lista de números\n",
    "    \n",
    "    Returns:\n",
    "    suma (int): la suma total d elos números de la lista no divisibles por 3\n",
    "    '''\n",
    "    suma = 0\n",
    "    for x in numbers:\n",
    "        if x % 3 == 0:\n",
    "            pass\n",
    "        else:\n",
    "            suma = suma + x\n",
    "    \n",
    "    return suma\n",
    "\n",
    "\n",
    "print(strange_sum([1, 2, 3, 4, 5, 1, 2, 3, 4, 5]))\n",
    "print(strange_sum(list(range(123)) + list(range(77))))"
   ]
  },
  {
   "cell_type": "code",
   "execution_count": null,
   "id": "95ebdcbc-d02f-487d-888b-d5139d1d7ef8",
   "metadata": {},
   "outputs": [],
   "source": []
  }
 ],
 "metadata": {
  "kernelspec": {
   "display_name": "Python 3 (ipykernel)",
   "language": "python",
   "name": "python3"
  },
  "language_info": {
   "codemirror_mode": {
    "name": "ipython",
    "version": 3
   },
   "file_extension": ".py",
   "mimetype": "text/x-python",
   "name": "python",
   "nbconvert_exporter": "python",
   "pygments_lexer": "ipython3",
   "version": "3.11.2"
  }
 },
 "nbformat": 4,
 "nbformat_minor": 5
}
