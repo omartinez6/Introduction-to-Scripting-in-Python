{
 "cells": [
  {
   "cell_type": "markdown",
   "id": "cbe80612-d3e3-43e1-bee1-f7047fde8710",
   "metadata": {},
   "source": [
    "### List assign"
   ]
  },
  {
   "cell_type": "code",
   "execution_count": 1,
   "id": "b2b28bf2-df4b-40df-ba6f-7a0c32e0c8ca",
   "metadata": {},
   "outputs": [
    {
     "name": "stdout",
     "output_type": "stream",
     "text": [
      "[2, 3, 5, 7, 11, 13]\n",
      "[2, 3, 0, 7, 11, 13]\n"
     ]
    }
   ],
   "source": [
    "\"\"\"\n",
    "Template - Update an item in a list\n",
    "\"\"\"\n",
    "\n",
    "example_list = [2, 3, 5, 7, 11, 13]\n",
    "print(example_list)\n",
    "\n",
    "# Enter update code here\n",
    "example_list[2] = 0\n",
    "\n",
    "print(example_list)\n",
    "\n",
    "\n",
    "# Output\n",
    "#[2, 3, 5, 7, 11, 13]\n",
    "#[2, 3, 0, 7, 11, 13]"
   ]
  },
  {
   "cell_type": "markdown",
   "id": "89466db1-957e-4236-bb51-a03f62e72d35",
   "metadata": {},
   "source": [
    "### Slice update"
   ]
  },
  {
   "cell_type": "code",
   "execution_count": 2,
   "id": "5adf91fc-edef-44df-b4d6-3c8d8f768a00",
   "metadata": {},
   "outputs": [
    {
     "name": "stdout",
     "output_type": "stream",
     "text": [
      "[2, 3, 5, 7, 11, 13]\n",
      "[2, 0, 0, 0, 11, 13]\n"
     ]
    }
   ],
   "source": [
    "\"\"\"\n",
    "Template - Update a slice of a list\n",
    "\"\"\"\n",
    "\n",
    "example_list = [2, 3, 5, 7, 11, 13]\n",
    "print(example_list)\n",
    "\n",
    "# Enter update code here\n",
    "example_list[1:4] = [0,0,0]\n",
    "\n",
    "print(example_list)\n",
    "\n",
    "\n",
    "# Output\n",
    "#[2, 3, 5, 7, 11, 13]\n",
    "#[2, 0, 0, 0, 7, 11, 13]"
   ]
  },
  {
   "cell_type": "markdown",
   "id": "6bf8cd83-9476-43be-a15e-b1c6c21e3107",
   "metadata": {},
   "source": [
    "### Append"
   ]
  },
  {
   "cell_type": "code",
   "execution_count": 3,
   "id": "f5252ed6-01f7-4092-8a8d-7b04cfae7e7f",
   "metadata": {},
   "outputs": [
    {
     "name": "stdout",
     "output_type": "stream",
     "text": [
      "[2, 3, 5, 7, 11, 13]\n",
      "[2, 3, 5, 7, 11, 13, 0]\n"
     ]
    }
   ],
   "source": [
    "\"\"\"\n",
    "Template - Append an item to a list\n",
    "\"\"\"\n",
    "\n",
    "example_list = [2, 3, 5, 7, 11, 13]\n",
    "print(example_list)\n",
    "\n",
    "# Enter update code here\n",
    "example_list.append(0)\n",
    "print(example_list)\n",
    "\n",
    "\n",
    "# Output\n",
    "#[2, 3, 5, 7, 11, 13]\n",
    "#[2, 3, 5, 7, 11, 13, 0]"
   ]
  },
  {
   "cell_type": "markdown",
   "id": "8928164f-2bc9-4ef9-93b6-8594e631cf66",
   "metadata": {},
   "source": [
    "### Extend"
   ]
  },
  {
   "cell_type": "code",
   "execution_count": 5,
   "id": "c8190a3b-77b0-416c-bd06-4458d7eafc57",
   "metadata": {},
   "outputs": [
    {
     "name": "stdout",
     "output_type": "stream",
     "text": [
      "[2, 3, 5, 7, 11, 13]\n",
      "[2, 3, 5, 7, 11, 13, 0, 0, 0]\n"
     ]
    }
   ],
   "source": [
    "\"\"\"\n",
    "Template - Extend a list with another list\n",
    "\"\"\"\n",
    "\n",
    "example_list = [2, 3, 5, 7, 11, 13]\n",
    "print(example_list)\n",
    "\n",
    "# Enter update code here\n",
    "example_list.extend([0,0,0])\n",
    "\n",
    "print(example_list)\n",
    "\n",
    "\n",
    "# Output\n",
    "#[2, 3, 5, 7, 11, 13]\n",
    "#[2, 3, 5, 7, 11, 13, 0, 0, 0]"
   ]
  },
  {
   "cell_type": "markdown",
   "id": "24ccd51e-9a8b-49cc-9f14-1b19e6af2d00",
   "metadata": {},
   "source": [
    "### Concatenate"
   ]
  },
  {
   "cell_type": "code",
   "execution_count": 9,
   "id": "addfbbab-f461-4049-b48e-89355c6b3b96",
   "metadata": {},
   "outputs": [
    {
     "name": "stdout",
     "output_type": "stream",
     "text": [
      "[2, 3, 5, 7, 11, 13]\n",
      "[2, 3, 5, 7, 11, 13]\n",
      "[2, 3, 5, 7, 11, 13, 0, 0, 0]\n"
     ]
    }
   ],
   "source": [
    "\"\"\"\n",
    "Template - Concatenate one list onto another\n",
    "\"\"\"\n",
    "\n",
    "example_list = [2, 3, 5, 7, 11, 13]\n",
    "print(example_list)\n",
    "\n",
    "# Enter update code here\n",
    "new_list = example_list + [0,0,0]\n",
    "\n",
    "print(example_list)\n",
    "print(new_list)\n",
    "\n",
    "\n",
    "# Output\n",
    "#[2, 3, 5, 7, 11, 13]\n",
    "#[2, 3, 5, 7, 11, 13]\n",
    "#[2, 3, 5, 7, 11, 13, 0, 0, 0]"
   ]
  },
  {
   "cell_type": "markdown",
   "id": "004015c8-c099-41a3-b11c-c201df6010c3",
   "metadata": {},
   "source": [
    "### Loop append"
   ]
  },
  {
   "cell_type": "code",
   "execution_count": 10,
   "id": "2038c890-6847-4b15-8062-ac10d4f480b5",
   "metadata": {},
   "outputs": [
    {
     "name": "stdout",
     "output_type": "stream",
     "text": [
      "[2, 3, 5, 7, 11, 13]\n",
      "[2, 3, 5, 7, 11, 13, 0, 0, 0]\n"
     ]
    }
   ],
   "source": [
    "\"\"\"\n",
    "Template - Append several item to a list\n",
    "\"\"\"\n",
    "\n",
    "example_list = [2, 3, 5, 7, 11, 13]\n",
    "print(example_list)\n",
    "\n",
    "# Enter update code here\n",
    "for x in [0,0,0]:\n",
    "    example_list.append(x)\n",
    "    \n",
    "print(example_list)\n",
    "\n",
    "\n",
    "# Output\n",
    "#[2, 3, 5, 7, 11, 13]\n",
    "#[2, 3, 5, 7, 11, 13, 0, 0, 0]"
   ]
  },
  {
   "cell_type": "markdown",
   "id": "cbaceb89-4c4d-4e8e-a620-e3d74d0925e4",
   "metadata": {},
   "source": [
    "### Tuple"
   ]
  },
  {
   "cell_type": "code",
   "execution_count": 13,
   "id": "451a49eb-49c1-4cb1-ad1e-278a76d45093",
   "metadata": {},
   "outputs": [
    {
     "name": "stdout",
     "output_type": "stream",
     "text": [
      "[2, 3, 5, 7, 11, 13]\n",
      "(2, 3, 5, 7, 11, 13)\n"
     ]
    }
   ],
   "source": [
    "\"\"\"\n",
    "Template - Convert a list to a tuple\n",
    "\"\"\"\n",
    "\n",
    "example_list = [2, 3, 5, 7, 11, 13]\n",
    "print(example_list)\n",
    "\n",
    "# Enter update code here\n",
    "example_tuple = tuple(example_list)\n",
    "    \n",
    "print(example_tuple)\n",
    "\n",
    "\n",
    "# Output\n",
    "#[2, 3, 5, 7, 11, 13]\n",
    "#(2, 3, 5, 7, 11, 13)"
   ]
  },
  {
   "cell_type": "markdown",
   "id": "49ff63d8-7710-4f7d-84ab-c07e9dd6f0db",
   "metadata": {},
   "source": [
    "### Shuffle"
   ]
  },
  {
   "cell_type": "code",
   "execution_count": 14,
   "id": "bdb5408c-3efa-4f3f-81ee-e0c0856a6dc2",
   "metadata": {},
   "outputs": [
    {
     "name": "stdout",
     "output_type": "stream",
     "text": [
      "[2, 3, 5, 7, 11, 13]\n",
      "[3, 13, 2, 7, 11, 5]\n"
     ]
    }
   ],
   "source": [
    "\"\"\"\n",
    "Template - Shuffle the items in a list\n",
    "\"\"\"\n",
    "import random\n",
    "\n",
    "example_list = [2, 3, 5, 7, 11, 13]\n",
    "print(example_list)\n",
    "\n",
    "# Enter update code here\n",
    "random.shuffle(example_list)\n",
    "   \n",
    "print(example_list)\n",
    "\n",
    "\n",
    "# Output - note that order of second list may vary due to randomness\n",
    "#[2, 3, 5, 7, 11, 13]\n",
    "#[11, 2, 7, 5, 13, 3]"
   ]
  },
  {
   "cell_type": "markdown",
   "id": "2bc8ffa3-1f41-4836-bd56-8b61f7fc0b82",
   "metadata": {},
   "source": [
    "### Flatten"
   ]
  },
  {
   "cell_type": "code",
   "execution_count": 17,
   "id": "f6971f62-d2a4-435f-ad87-00ce84708f82",
   "metadata": {},
   "outputs": [
    {
     "name": "stdout",
     "output_type": "stream",
     "text": [
      "[]\n",
      "[]\n",
      "[1, 2, 3]\n",
      "['cat', 'dog', 'pig', 'cow']\n",
      "[9, 8, 7, 6, 5, 4, 3, 2, 1]\n"
     ]
    }
   ],
   "source": [
    "\"\"\"\n",
    "Template - Flatten a nested list\n",
    "\"\"\"\n",
    "\n",
    "def flatten(nested_list):\n",
    "    \"\"\"\n",
    "    Given a list whose items are list, \n",
    "    return the list formed by joining all of these lists\n",
    "    \"\"\"\n",
    "    new_list = []\n",
    "    for x in nested_list:\n",
    "        new_list.extend(x)\n",
    "    return new_list\n",
    "\n",
    "# Test code\n",
    "print(flatten([]))\n",
    "print(flatten([[]]))\n",
    "print(flatten([[1, 2, 3]]))\n",
    "print(flatten([[\"cat\", \"dog\"], [\"pig\", \"cow\"]]))\n",
    "print(flatten([[9, 8, 7], [6, 5], [4, 3, 2], [1]]))\n",
    "\n",
    "\n",
    "# Output\n",
    "#[]\n",
    "#[]\n",
    "#[1, 2, 3]\n",
    "#['cat', 'dog', 'pig', 'cow']\n",
    "#[9, 8, 7, 6, 5, 4, 3, 2, 1]"
   ]
  },
  {
   "cell_type": "markdown",
   "id": "7be79865-696f-4628-b219-56f19f37f285",
   "metadata": {},
   "source": [
    "### Remove duplicates"
   ]
  },
  {
   "cell_type": "code",
   "execution_count": 24,
   "id": "68171358-f5dc-412f-88da-a8e5c4818bee",
   "metadata": {},
   "outputs": [
    {
     "name": "stdout",
     "output_type": "stream",
     "text": [
      "[]\n",
      "[1, 2, 3, 4]\n",
      "[1, 2, 3, 4, 5, 6]\n",
      "['cat', 'dog', 'pig', 'cow', 'pug']\n"
     ]
    }
   ],
   "source": [
    "\"\"\"\n",
    "Template - Remove duplicates from a list while preserving the order of items\n",
    "\"\"\"\n",
    "\n",
    "myList = [1, 2, 3, 1, 2, 5, 6, 7, 8]\n",
    "cleanlist = []\n",
    "[cleanlist.append(x) for x in myList if x not in cleanlist]\n",
    "\n",
    "\n",
    "def remove_duplicates(items):\n",
    "    \"\"\"\n",
    "    Given a list, return a list with duplicate items removed\n",
    "    and the remaining items in the same order\n",
    "    \"\"\"\n",
    "    clean = []\n",
    "    for x in items:\n",
    "        if x in clean:\n",
    "            pass\n",
    "        else:\n",
    "            clean.append(x)\n",
    "    \n",
    "    return clean\n",
    "\n",
    "\n",
    "\n",
    "# Test code\n",
    "print(remove_duplicates([]))\n",
    "print(remove_duplicates([1, 2, 3, 4]))\n",
    "print(remove_duplicates([1, 2, 2, 3, 3, 3, 4, 5, 6, 6]))\n",
    "print(remove_duplicates([\"cat\", \"dog\", \"cat\", \"pig\", \"cow\", \"cat\", \"pig\", \"pug\"]))\n",
    "\n",
    "\n",
    "# Output\n",
    "#[]\n",
    "#[1, 2, 3, 4]\n",
    "#[1, 2, 3, 4, 5, 6]\n",
    "#['cat', 'dog', 'pig', 'cow', 'pug']"
   ]
  },
  {
   "cell_type": "markdown",
   "id": "e0ac2325-7604-4379-8eac-e5bbcf826702",
   "metadata": {},
   "source": [
    "## Challenge"
   ]
  },
  {
   "cell_type": "markdown",
   "id": "8a31d2e3-c4be-48f1-b688-c77089f4b9e1",
   "metadata": {},
   "source": [
    "### Fibonacci \n",
    "Given a list fib = [0, 1], write a loop that appends the sum of the last two items in fib to the end of fib.  What is the value of the last item in fib after twenty iterations of this loop?  Enter the answer below as an integer.\n",
    "\n",
    "As a check, the value of the last item in fib after ten iterations is 89."
   ]
  },
  {
   "cell_type": "code",
   "execution_count": 33,
   "id": "4b40f3c9-7b56-475b-b709-d2ab8c57c0ad",
   "metadata": {},
   "outputs": [
    {
     "name": "stdout",
     "output_type": "stream",
     "text": [
      "89\n"
     ]
    }
   ],
   "source": [
    "def fib(n):\n",
    "    '''\n",
    "    Crea una secuencia Fibonacci hasta n (que es el número de iteraciones)\n",
    "    \n",
    "    Parameters:\n",
    "    n (int): números de veces que itera la función\n",
    "    \n",
    "    Returns:\n",
    "    suma (int): es al suma de los dos últimos números una vez terminadas las iteraciones\n",
    "    '''\n",
    "    fib = [0,1]\n",
    "    for x in range(1,n):\n",
    "        siguiente = fib[-2] + fib[-1]\n",
    "        fib.append(siguiente)\n",
    "    \n",
    "    return fib[-2] + fib[-1]\n",
    "\n",
    "print(fib(10))\n",
    "    "
   ]
  },
  {
   "cell_type": "markdown",
   "id": "28481097-88d2-49e4-a5ea-284a13aa5ea7",
   "metadata": {},
   "source": [
    "###  Sieve of Eratosthenes\n",
    "One of the first examples of an algorithm was the Sieve of Eratosthenes.  This algorithm computes all prime numbers up to a specified bound.  The provided code below implements all but the innermost loop for this algorithm in Python. Review the linked Wikipedia page and complete this code."
   ]
  },
  {
   "cell_type": "code",
   "execution_count": 58,
   "id": "fbbff30d-23fc-4115-bc51-bc2fa16bf7a7",
   "metadata": {},
   "outputs": [
    {
     "name": "stdout",
     "output_type": "stream",
     "text": [
      "46\n",
      "303\n"
     ]
    }
   ],
   "source": [
    "\"\"\"\n",
    "Implement the Sieve of Eratosthenes\n",
    "https://en.wikipedia.org/wiki/Sieve_of_Eratosthenes\n",
    "\"\"\"\n",
    "\n",
    "def compute_primes(bound):\n",
    "    \"\"\"\n",
    "    Return a list of the prime numbers in range(2, bound)\n",
    "    \"\"\"\n",
    "    answer = list(range(2, bound))\n",
    "    for divisor in range(2, bound):\n",
    "        # Remove appropriate multiples of divisor from answer\n",
    "        for x in range(divisor, bound, divisor):\n",
    "            if divisor == x or x not in answer:\n",
    "                pass\n",
    "            else:\n",
    "                answer.remove(x)\n",
    "    return answer\n",
    "\n",
    "print(len(compute_primes(200)))\n",
    "print(len(compute_primes(2000)))"
   ]
  },
  {
   "cell_type": "code",
   "execution_count": null,
   "id": "42c73c3c-bac8-4c2f-9764-384b17ea633f",
   "metadata": {},
   "outputs": [],
   "source": []
  }
 ],
 "metadata": {
  "kernelspec": {
   "display_name": "Python 3 (ipykernel)",
   "language": "python",
   "name": "python3"
  },
  "language_info": {
   "codemirror_mode": {
    "name": "ipython",
    "version": 3
   },
   "file_extension": ".py",
   "mimetype": "text/x-python",
   "name": "python",
   "nbconvert_exporter": "python",
   "pygments_lexer": "ipython3",
   "version": "3.11.2"
  }
 },
 "nbformat": 4,
 "nbformat_minor": 5
}
