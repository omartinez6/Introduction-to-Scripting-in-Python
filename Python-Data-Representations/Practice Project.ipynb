{
 "cells": [
  {
   "cell_type": "markdown",
   "id": "82568aef-2326-4666-a04c-f79afee69009",
   "metadata": {},
   "source": [
    "## Practice Project: Updating the CodeSkulptor Docs\n",
    "This project is the designed to give you more substantial experience in working with strings and files. You are encouraged to complete this optional practice project before you attempt the required project for this week.  Remember that, if you are struggling, you are welcome to examine our solution for the practice project provided at the end of the description.\n",
    "\n",
    "### Practice Project: Updating the CodeSkulptor Docs\n",
    "As part of upgrading CodeSkulptor from Python 2 to Python 3, the original CodeSkulptor Docs (for Python 2) needed to be updated to reflect the language differences between Python 2 and Python 3.  The resulting CodeSkulptor3 Docs consist of more than 10,000 lines of HTML. (Note the actual HTML for the Docs was generated via program from a much better organized PHP file that was created by hand.)\n",
    "\n",
    "The most extensive part of this update involved modifying the 600+ code examples using print to reflect the fact that print is a function in Python 3. Making this update by hand would have been both time consuming and error prone.  In practice project, you will write a script in Python 3 that automatically updates the HTML for the CodeSkulptor Docs such that almost all of the examples use correct Python 3 syntax for print (i.e. the arguments are enclosed in parentheses).\n",
    "\n",
    "### The structure of the HTML used in the CodeSkulptor Docs\n",
    "The starting point for many scripting tasks is to examine the input data and understand its structure.  We suggest that you begin by examining the Python 2 version of the Docs in a text editor such as Notepad.  You will note that an HTML file is simply a text file organized by nested pairs of tags of the form \\<foobar>...\\</foobar>.  Once this structure becomes apparent, automating the update of the example code involving print is surprisingly straightforward.\n",
    "\n",
    "In designing our script, we need to identify an HTML tag that encapsulates the code examples using print. After closer examination, we note that the example code is always enclosed by by the HTML tag \\<pre> (meaning preformatted) so that the example is formatted to display as code. This observation suggest that we focus on extracting the \\<pre> blocks from the raw HTML and update any code examples that involve print in these blocks while leaving the containing text unmodified.\n",
    "\n",
    "### Recommended structure for your program\n",
    "Based on the analysis in the previous section, we recommend that your script consist of three Python functions that update increasingly large logical components of the HTML file (a line, a \\<pre> block, and an entire file). The implementation of each of these functions has a similar three part structure:\n",
    "1. The function splits the input string into smaller components, \n",
    "2. The function then updates a subset of these smaller components using the update function for that component, \n",
    "3. Finally, the function reassembles the modified components and returns the updated string.\n",
    "\n",
    "For step two above, the update at the simplest level (a line) can be done directly using basic string operations.  With this logic in mind.  we suggest that you implement the three functions in this provided starter code:\n",
    "\n",
    "* update_line(line) - Takes a string line corresponding to a single line of Python 2 code. If the line corresponds to a print statement, the function updates the string such that the arguments to print are enclosed in parentheses. Note that any white space corresponds to indentation should be preserved. If the line does not correspond to a print statement, the line is left unchanged.\n",
    "\n",
    "* update_pre_block(pre_block) - Takes a string pre_block corresponding to code example enclosed by a pair of \\<pre>...\\</pre> tags and returns a version of the text with the syntax of any enclosed print  statements updated from Python 2 to Python 3. Note this function should call update_line(). \n",
    "\n",
    "* update_file(input_file_name, output_file_name) -  Takes strings input_file_name and output_file_name  corresponding to two file names as input. The function should open and read the HTML file corresponding to input_file_name , update the syntax of any examples of print statements in this file, and write result to the file corresponding to output_file_name .  Note this function should call update_pre_block(). \n",
    "\n",
    "Note that the link to the starter code displays the file in your browser instead of loading the code into CodeSkulptor3.  You will need to implement this practice project using desktop Python since CodeSkulptor3 can not access your local file system for security reasons. You can save the start code to your local file system by right-clicking and selecting \"Save as ...\".\n",
    "\n",
    "You are not required to use our design and starter code since this project is not machine graded.  If you want more of a challenge and wish to design your own solution, feel free to start from scratch.  For required projects that are machine graded, you will need to follow our design to facilitate reliable grading.\n",
    "\n",
    "### Testing your script\n",
    "We strongly recommend that you implement and test each function in the order specified above (smallest to largest).  For example, do not attempt to implement update_pre_block() until you are confident that your implementation of update_line() is correct.  For each function, we have provided several tests to get you start in testing your code. We strongly recommend that you create more tests beyond our existing tests to increase your confidence in the correctness of your solution.\n",
    "\n",
    "For update_file(), the following test files are available: table.html and docs.html.  You can open these files using a tool like Notepad to see the raw text as well as use a web-browser to view the formatted HTML.  (Clicking on the lower row of tabs in \"docs.html\" displays the various components of the documentation.)  Running the provided starter code with your solution on these examples produces two updated files, \"table_updated.html\" and \"docs_updated.html\". \n",
    "\n",
    "Next, you should compare the updated HTML generated by your solution with the updated HTML generated by our solution code.  Our updated files are available here: table_updated_solution.html and docs_updated_solution.html.  Since determining the correctness of your updated version of the Docs is impossible to do by eye, the provided starter code imports this code that compares two specified files and reports where the first location where the two files differ. To use this code to test \n",
    "update_file()\n",
    "update_file(), download this code into the same directory as your sources code and save it with the name \"examples3_file_diff.py\". You can then compare your updated HTML with our updated HTML solutions.\n",
    "\n",
    "Once you have implemented and tested your implementation, you are welcome to examine our solution to the project that is available here.\n",
    "\n",
    "### Hints for the project\n",
    "* Write a version of the each function that splits the input text into appropriate pieces and then reassembles the pieces to return the original text. (We suggest that you use the split()  method here.) Once your splitting code is working, modify pieces of the split text appropriately.\n",
    "\n",
    "* Note that our solution code does not update every instance of print in docs.html correctly.  In particular, the example code for bitwise operations in the Docs includes comments in the whitespace after the print statement.  The updated version of these examples incorrectly includes the comment as an argument to print().  You are welcome to update your script to handle this case (or you can simply edit these examples by hand as we did)."
   ]
  },
  {
   "cell_type": "code",
   "execution_count": null,
   "id": "9f31d666-17a0-4bfc-9249-71750c4dc9b2",
   "metadata": {},
   "outputs": [],
   "source": []
  }
 ],
 "metadata": {
  "kernelspec": {
   "display_name": "Python 3 (ipykernel)",
   "language": "python",
   "name": "python3"
  },
  "language_info": {
   "codemirror_mode": {
    "name": "ipython",
    "version": 3
   },
   "file_extension": ".py",
   "mimetype": "text/x-python",
   "name": "python",
   "nbconvert_exporter": "python",
   "pygments_lexer": "ipython3",
   "version": "3.11.2"
  }
 },
 "nbformat": 4,
 "nbformat_minor": 5
}
