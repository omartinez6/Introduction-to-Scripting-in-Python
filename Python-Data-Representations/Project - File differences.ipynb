{
 "cells": [
  {
   "cell_type": "markdown",
   "id": "cb45a08c-817f-418a-b773-fbcead762e78",
   "metadata": {},
   "source": [
    "### Problem 1: Finding the first difference between two lines\n",
    "First, you will write a function called singleline_diff that takes two single line strings. You may assume that both strings are always a single line and do not contain any newline characters. The function should return the index of the first character that differs between the two lines.  If the lines are the same, the function should return the constant IDENTICAL, which is already defined to be −1 in the provided template file.\n",
    "\n",
    "If the lines are different lengths, but the entire shorter line matches the beginning of the longer line, then the first difference is located at the index that is one past the last character in the shorter line.  In other words, no character after the end of the shorter line is defined to be different than whatever character exists in the longer line at that location.\n",
    "\n",
    "#### Hints\n",
    "1. You do not need to check whether or not the two inputs are a single line or not.  You may assume that they are.\n",
    "2. You should first check the lengths of the two inputs and determine the length of the shorter line.\n",
    "3. Look for differences in the lines up to the last character in the shorter line.\n",
    "4. If you do not find any differences, think about what you should do in the two possible cases: (1) the lines are the same length and (2) the lines are different lengths."
   ]
  },
  {
   "cell_type": "code",
   "execution_count": null,
   "id": "8b7566f0-c231-4509-baca-71334b974b40",
   "metadata": {},
   "outputs": [],
   "source": [
    "def singleline_diff(line1, line2):\n",
    "    \"\"\"\n",
    "    Inputs:\n",
    "      line1 - first single line string\n",
    "      line2 - second single line string\n",
    "    Output:\n",
    "      Returns the index where the first difference between \n",
    "      line1 and line2 occurs.\n",
    "\n",
    "      Returns IDENTICAL if the two lines are the same.\n",
    "    \"\"\""
   ]
  },
  {
   "cell_type": "markdown",
   "id": "84c546f1-9077-4a27-a9f2-eab694f1fcef",
   "metadata": {},
   "source": [
    "### Problem 2: Presenting the differences between two lines in a nicely formatted way\n",
    "Next, you will write a function called singleline_diff_format that takes two single line strings and the index of the first difference and will generate a formatted string that will allow a user to clearly see where the first difference between two lines is located. A user is likely going to want to see where the difference is in the context of the lines, not just see a number. Your function will return a three line string that looks as follows:\n",
    "\n",
    "abcd\n",
    "==^\n",
    "abef\n",
    "\n",
    "The format of these three lines is:\n",
    "\n",
    "1. The complete first line.\n",
    "2. A separator line that consists of repeated equal signs (\"=\") up until the first difference. A \"^\" symbol indicates the position of the first difference.\n",
    "3. The complete second line.\n",
    "\n",
    "If either line contains a newline or carriage return character (\"\\n\" or \"\\r\") then the function returns an empty string (since the lines are not single lines and the output format will not make sense to a person reading it).\n",
    "\n",
    "If the index is not a valid index that could indicate the position of the first difference of the two input lines, the function should also return an empty string (again because the output would not make sense otherwise).  It must therefore be between 0 and the length of the shorter line. Note that you do not need to check whether the index actually identifies the correct location of the first difference, as that should have been computed correctly prior to calling this function.\n",
    "\n",
    "#### Hints:\n",
    "\n",
    "1. Unlike the previous function, you do need to check whether the inputs are a single line this time.\n",
    "2. Think about the string operations that you have learned about when constructing the separator line.  Python provides mechanisms that allow you to do this relatively easily.\n",
    "3. Make sure you add the appropriate newline characters to your output so that it is formatted correctly. In particular, there needs to be a newline at the end of each of the three lines.\n",
    "4. Remember that this function is not checking whether or not the input index correctly identifies where the first difference is, it is simply displaying the difference assuming that it does. It is the job of singleline_diff to correctly compute the index."
   ]
  },
  {
   "cell_type": "code",
   "execution_count": null,
   "id": "69bede01-4e27-4b16-b119-c5cd216395ba",
   "metadata": {},
   "outputs": [],
   "source": [
    "def singleline_diff_format(line1, line2, idx):\n",
    "    \"\"\"\n",
    "    Inputs:\n",
    "      line1 - first single line string\n",
    "      line2 - second single line string\n",
    "      idx   - index at which to indicate difference\n",
    "    Output:\n",
    "      Returns a three line formatted string showing the location\n",
    "      of the first difference between line1 and line2.\n",
    "      \n",
    "      If either input line contains a newline or carriage return, \n",
    "      then returns an empty string.\n",
    "\n",
    "      If idx is not a valid index, then returns an empty string.\n",
    "    \"\"\""
   ]
  },
  {
   "cell_type": "markdown",
   "id": "ea74292b-ad2a-4df9-8c25-70a455c69fe6",
   "metadata": {},
   "source": [
    "### Problem 3: Finding the first difference across multiple lines\n",
    "Next, you will write a function called multiline_diff that takes two lists of single line strings. You may assume that the strings within the lists are all single lines. The function returns a tuple that indicates the line and index within that line where the first difference between the two lists occurs.  If the contents of the two lists are the same, the function should return the tuple (IDENTICAL, IDENTICAL).  (Recall that the constant IDENTICAL is already defined to be −1 in the provided template file.)\n",
    "\n",
    "The definition of whether two lines are the same or different and the resulting index for location of a difference is the same as it was for singleline_diff.\n",
    "\n",
    "The line on which the first difference occurs should be the index into the input lists that correspond to that line. If the input lists are different lengths, but the entire shorter list matches the beginning of the longer list, the first difference is located at the line that is one past the last line in the shorter list at index 0.  In other words, no character on the line after the end of the shorter list is defined to be different than whatever character exists on that line in the longer list.\n",
    "\n",
    "#### Hints\n",
    "\n",
    "1. You do not need to check that each string in the input lists are single lines.\n",
    "2. Do not forget to make use of any function(s) you have already written!\n",
    "3. Notice the similarity between this function and singleline_diff.  Make sure you think carefully about how to draw upon lessons you already learned when implementing that function."
   ]
  },
  {
   "cell_type": "code",
   "execution_count": null,
   "id": "60882a81-ea58-4ffd-bc82-9d372ea92154",
   "metadata": {},
   "outputs": [],
   "source": [
    "def multiline_diff(lines1, lines2):\n",
    "    \"\"\"\n",
    "    Inputs:\n",
    "      lines1 - list of single line strings\n",
    "      lines2 - list of single line strings\n",
    "    Output:\n",
    "      Returns a tuple containing the line number (starting from 0) and\n",
    "      the index in that line where the first difference between lines1\n",
    "      and lines2 occurs.\n",
    "      \n",
    "      Returns (IDENTICAL, IDENTICAL) if the two lists are the same.\n",
    "    \"\"\""
   ]
  },
  {
   "cell_type": "markdown",
   "id": "f9105159-a325-4678-820a-f5c7b6b6da64",
   "metadata": {},
   "source": [
    "### Problem 4: Getting lines from a file\n",
    "Next, you will write a function called get_file_lines that takes a filename as input. You may assume that the input names a file that exists and is readable. The function returns a list of single line strings, where each element of the list is one line from the file. The strings within the returned list should not contain any newline or carriage return (\"\\n\" or \"\\r\") characters.\n",
    "\n",
    "#### Hints\n",
    "\n",
    "1. You do not need to check that the file exists or is readable.  You may assume both.\n",
    "2. Note that the Python functions for reading lines from files do not remove any line ending characters.  You will need to do this yourself.  Think about how you would find and remove them using what you have learned.\n",
    "3. Always remember to close files when you are done using them!"
   ]
  },
  {
   "cell_type": "code",
   "execution_count": null,
   "id": "16bf8afc-13fb-4b98-aeec-fab42b4f6e56",
   "metadata": {},
   "outputs": [],
   "source": [
    "def get_file_lines(filename):\n",
    "    \"\"\"\n",
    "    Inputs:\n",
    "      filename - name of file to read\n",
    "    Output:\n",
    "      Returns a list of lines from the file named filename.  Each\n",
    "      line will be a single line string with no newline ('\\n') or \n",
    "      return ('\\r') characters.\n",
    "\n",
    "      If the file does not exist or is not readable, then the\n",
    "      behavior of this function is undefined.\n",
    "    \"\"\""
   ]
  },
  {
   "cell_type": "markdown",
   "id": "0a7e6331-554e-40b6-b9eb-df47c2a9c9c6",
   "metadata": {},
   "source": [
    "### Problem 5: Finding and formatting the first difference between two files\n",
    "Finally, you will write a function called file_diff_format that takes two filenames as input. You may assume that the inputs name files that exist and are readable. The function returns a formatted string that will allow a user to clearly see where the first difference between two files is located. Your function will return a four line string that looks as follows:\n",
    "\n",
    "Line 3:\n",
    "abcd\n",
    "==^\n",
    "abef\n",
    "\n",
    "The format of these four lines is:\n",
    "\n",
    "1. A line that indicates which line the first difference occurs on (Line XXX:) where \"XXX\" is the line number (starting from 0).\n",
    "2. The complete line XXX from the first file\n",
    "3. A separator line that consists of repeated equal signs (\"=\") up until the first difference. A \"^\" symbol indicates the position of the first difference.\n",
    "4. The complete line XXX from the second file.\n",
    "\n",
    "The format of the second through fourth lines should be as they are defined for singleline_diff_format. The location of the first difference between the files should be defined in the same way that it was for multiline_diff.\n",
    "\n",
    "If the two files are identical, the function should instead return the string \"No differences\\n\".\n",
    "\n",
    "#### Hints\n",
    "\n",
    "1. Do not forget to make use of any function(s) you have already written!"
   ]
  },
  {
   "cell_type": "code",
   "execution_count": null,
   "id": "98d10d65-54cb-48be-9097-ac6a54f18aeb",
   "metadata": {},
   "outputs": [],
   "source": [
    "def file_diff_format(filename1, filename2):\n",
    "    \"\"\"\n",
    "    Inputs:\n",
    "      filename1 - name of first file\n",
    "      filename2 - name of second file\n",
    "    Output:\n",
    "      Returns a four line string showing the location of the first\n",
    "      difference between the two files named by the inputs.\n",
    "\n",
    "      If the files are identical, the function instead returns the\n",
    "      string \"No differences\\n\".\n",
    "\n",
    "      If either file does not exist or is not readable, then the\n",
    "      behavior of this function is undefined.\n",
    "    \"\"\""
   ]
  }
 ],
 "metadata": {
  "kernelspec": {
   "display_name": "Python 3 (ipykernel)",
   "language": "python",
   "name": "python3"
  },
  "language_info": {
   "codemirror_mode": {
    "name": "ipython",
    "version": 3
   },
   "file_extension": ".py",
   "mimetype": "text/x-python",
   "name": "python",
   "nbconvert_exporter": "python",
   "pygments_lexer": "ipython3",
   "version": "3.11.2"
  }
 },
 "nbformat": 4,
 "nbformat_minor": 5
}
