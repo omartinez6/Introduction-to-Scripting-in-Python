{
 "cells": [
  {
   "cell_type": "markdown",
   "id": "5ddd0280-6460-4a03-9bba-63352e9c810b",
   "metadata": {},
   "source": [
    "### Flesh wound"
   ]
  },
  {
   "cell_type": "code",
   "execution_count": 1,
   "id": "03aef623-1655-40d9-8e30-08088a1b1f2d",
   "metadata": {},
   "outputs": [
    {
     "name": "stdout",
     "output_type": "stream",
     "text": [
      "It's just a flesh wound\n",
      "It's just a flesh wound\n",
      "\"It's just a flesh wound\"\n",
      "It's just a flesh wound\n"
     ]
    }
   ],
   "source": [
    "\"\"\"\n",
    "Template - String examples\n",
    "\"\"\"\n",
    "\n",
    "# Fix the four string definitions below.\n",
    "\n",
    "string1 = \"It's just a flesh wound\"\n",
    "string2 = 'It\\'s just a flesh wound'\t\n",
    "string3 = \"\\\"It's just a flesh wound\\\"\"\t\n",
    "string4 = \"It's just a flesh wound\"\n",
    "\n",
    "print(string1)\n",
    "print(string2)\n",
    "print(string3)\n",
    "print(string4)"
   ]
  },
  {
   "cell_type": "markdown",
   "id": "e2bb8d6b-6367-4760-aba1-92e6446eec8d",
   "metadata": {},
   "source": [
    "### First last"
   ]
  },
  {
   "cell_type": "code",
   "execution_count": 2,
   "id": "892bdb73-0d83-4735-8692-b47b23d9b2f0",
   "metadata": {},
   "outputs": [
    {
     "name": "stdout",
     "output_type": "stream",
     "text": [
      "It's just a flesh wound\n",
      "Id\n"
     ]
    }
   ],
   "source": [
    "\"\"\"\n",
    "Template - Item selection for lists\n",
    "\"\"\"\n",
    "\n",
    "# Create a string formed by selecting the first and last letters of example_string\n",
    "example_string = \"It's just a flesh wound\"\n",
    "print(example_string)\n",
    "\n",
    "solution_string = example_string[0] + example_string[-1]\n",
    "print(solution_string)\n",
    "\n",
    "# Output should be \n",
    "#It's just a flesh wound\n",
    "#Id"
   ]
  },
  {
   "cell_type": "markdown",
   "id": "bf721cf5-c785-44aa-9618-6596c25c4459",
   "metadata": {},
   "source": [
    "### Middle"
   ]
  },
  {
   "cell_type": "code",
   "execution_count": 3,
   "id": "6646696a-4c68-4f4d-97b3-092348b97c87",
   "metadata": {},
   "outputs": [
    {
     "name": "stdout",
     "output_type": "stream",
     "text": [
      "It's just a flesh wound\n",
      "t's just a flesh woun\n"
     ]
    }
   ],
   "source": [
    "\"\"\"\n",
    "Template - Slice selection for lists\n",
    "\"\"\"\n",
    "\n",
    "# Create a string formed by selecting all but the first and last letters of example_string\n",
    "example_string = \"It's just a flesh wound\"\n",
    "print(example_string)\n",
    "\n",
    "solution_string = example_string[1:len(example_string)-1]\n",
    "print(solution_string)\n",
    "\n",
    "# Output should be \n",
    "#It's just a flesh wound\n",
    "#t's just a flesh woun"
   ]
  },
  {
   "cell_type": "markdown",
   "id": "2c2cbc84-0b8f-477e-8152-dbbd7ad3c1f6",
   "metadata": {},
   "source": [
    "### Threes"
   ]
  },
  {
   "cell_type": "code",
   "execution_count": null,
   "id": "46965702-b824-4e18-ba9e-34749b0ebb7c",
   "metadata": {},
   "outputs": [],
   "source": [
    "\"\"\"\n",
    "Template - Another example of slice selection for lists\n",
    "\"\"\"\n",
    "\n",
    "# Create a string formed by selecting the first three characters of example_string\n",
    "# plus the last three characters of example_string\n",
    "example_string = \"It's just a flesh wound\"\n",
    "print(example_string)\n",
    "\n",
    "solution_string = \"\"\n",
    "print(solution_string)\n",
    "\n",
    "# Output should be \n",
    "#It's just a flesh wound\n",
    "#It'und"
   ]
  },
  {
   "cell_type": "markdown",
   "id": "9365c541-2e03-43c3-86b0-9e29ec8fb94e",
   "metadata": {},
   "source": [
    "### Echo"
   ]
  },
  {
   "cell_type": "code",
   "execution_count": 5,
   "id": "041b8e43-7359-4789-a25d-6fe4c1e6f5e0",
   "metadata": {},
   "outputs": [
    {
     "name": "stdout",
     "output_type": "stream",
     "text": [
      "Hello\n",
      "Hello\n",
      "Hello\n",
      "Hello\n",
      "Hello\n",
      "Goodbye\n",
      "Goodbye\n",
      "Goodbye\n"
     ]
    }
   ],
   "source": [
    "\"\"\"\n",
    "Template - Echo a string multiple times to the console\n",
    "\"\"\"\n",
    "\n",
    "def echo(call, repeats):\n",
    "    \"\"\"\n",
    "    Echo the string call to the console repeats number of time\n",
    "    Each echo should be on a separate line\n",
    "    \"\"\"\n",
    "    concat = call + ('\\n' + call) * (repeats - 1)\n",
    "    print(concat)\n",
    "\n",
    "# Tests\n",
    "echo(\"Hello\", 5)\n",
    "echo(\"Goodbye\", 3)\n",
    "\n",
    "# Output\n",
    "#Hello\n",
    "#Hello\n",
    "#Hello\n",
    "#Hello\n",
    "#Hello\n",
    "#Goodbye\n",
    "#Goodbye\n",
    "#Goodbye"
   ]
  },
  {
   "cell_type": "markdown",
   "id": "c60ce12d-4a30-489f-bc66-6cd17b31c29e",
   "metadata": {},
   "source": [
    "### Substring"
   ]
  },
  {
   "cell_type": "code",
   "execution_count": 6,
   "id": "c62b980b-7c9f-4ed1-8fd5-770cb9f37590",
   "metadata": {},
   "outputs": [
    {
     "name": "stdout",
     "output_type": "stream",
     "text": [
      "True\n",
      "True\n",
      "False\n",
      "False\n",
      "True\n"
     ]
    }
   ],
   "source": [
    "\"\"\"\n",
    "Template - Function that tests for substring\n",
    "\"\"\"\n",
    "\n",
    "\n",
    "def is_substring(example_string, test_string):\n",
    "    \"\"\"\n",
    "    Function that returns True if test_string\n",
    "    is a substring of example_string and False otherwise\n",
    "    \"\"\"\n",
    "\n",
    "    # enter one line of code for substring test here\n",
    "    if example_string.find(test_string) >= 0:\n",
    "        return True\n",
    "    else:\n",
    "        return False\n",
    "    \n",
    "\n",
    "# Tests\n",
    "\n",
    "example_string = \"It's just a flesh wound.\"\n",
    "\n",
    "print(is_substring(example_string, \"just\"))\n",
    "print(is_substring(example_string, \"flesh wound\"))\n",
    "print(is_substring(example_string, \"piddog\"))\n",
    "print(is_substring(example_string, \"it's\"))\n",
    "print(is_substring(example_string, \"It's\"))\n",
    "\n",
    "# Output\n",
    "\n",
    "#True\n",
    "#True\n",
    "#False\n",
    "#False\n",
    "#True"
   ]
  },
  {
   "cell_type": "markdown",
   "id": "67ed5c19-8144-4372-b1e0-1d3d0a0c6a16",
   "metadata": {},
   "source": [
    "### Nametag"
   ]
  },
  {
   "cell_type": "code",
   "execution_count": 7,
   "id": "b9945b0e-7c84-4bd5-bd67-802475779d8c",
   "metadata": {},
   "outputs": [
    {
     "name": "stdout",
     "output_type": "stream",
     "text": [
      "Hi! My name is Scott. This lecture covers Python.\n",
      "Hi! My name is Joe. This lecture covers games.\n",
      "Hi! My name is John. This lecture covers programming tips.\n"
     ]
    }
   ],
   "source": [
    "\"\"\"\n",
    "Template - Function that uses format to create a nametag\n",
    "\"\"\"\n",
    "\n",
    "\n",
    "def make_nametag(first_name, topic):\n",
    "    \"\"\"\n",
    "    Given two strings first_name and topic,\n",
    "    return a string of the form \"\"Hi! My name \n",
    "    is XXX. This lecture covers YYY.\" where\n",
    "    XXX and YYY are first_name and topic.\n",
    "    \"\"\"\n",
    "    \n",
    "    # enter code here\n",
    "    return f'Hi! My name is {first_name}. This lecture covers {topic}.'\n",
    "\n",
    "    \n",
    "# Tests\n",
    "\n",
    "print(make_nametag(\"Scott\", \"Python\"))\n",
    "print(make_nametag(\"Joe\", \"games\"))\n",
    "print(make_nametag(\"John\", \"programming tips\"))\n",
    "\n",
    "\n",
    "# Output\n",
    "\n",
    "#Hi! My name is Scott. This lecture covers Python.\n",
    "#Hi! My name is Joe. This lecture covers games.\n",
    "#Hi! My name is John. This lecture covers programming tips."
   ]
  },
  {
   "cell_type": "markdown",
   "id": "1ff98547-9ae3-470d-9444-6e7db67ce3a1",
   "metadata": {},
   "source": [
    "### Int string"
   ]
  },
  {
   "cell_type": "code",
   "execution_count": 11,
   "id": "bb9e2f42-0e3d-49c8-a990-e43be7b58e3d",
   "metadata": {},
   "outputs": [
    {
     "name": "stdout",
     "output_type": "stream",
     "text": [
      "123\n",
      "123\n",
      "-1\n",
      "-1\n"
     ]
    }
   ],
   "source": [
    "\"\"\"\n",
    "Template - Function that checks whether a string can be converted to an integer\n",
    "\"\"\"\n",
    "\n",
    "\n",
    "def make_int(int_string):\n",
    "    \"\"\"\n",
    "    Given the string int_string, return the associated integer if all \n",
    "    digits are decimal digits.  Other return -1.\n",
    "    \"\"\"\n",
    "    \n",
    "    # enter code here\n",
    "    if int_string.isnumeric():\n",
    "        return int(int_string)\n",
    "    else:\n",
    "        return -1\n",
    "    \n",
    "# Tests\n",
    "\n",
    "print(make_int(\"123\"))\n",
    "print(make_int(\"00123\"))\n",
    "print(make_int(\"1.23\"))\n",
    "print(make_int(\"-123\"))\n",
    "\n",
    "\n",
    "# Output\n",
    "\n",
    "#123\n",
    "#123\n",
    "#-1\n",
    "#-1"
   ]
  },
  {
   "cell_type": "markdown",
   "id": "21ede3e3-ee82-41b3-9a25-e12d41b77367",
   "metadata": {},
   "source": [
    "### Name swap"
   ]
  },
  {
   "cell_type": "code",
   "execution_count": 18,
   "id": "88622513-e569-4d7a-9d59-ef7e38ff23fc",
   "metadata": {},
   "outputs": [
    {
     "name": "stdout",
     "output_type": "stream",
     "text": [
      "Warren Joe\n",
      "Rixner Scott\n",
      "Greiner John\n"
     ]
    }
   ],
   "source": [
    "\"\"\"\n",
    "Template - Function that swaps and capitalizes first and last names\n",
    "\"\"\"\n",
    "\n",
    "\n",
    "def name_swap(name_string):\n",
    "    \"\"\"\n",
    "    Given the string name string of the form \"first last\", return \n",
    "    the string \"Last First\" where both names are now capitalized\n",
    "    \"\"\"\n",
    "    \n",
    "    # Enter code here\n",
    "    space = name_string.find(\" \")\n",
    "    return name_string[space + 1:].title() + ' ' + name_string[:space].title()\n",
    "    \n",
    "# Tests\n",
    "\n",
    "print(name_swap(\"joe warren\"))\n",
    "print(name_swap(\"scott rixner\"))\n",
    "print(name_swap(\"john greiner\"))\n",
    "\n",
    "\n",
    "# Output\n",
    "\n",
    "#Warren Joe\n",
    "#Rixner Scott\n",
    "#Greiner John"
   ]
  },
  {
   "cell_type": "markdown",
   "id": "e9fce8d6-0ac1-457e-93d8-a90de07e0ea6",
   "metadata": {},
   "source": [
    "## Challenge"
   ]
  },
  {
   "cell_type": "markdown",
   "id": "a28aceac-18a6-48f3-9115-e7ae4e5e44ab",
   "metadata": {},
   "source": [
    "### Count Vowels\n",
    "Write a function count_vowels(word) that takes the string word as input and returns the number of occurrences of lowercase vowels (i.e. the lowercase letters \"aeiou\") in word. Hint: Python has a built-in string method that can count the number of occurrences of a letter in a string."
   ]
  },
  {
   "cell_type": "code",
   "execution_count": 19,
   "id": "f9a0c558-d818-4d85-bdfc-1ab28d809e1f",
   "metadata": {},
   "outputs": [
    {
     "name": "stdout",
     "output_type": "stream",
     "text": [
      "Help on function count_vowels in module __main__:\n",
      "\n",
      "count_vowels(string)\n",
      "    Cuenta el número de vocales que contiene una cadena de texto\n",
      "    \n",
      "    Parameters:\n",
      "    string (str): Una cadena de texto\n",
      "    \n",
      "    Returns:\n",
      "    cuenta (int): La cantidad de vocales en la cadenas\n",
      "\n",
      "13\n",
      "17\n"
     ]
    }
   ],
   "source": [
    "\"\"\"\n",
    "Formato para definir la función count_vowels\n",
    "\"\"\"\n",
    "\n",
    "def count_vowels(string):\n",
    "    '''\n",
    "    Cuenta el número de vocales que contiene una cadena de texto\n",
    "    \n",
    "    Parameters:\n",
    "    string (str): Una cadena de texto\n",
    "    \n",
    "    Returns:\n",
    "    cuenta (int): La cantidad de vocales en la cadenas \n",
    "    '''\n",
    "    cuenta = 0\n",
    "    for x in string:\n",
    "        if x in ['a', 'e', 'i', 'o', 'u']:\n",
    "            cuenta = cuenta + 1\n",
    "    \n",
    "    return cuenta\n",
    "\n",
    "help(count_vowels)\n",
    "\n",
    "print(count_vowels(\"aaassseefffgggiiijjjoOOkkkuuuu\"))\n",
    "print(count_vowels(\"aovvouOucvicIIOveeOIclOeuvvauouuvciOIsle\"))"
   ]
  },
  {
   "cell_type": "markdown",
   "id": "8199ac9f-8cbd-48d4-bedc-d7c64d837084",
   "metadata": {},
   "source": [
    "### Desmitify\n",
    "Question 7\n",
    "Write a function demystify(l1_string) that takes a string composed of the characters \"l\" and \"1\" and returns the string formed by replacing each instance of \"l\" by \"a\" and each instance of \"1\" by \"b\"."
   ]
  },
  {
   "cell_type": "code",
   "execution_count": 21,
   "id": "f1c18a6e-7ee0-4f2a-aee7-384f413fa30f",
   "metadata": {},
   "outputs": [
    {
     "name": "stdout",
     "output_type": "stream",
     "text": [
      "Help on function demystify in module __main__:\n",
      "\n",
      "demystify(string)\n",
      "    Modifica la cadena de texto, cambiando l por a y 1 por b\n",
      "    \n",
      "    Parameters:\n",
      "    string (str): Cadena de texto\n",
      "    \n",
      "    Returns\n",
      "    cadena (str): Cadena de texto\n",
      "\n",
      "aaabbbbabababbbaaa\n",
      "bbbabaababbaabbbbbaaabaaabaaabbabbababbb\n"
     ]
    }
   ],
   "source": [
    "\"\"\"\n",
    "Formato para definir la función demystify, que cambia l por a y 1 por b\n",
    "\"\"\"\n",
    "\n",
    "def demystify(string):\n",
    "    '''\n",
    "    Modifica la cadena de texto, cambiando l por a y 1 por b\n",
    "    \n",
    "    Parameters:\n",
    "    string (str): Cadena de texto\n",
    "    \n",
    "    Returns\n",
    "    cadena (str): Cadena de texto\n",
    "    '''\n",
    "    cadena = ''\n",
    "    for x in string:\n",
    "        if x == '1':\n",
    "            cadena = 'b' + cadena\n",
    "        elif x == 'l':\n",
    "            cadena = 'a' + cadena\n",
    "        else:\n",
    "            cadena = x + cadena\n",
    "    \n",
    "    return cadena\n",
    "\n",
    "help(demystify)\n",
    "\n",
    "print(demystify(\"lll111l1l1l1111lll\"))\n",
    "print(demystify(\"111l1l11l11lll1lll1lll11111ll11l1ll1l111\"))"
   ]
  },
  {
   "cell_type": "code",
   "execution_count": null,
   "id": "3bbf07da-b23d-4c84-a557-e0c3cd163424",
   "metadata": {},
   "outputs": [],
   "source": []
  }
 ],
 "metadata": {
  "kernelspec": {
   "display_name": "Python 3 (ipykernel)",
   "language": "python",
   "name": "python3"
  },
  "language_info": {
   "codemirror_mode": {
    "name": "ipython",
    "version": 3
   },
   "file_extension": ".py",
   "mimetype": "text/x-python",
   "name": "python",
   "nbconvert_exporter": "python",
   "pygments_lexer": "ipython3",
   "version": "3.11.2"
  }
 },
 "nbformat": 4,
 "nbformat_minor": 5
}
