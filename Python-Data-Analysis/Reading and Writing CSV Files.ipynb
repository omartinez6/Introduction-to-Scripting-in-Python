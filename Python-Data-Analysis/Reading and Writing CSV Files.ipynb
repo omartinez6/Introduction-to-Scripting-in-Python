{
 "cells": [
  {
   "cell_type": "markdown",
   "id": "e94ee158-1caa-4b04-baff-ce267544a23a",
   "metadata": {},
   "source": [
    "# Project Description: Reading and Writing CSV Files"
   ]
  },
  {
   "cell_type": "markdown",
   "id": "7fef28f4-a861-4ec5-b702-4ebb1e289092",
   "metadata": {},
   "source": [
    "### Problem 1: Reading the field names from a CSV file\n",
    "\n",
    "First, you will write a function called read_csv_fieldnames that takes the name of a CSV file and returns a list of the field names from that file. This function assumes that the first row of the CSV file contains the field names. As CSV files can use different separator characters and quote characters, this function takes those characters as input and uses them to properly parse the CSV file.\n",
    "\n",
    "### Hints:\n",
    "You do not actually need to read any of the rows of the CSV file to obtain the fieldnames.\n",
    "If you are having trouble implementing this function, we suggest that you review this piece of documentation for the csv module."
   ]
  },
  {
   "cell_type": "code",
   "execution_count": 8,
   "id": "86ad6051-8fff-44da-a958-1c7d454fd304",
   "metadata": {
    "tags": []
   },
   "outputs": [],
   "source": [
    "def read_csv_fieldnames(filename, separator='', quote=''):\n",
    "    \"\"\"\n",
    "    Inputs:\n",
    "      filename  - name of CSV file\n",
    "      separator - character that separates fields\n",
    "      quote     - character used to optionally quote fields\n",
    "    Output:\n",
    "      A list of strings corresponding to the field names in \n",
    "      the given CSV file.\n",
    "    \"\"\"\n",
    "    folder = 'data/'\n",
    "    path = folder + filename\n",
    "    with open(path) as file:\n",
    "        file = file.readlines()\n",
    "    print(file)"
   ]
  },
  {
   "cell_type": "code",
   "execution_count": 9,
   "id": "dae1c1fd-2eb8-4293-9076-e997c7be8a77",
   "metadata": {
    "tags": []
   },
   "outputs": [
    {
     "name": "stdout",
     "output_type": "stream",
     "text": [
      "['Field1,Field2,Field3,Field4\\n', '1,2,3,4\\n', '5,6,7,8\\n', '9,10,11,12\\n']\n"
     ]
    }
   ],
   "source": [
    "read_csv_fieldnames('table1.csv')"
   ]
  },
  {
   "cell_type": "markdown",
   "id": "a284d631-dc3f-4553-8e73-d99cd12052f6",
   "metadata": {},
   "source": [
    "### Problem 2: Reading a CSV file into a list of dictionaries\n",
    "Next, you will write a function called read_csv_as_list_dict that takes the name of a CSV file and returns the data within the file as a list of dictionaries. Each item in the list corresponds to a row in the CSV file. The dictionaries within the list map the field names to the column values for that row.  As CSV files can use different separator characters and quote characters, this function takes those characters as input and uses them to properly parse the CSV file."
   ]
  },
  {
   "cell_type": "code",
   "execution_count": 2,
   "id": "4123da22-88e4-49ba-9b30-57b4d02a2df8",
   "metadata": {
    "tags": []
   },
   "outputs": [],
   "source": [
    "def read_csv_as_list_dict(filename, separator, quote):\n",
    "    \"\"\"\n",
    "    Inputs:\n",
    "      filename  - name of CSV file\n",
    "      separator - character that separates fields\n",
    "      quote     - character used to optionally quote fields\n",
    "    Output:\n",
    "      Returns a list of dictionaries where each item in the list\n",
    "      corresponds to a row in the CSV file.  The dictionaries in the\n",
    "      list map the field names to the field values for that row.\n",
    "    \"\"\"\n",
    "    pass"
   ]
  },
  {
   "cell_type": "markdown",
   "id": "45c25a6a-d8ff-4268-995d-1ba5679ef452",
   "metadata": {},
   "source": [
    "### Problem 3: Reading a CSV file into a dictionary of dictionaries\n",
    "Next, you will write a function called read_csv_as_nested_dict that takes the name of a CSV file and returns the data within the file as a dictionary of dictionaries. Each key-value pair in the outer dictionary corresponds to a row in the CSV file. The keys in that dictionary are the values of a header column in the table. The function takes the name of that header column as the input keyfield.  If a key appears multiple times in column corresponding to keyfield, the last row containing the key is used to create the dictionary used as the corresponding value.The inner dictionaries within the outer dictionary map the field names to the column values for that row.  As CSV files can use different separator characters and quote characters, this function takes those characters as input and uses them to properly parse the CSV file. Note that the key-value pair for keyfield should be in the inner dictionaries, even though its value is used as the key in the outer dictionary."
   ]
  },
  {
   "cell_type": "code",
   "execution_count": 3,
   "id": "e62972c6-4d03-412c-97ee-d3ef7318ad1a",
   "metadata": {
    "tags": []
   },
   "outputs": [],
   "source": [
    "def read_csv_as_nested_dict(filename, keyfield, separator, quote):\n",
    "    \"\"\"\n",
    "    Inputs:\n",
    "      filename  - name of CSV file\n",
    "      keyfield  - field to use as key for rows\n",
    "      separator - character that separates fields\n",
    "      quote     - character used to optionally quote fields\n",
    "    Output:\n",
    "      Returns a dictionary of dictionaries where the outer dictionary\n",
    "      maps the value in the key_field to the corresponding row in the\n",
    "      CSV file.  The inner dictionaries map the field names to the \n",
    "      field values for that row.\n",
    "    \"\"\"\n",
    "    pass"
   ]
  },
  {
   "cell_type": "markdown",
   "id": "3deb1ca0-df15-476f-8483-902a66e70d26",
   "metadata": {},
   "source": [
    "### Problem 4: Writing a list of dictionaries to a CSV file\n",
    "Finally, you will write a function called write_csv_from_list_dict. This function takes a table structured as a list of dictionaries (as if read by read_csv_as_list_dict) and writes it to the file named by the filename input. The function also takes a list of field names, fieldnames, as input in order to make sure the fields appear in the appropriate order (as specified by the order of the list fieldnames) in the CSV file. The function also takes a separator character and a quote character that should be used when writing the file. All non-numeric fields should be quoted using the specified quote character.\n",
    "### Hints:\n",
    "Do not forget to open the CSV file for writing. Be sure to review the csv module documentation to learn how to write a CSV file. Many of the options that you can use for reading CSV files are also valid when writing CSV files."
   ]
  },
  {
   "cell_type": "code",
   "execution_count": 4,
   "id": "8c5f9b61-6e34-4af7-a012-b896d993eaf1",
   "metadata": {
    "tags": []
   },
   "outputs": [],
   "source": [
    "def write_csv_from_list_dict(filename, table, fieldnames, separator, quote):\n",
    "    \"\"\"\n",
    "    Inputs:\n",
    "      filename   - name of CSV file\n",
    "      table      - list of dictionaries containing the table to write\n",
    "      fieldnames - list of strings corresponding to the field names in order\n",
    "      separator  - character that separates fields\n",
    "      quote      - character used to optionally quote fields\n",
    "    Output:\n",
    "      Writes the table to a CSV file with the name filename, using the\n",
    "      given fieldnames.  The CSV file should use the given separator and\n",
    "      quote characters.  All non-numeric fields will be quoted.\n",
    "    \"\"\"\n",
    "    pass"
   ]
  }
 ],
 "metadata": {
  "kernelspec": {
   "display_name": "Python 3 (ipykernel)",
   "language": "python",
   "name": "python3"
  },
  "language_info": {
   "codemirror_mode": {
    "name": "ipython",
    "version": 3
   },
   "file_extension": ".py",
   "mimetype": "text/x-python",
   "name": "python",
   "nbconvert_exporter": "python",
   "pygments_lexer": "ipython3",
   "version": "3.11.3"
  }
 },
 "nbformat": 4,
 "nbformat_minor": 5
}
