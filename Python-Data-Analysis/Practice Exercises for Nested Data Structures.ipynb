{
 "cells": [
  {
   "cell_type": "markdown",
   "id": "f64edced-1960-47fc-8fe0-b66281c9da19",
   "metadata": {},
   "source": [
    "### Empty lists"
   ]
  },
  {
   "cell_type": "code",
   "execution_count": 1,
   "id": "6569234d-2c5d-4434-992d-9b35f46d50e1",
   "metadata": {},
   "outputs": [
    {
     "name": "stdout",
     "output_type": "stream",
     "text": [
      "[[], [], [], [], []]\n"
     ]
    }
   ],
   "source": [
    "\"\"\"\n",
    "Template - Create a list nested_list consisting of five empty lists\n",
    "\"\"\"\n",
    "\n",
    "# Add code here\n",
    "nested_list = [[],[],[],[],[]]\n",
    "\n",
    "# Tests\n",
    "print(nested_list)\n",
    "\n",
    "# Output\n",
    "#???"
   ]
  },
  {
   "cell_type": "markdown",
   "id": "bd3f2798-90b0-4741-9a9a-56c2d8a31975",
   "metadata": {},
   "source": [
    "### List of zero lists"
   ]
  },
  {
   "cell_type": "code",
   "execution_count": 3,
   "id": "e65de55f-44a9-44bb-8176-cf207eddc008",
   "metadata": {},
   "outputs": [
    {
     "name": "stdout",
     "output_type": "stream",
     "text": [
      "[[0, 0, 0], [0, 0, 0], [0, 0, 0], [0, 0, 0], [0, 0, 0]]\n"
     ]
    }
   ],
   "source": [
    "\"\"\"\n",
    "Template - Create a list nested_list of length 5 whose items \n",
    "are themselves lists consisting of 3 zeros\n",
    "\"\"\"\n",
    "\n",
    "# Add code here\n",
    "nested_list = [[0,0,0],[0,0,0],[0,0,0],[0,0,0],[0,0,0]]\n",
    "\n",
    "# Tests\n",
    "print(nested_list)\n",
    "\n",
    "# Output\n",
    "#???"
   ]
  },
  {
   "cell_type": "markdown",
   "id": "f77378f5-7bd5-4daf-8e63-c3a41fd5fcfd",
   "metadata": {},
   "source": [
    "### List comprehension"
   ]
  },
  {
   "cell_type": "code",
   "execution_count": 7,
   "id": "2404866f-eaca-4a20-b332-dca966a85d56",
   "metadata": {},
   "outputs": [
    {
     "name": "stdout",
     "output_type": "stream",
     "text": [
      "[0, 0, 0]\n",
      "[[0, 0, 0], [0, 0, 0], [0, 0, 0], [0, 0, 0], [0, 0, 0]]\n"
     ]
    }
   ],
   "source": [
    "\"\"\"\n",
    "Template- Create a list zero_list consisting of 3 zeroes using a list comprehension\n",
    "https://docs.python.org/3/tutorial/datastructures.html#list-comprehensions\n",
    "\n",
    "As a challenge, redo the previous problem using a nested list comprehension\n",
    "https://docs.python.org/3/tutorial/datastructures.html#nested-list-comprehensions\n",
    "\"\"\"\n",
    "\n",
    "# Add code here for a list comprehension\n",
    "zero_list = [0 for x in range(3)]\n",
    "\n",
    "# Add code here for nested list comprehension\n",
    "nested_list = [[0 for x in range(3)] for x in range(5)]\n",
    "\n",
    "\n",
    "# Tests\n",
    "print(zero_list)\n",
    "print(nested_list)\n",
    "\n",
    "# Output\n",
    "#[0, 0, 0]\n",
    "#[[0, 0, 0], [0, 0, 0], [0, 0, 0], [0, 0, 0], [0, 0, 0]]"
   ]
  },
  {
   "cell_type": "markdown",
   "id": "2311c1d8-879f-421c-abfa-97f2b3da988f",
   "metadata": {},
   "source": [
    "### Return 7"
   ]
  },
  {
   "cell_type": "code",
   "execution_count": 8,
   "id": "d0614251-fd05-44db-a9ca-6673d46fa120",
   "metadata": {},
   "outputs": [
    {
     "name": "stdout",
     "output_type": "stream",
     "text": [
      "[[0, 1, 2], [3, 4, 5], [6, 7, 8], [9, 10, 11], [12, 13, 14]]\n",
      "7\n"
     ]
    }
   ],
   "source": [
    "\"\"\"\n",
    "Template - Select a specific item in a nested list\n",
    "\"\"\"\n",
    "\n",
    "# Define a nested list of lists\n",
    "nested_list = [[col + 3 * row for col in range(3)] for row in range(5)]\n",
    "print(nested_list)\n",
    "\n",
    "# Add code to print out the item in this nested list with value 7\n",
    "print(nested_list[2][1])\n",
    "\n",
    "# Output\n",
    "#[[0, 1, 2], [3, 4, 5], [6, 7, 8], [9, 10, 11], [12, 13, 14]]\n",
    "#7"
   ]
  },
  {
   "cell_type": "markdown",
   "id": "ddf9f8d6-76f3-4e94-b498-43ce375c1f77",
   "metadata": {},
   "source": [
    "### Reference"
   ]
  },
  {
   "cell_type": "code",
   "execution_count": 9,
   "id": "8008ee53-d84c-4ec1-ba8b-8864483b491f",
   "metadata": {},
   "outputs": [
    {
     "name": "stdout",
     "output_type": "stream",
     "text": [
      "[[0, 2, 0], [0, 2, 0], [0, 2, 0], [0, 2, 0], [0, 2, 0]]\n",
      "[[0, 7, 0], [0, 7, 0], [0, 7, 0], [0, 7, 0], [0, 7, 0]]\n"
     ]
    }
   ],
   "source": [
    "\"\"\"\n",
    "Solution - Analyze a reference issue involving a nested list\n",
    "\"\"\"\n",
    "\n",
    "# Create a nested list\n",
    "zero_list = [0, 2, 0]\n",
    "nested_list = []\n",
    "for dummy_idx in range(5):\n",
    "    nested_list.append(zero_list)\n",
    "print(nested_list)\n",
    "    \n",
    "# Update an entry to be non-zero\n",
    "nested_list[2][1] = 7\n",
    "print(nested_list)\n",
    "\n",
    "\n",
    "# Erroneous output\n",
    "#[[0, 0, 0], [0, 0, 0], [0, 0, 0], [0, 0, 0], [0, 0, 0]]\n",
    "#[[0, 7, 0], [0, 7, 0], [0, 7, 0], [0, 7, 0], [0, 7, 0]]\n",
    "\n",
    "# Desired output\n",
    "# [[0, 2, 0], [0, 2, 0], [0, 2, 0], [0, 2, 0], [0, 2, 0]]\n",
    "# [[0, 2, 0], [0, 2, 0], [0, 7, 0], [0, 2, 0], [0, 2, 0]]\n",
    "\n",
    "\n",
    "# Explanation"
   ]
  },
  {
   "cell_type": "markdown",
   "id": "08249896-83d0-47b8-9c02-affb7be63b3a",
   "metadata": {},
   "source": [
    "### List of empty dicts"
   ]
  },
  {
   "cell_type": "code",
   "execution_count": 10,
   "id": "64066110-4a58-4a8a-9d22-2404d4f87c14",
   "metadata": {},
   "outputs": [
    {
     "name": "stdout",
     "output_type": "stream",
     "text": [
      "[{}, {}, {}, {}, {}]\n"
     ]
    }
   ],
   "source": [
    "\"\"\"\n",
    "Template - Create a list list_dicts of 5 empty dictionaries\n",
    "\"\"\"\n",
    "\n",
    "# Add code here\n",
    "list_dicts = [{} for x in range(5)]\n",
    "\n",
    "# Tests\n",
    "print(list_dicts)\n",
    "\n",
    "\n",
    "# Output\n",
    "#???"
   ]
  },
  {
   "cell_type": "markdown",
   "id": "d0382922-7a8f-4a29-91e9-5561b00d87de",
   "metadata": {},
   "source": [
    "### Dict copies"
   ]
  },
  {
   "cell_type": "code",
   "execution_count": 11,
   "id": "447a0770-a3b1-422a-b78a-4dd6c599b702",
   "metadata": {},
   "outputs": [
    {
     "name": "stdout",
     "output_type": "stream",
     "text": [
      "[]\n",
      "[{}]\n",
      "[{}, {}]\n",
      "[{'a': 1, 'b': 2}, {'a': 1, 'b': 2}]\n",
      "[{'a': 3, 'b': 2}, {'a': 3, 'b': 2}]\n"
     ]
    }
   ],
   "source": [
    "\"\"\"\n",
    "Template - Write a function dict_copies(my_dict, num_copies) that \n",
    "returns a list consisting of num_copies copies of my_dict\n",
    "\"\"\"\n",
    "\n",
    "\n",
    "# Add code here\n",
    "def dict_copies(my_dict, num_copies):\n",
    "    \"\"\"\n",
    "    Given a dictionary my_dict and an integer num_copies, \n",
    "    returns a list consisting of num_copies copies of my_dict.\n",
    "    \"\"\"\n",
    "    dicts = [my_dict for x in range(num_copies)]\n",
    "    return dicts\n",
    "\n",
    "\n",
    "# Tests\n",
    "print(dict_copies({}, 0))\n",
    "print(dict_copies({}, 1))\n",
    "print(dict_copies({}, 2))\n",
    "\n",
    "test_dict = dict_copies({'a' : 1, 'b' : 2}, 2)\n",
    "print(test_dict)\n",
    "\n",
    "# Check for reference problem\n",
    "test_dict[1][\"a\"] = 3\n",
    "print(test_dict)\n",
    "\n",
    "\n",
    "\n",
    "# Output\n",
    "#[]\n",
    "#[{}]\n",
    "#[{}, {}]\n",
    "#[{'a': 1, 'b': 2}, {'b': 2, 'a': 1}]\n",
    "#[{'b': 2, 'a': 1}, {'b': 2, 'a': 3}]\n",
    "\n",
    "# Note that you have a reference issue if the last line of output is\n",
    "#[{'a': 3, 'b': 2}, {'b': 2, 'a': 3}]"
   ]
  },
  {
   "cell_type": "markdown",
   "id": "f07eb783-5750-4b7f-92b4-762796f6d8c9",
   "metadata": {},
   "source": [
    "### Make dict lists"
   ]
  },
  {
   "cell_type": "code",
   "execution_count": 22,
   "id": "10b27206-814f-4d27-be27-94a577f194d9",
   "metadata": {},
   "outputs": [
    {
     "name": "stdout",
     "output_type": "stream",
     "text": [
      "{}\n",
      "{0: []}\n",
      "{0: [], 1: [0], 2: [0, 0], 3: [0, 0, 0], 4: [0, 0, 0, 0]}\n"
     ]
    }
   ],
   "source": [
    "\"\"\"\n",
    "Solution - Write a function make_dict_lists(length) that returns a dictionary whose keys are in range(length) and whose\n",
    "corresponding values are lists of zeros with length matching the key\n",
    "\"\"\"\n",
    "\n",
    "\n",
    "# Add code here\n",
    "def make_dict_lists(length):\n",
    "    \"\"\"\n",
    "    Given an integer length, return a dictionary whose keys\n",
    "    lie in range(length) and whose corresponding values are \n",
    "    lists of zeros with length matching the key\n",
    "    \"\"\"\n",
    "    lists = {}\n",
    "    for x in range(length):\n",
    "        lists[x] = [0 for y in range(x)]\n",
    "    \n",
    "    return lists\n",
    "\n",
    "\n",
    "\n",
    "# Tests\n",
    "print(make_dict_lists(0))\n",
    "print(make_dict_lists(1))\n",
    "print(make_dict_lists(5))\n",
    "\n",
    "\n",
    "# Output\n",
    "#{}\n",
    "#{0: []}\n",
    "#{3: [0, 0, 0], 0: [], 4: [0, 0, 0, 0], 1: [0], 2: [0, 0]}"
   ]
  },
  {
   "cell_type": "markdown",
   "id": "306bf97b-6cbb-4b30-bf50-0e9efbd7640b",
   "metadata": {},
   "source": [
    "## Challenge\n",
    "### Simple grade"
   ]
  },
  {
   "cell_type": "code",
   "execution_count": 14,
   "id": "104fe98f-8427-4787-9360-4cf848d32984",
   "metadata": {},
   "outputs": [
    {
     "name": "stdout",
     "output_type": "stream",
     "text": [
      "[100, 98, 100, 13]\n",
      "[75, 59, 89, 77]\n",
      "[86, 84, 91, 78]\n"
     ]
    }
   ],
   "source": [
    "\"\"\"\n",
    "Template - Create a dictionary grade_table whose keys are provided\n",
    "student names and values are associated list of grades\n",
    "\"\"\"\n",
    "\n",
    "\n",
    "# Add code here\n",
    "grade_table = {\n",
    "    'Joe':[100,98,100,13],\n",
    "    'Scott':[75,59,89,77],\n",
    "    'John':[86,84,91,78]\n",
    "}\n",
    "\n",
    "\n",
    "# Tests\n",
    "print(grade_table[\"Joe\"])\n",
    "print(grade_table[\"Scott\"])\n",
    "print(grade_table[\"John\"])\n",
    "\n",
    "\n",
    "# Output\n",
    "#[100, 98, 100, 13]\n",
    "#[75, 59, 89, 77]\n",
    "#[86, 84, 91, 78]"
   ]
  },
  {
   "cell_type": "markdown",
   "id": "aafb5be1-6521-4f7e-b1f8-be6ca165797b",
   "metadata": {},
   "source": [
    "### Make grade table"
   ]
  },
  {
   "cell_type": "code",
   "execution_count": 15,
   "id": "efbe3618-cdaf-4c3b-b6bb-ff08bcaa7dc3",
   "metadata": {},
   "outputs": [
    {
     "name": "stdout",
     "output_type": "stream",
     "text": [
      "{}\n",
      "{'Joe': [100, 98, 100, 13], 'Scott': [75, 59, 89, 77], 'John': [86, 84, 91, 78]}\n"
     ]
    }
   ],
   "source": [
    "\"\"\"\n",
    "Template - Create a function make_grade_table(name_list, grades_list) \n",
    "whose keys are the names in names and whose values are the\n",
    "lists of grades in grades\n",
    "\"\"\"\n",
    "\n",
    "\n",
    "# Add code here\n",
    "\n",
    "def make_grade_table(name_list, grades_list):\n",
    "    \"\"\"\n",
    "    Given a list of name_list (as strings) and a list of grades\n",
    "    for each name, return a dictionary whose keys are\n",
    "    the names and whose associated values are the lists of grades\n",
    "    \"\"\"\n",
    "    grade = dict()\n",
    "    \n",
    "    for x in range(len(name_list)):\n",
    "        grade[name_list[x]]=grades_list[x]\n",
    "    \n",
    "    return grade\n",
    "        \n",
    "\n",
    "# Tests\n",
    "print(make_grade_table([], []))\n",
    "\n",
    "name_list = [\"Joe\", \"Scott\", \"John\"]\n",
    "grades_list = [100, 98, 100, 13], [75, 59, 89, 77],[86, 84, 91, 78] \n",
    "print(make_grade_table(name_list, grades_list))\n",
    "\n",
    "\n",
    "# Output\n",
    "#{}\n",
    "#{'Scott': [75, 59, 89, 77], 'John': [86, 84, 91, 78], 'Joe': [100, 98, 100, 13]}"
   ]
  },
  {
   "cell_type": "markdown",
   "id": "33281cdb-b1af-4886-8376-05c084c3975d",
   "metadata": {},
   "source": [
    "## Exam"
   ]
  },
  {
   "cell_type": "code",
   "execution_count": 46,
   "id": "d89cc03e-650e-4f06-b341-709a4d0e0fc1",
   "metadata": {},
   "outputs": [
    {
     "name": "stdout",
     "output_type": "stream",
     "text": [
      "[0, 0, 0, 0, 0, 0, 0, 0, 0, 0, 0, 0, 0, 0, 0, 0, 0, 0, 0, 0, 0, 0, 0, 0, 0]\n",
      "[0, 1, 2, 3, 4, 5, 6, 7, 8, 9, 10, 11, 12, 13, 14, 15, 16, 17, 18, 19, 20, 21, 22, 23, 24]\n",
      "[0, 2, 4, 6, 8, 10, 12, 14, 16, 18, 20, 22, 24, 26, 28, 30, 32, 34, 36, 38, 40, 42, 44, 46, 48]\n",
      "[0, 3, 6, 9, 12, 15, 18, 21, 24, 27, 30, 33, 36, 39, 42, 45, 48, 51, 54, 57, 60, 63, 66, 69, 72]\n",
      "[0, 4, 8, 12, 16, 20, 24, 28, 32, 36, 40, 44, 48, 52, 56, 60, 64, 68, 72, 76, 80, 84, 88, 92, 96]\n",
      "[0, 5, 10, 15, 20, 25, 30, 35, 40, 45, 50, 55, 60, 65, 70, 75, 80, 85, 90, 95, 100, 105, 110, 115, 120]\n",
      "[0, 6, 12, 18, 24, 30, 36, 42, 48, 54, 60, 66, 72, 78, 84, 90, 96, 102, 108, 114, 120, 126, 132, 138, 144]\n",
      "[0, 7, 14, 21, 28, 35, 42, 49, 56, 63, 70, 77, 84, 91, 98, 105, 112, 119, 126, 133, 140, 147, 154, 161, 168]\n",
      "[0, 8, 16, 24, 32, 40, 48, 56, 64, 72, 80, 88, 96, 104, 112, 120, 128, 136, 144, 152, 160, 168, 176, 184, 192]\n",
      "[0, 9, 18, 27, 36, 45, 54, 63, 72, 81, 90, 99, 108, 117, 126, 135, 144, 153, 162, 171, 180, 189, 198, 207, 216]\n",
      "[0, 10, 20, 30, 40, 50, 60, 70, 80, 90, 100, 110, 120, 130, 140, 150, 160, 170, 180, 190, 200, 210, 220, 230, 240]\n",
      "[0, 11, 22, 33, 44, 55, 66, 77, 88, 99, 110, 121, 132, 143, 154, 165, 176, 187, 198, 209, 220, 231, 242, 253, 264]\n",
      "[0, 12, 24, 36, 48, 60, 72, 84, 96, 108, 120, 132, 144, 156, 168, 180, 192, 204, 216, 228, 240, 252, 264, 276, 288]\n",
      "[0, 13, 26, 39, 52, 65, 78, 91, 104, 117, 130, 143, 156, 169, 182, 195, 208, 221, 234, 247, 260, 273, 286, 299, 312]\n",
      "[0, 14, 28, 42, 56, 70, 84, 98, 112, 126, 140, 154, 168, 182, 196, 210, 224, 238, 252, 266, 280, 294, 308, 322, 336]\n",
      "[0, 15, 30, 45, 60, 75, 90, 105, 120, 135, 150, 165, 180, 195, 210, 225, 240, 255, 270, 285, 300, 315, 330, 345, 360]\n",
      "[0, 16, 32, 48, 64, 80, 96, 112, 128, 144, 160, 176, 192, 208, 224, 240, 256, 272, 288, 304, 320, 336, 352, 368, 384]\n",
      "[0, 17, 34, 51, 68, 85, 102, 119, 136, 153, 170, 187, 204, 221, 238, 255, 272, 289, 306, 323, 340, 357, 374, 391, 408]\n",
      "[0, 18, 36, 54, 72, 90, 108, 126, 144, 162, 180, 198, 216, 234, 252, 270, 288, 306, 324, 342, 360, 378, 396, 414, 432]\n",
      "[0, 19, 38, 57, 76, 95, 114, 133, 152, 171, 190, 209, 228, 247, 266, 285, 304, 323, 342, 361, 380, 399, 418, 437, 456]\n",
      "[0, 20, 40, 60, 80, 100, 120, 140, 160, 180, 200, 220, 240, 260, 280, 300, 320, 340, 360, 380, 400, 420, 440, 460, 480]\n",
      "[0, 21, 42, 63, 84, 105, 126, 147, 168, 189, 210, 231, 252, 273, 294, 315, 336, 357, 378, 399, 420, 441, 462, 483, 504]\n",
      "[0, 22, 44, 66, 88, 110, 132, 154, 176, 198, 220, 242, 264, 286, 308, 330, 352, 374, 396, 418, 440, 462, 484, 506, 528]\n",
      "[0, 23, 46, 69, 92, 115, 138, 161, 184, 207, 230, 253, 276, 299, 322, 345, 368, 391, 414, 437, 460, 483, 506, 529, 552]\n",
      "[0, 24, 48, 72, 96, 120, 144, 168, 192, 216, 240, 264, 288, 312, 336, 360, 384, 408, 432, 456, 480, 504, 528, 552, 576]\n",
      "[[0, 0, 0, 0, 0, 0, 0, 0, 0, 0, 0, 0, 0, 0, 0, 0, 0, 0, 0, 0, 0, 0, 0, 0, 0], [0, 1, 2, 3, 4, 5, 6, 7, 8, 9, 10, 11, 12, 13, 14, 15, 16, 17, 18, 19, 20, 21, 22, 23, 24], [0, 2, 4, 6, 8, 10, 12, 14, 16, 18, 20, 22, 24, 26, 28, 30, 32, 34, 36, 38, 40, 42, 44, 46, 48], [0, 3, 6, 9, 12, 15, 18, 21, 24, 27, 30, 33, 36, 39, 42, 45, 48, 51, 54, 57, 60, 63, 66, 69, 72], [0, 4, 8, 12, 16, 20, 24, 28, 32, 36, 40, 44, 48, 52, 56, 60, 64, 68, 72, 76, 80, 84, 88, 92, 96], [0, 5, 10, 15, 20, 25, 30, 35, 40, 45, 50, 55, 60, 65, 70, 75, 80, 85, 90, 95, 100, 105, 110, 115, 120], [0, 6, 12, 18, 24, 30, 36, 42, 48, 54, 60, 66, 72, 78, 84, 90, 96, 102, 108, 114, 120, 126, 132, 138, 144], [0, 7, 14, 21, 28, 35, 42, 49, 56, 63, 70, 77, 84, 91, 98, 105, 112, 119, 126, 133, 140, 147, 154, 161, 168], [0, 8, 16, 24, 32, 40, 48, 56, 64, 72, 80, 88, 96, 104, 112, 120, 128, 136, 144, 152, 160, 168, 176, 184, 192], [0, 9, 18, 27, 36, 45, 54, 63, 72, 81, 90, 99, 108, 117, 126, 135, 144, 153, 162, 171, 180, 189, 198, 207, 216], [0, 10, 20, 30, 40, 50, 60, 70, 80, 90, 100, 110, 120, 130, 140, 150, 160, 170, 180, 190, 200, 210, 220, 230, 240], [0, 11, 22, 33, 44, 55, 66, 77, 88, 99, 110, 121, 132, 143, 154, 165, 176, 187, 198, 209, 220, 231, 242, 253, 264], [0, 12, 24, 36, 48, 60, 72, 84, 96, 108, 120, 132, 144, 156, 168, 180, 192, 204, 216, 228, 240, 252, 264, 276, 288], [0, 13, 26, 39, 52, 65, 78, 91, 104, 117, 130, 143, 156, 169, 182, 195, 208, 221, 234, 247, 260, 273, 286, 299, 312], [0, 14, 28, 42, 56, 70, 84, 98, 112, 126, 140, 154, 168, 182, 196, 210, 224, 238, 252, 266, 280, 294, 308, 322, 336], [0, 15, 30, 45, 60, 75, 90, 105, 120, 135, 150, 165, 180, 195, 210, 225, 240, 255, 270, 285, 300, 315, 330, 345, 360], [0, 16, 32, 48, 64, 80, 96, 112, 128, 144, 160, 176, 192, 208, 224, 240, 256, 272, 288, 304, 320, 336, 352, 368, 384], [0, 17, 34, 51, 68, 85, 102, 119, 136, 153, 170, 187, 204, 221, 238, 255, 272, 289, 306, 323, 340, 357, 374, 391, 408], [0, 18, 36, 54, 72, 90, 108, 126, 144, 162, 180, 198, 216, 234, 252, 270, 288, 306, 324, 342, 360, 378, 396, 414, 432], [0, 19, 38, 57, 76, 95, 114, 133, 152, 171, 190, 209, 228, 247, 266, 285, 304, 323, 342, 361, 380, 399, 418, 437, 456], [0, 20, 40, 60, 80, 100, 120, 140, 160, 180, 200, 220, 240, 260, 280, 300, 320, 340, 360, 380, 400, 420, 440, 460, 480], [0, 21, 42, 63, 84, 105, 126, 147, 168, 189, 210, 231, 252, 273, 294, 315, 336, 357, 378, 399, 420, 441, 462, 483, 504], [0, 22, 44, 66, 88, 110, 132, 154, 176, 198, 220, 242, 264, 286, 308, 330, 352, 374, 396, 418, 440, 462, 484, 506, 528], [0, 23, 46, 69, 92, 115, 138, 161, 184, 207, 230, 253, 276, 299, 322, 345, 368, 391, 414, 437, 460, 483, 506, 529, 552], [0, 24, 48, 72, 96, 120, 144, 168, 192, 216, 240, 264, 288, 312, 336, 360, 384, 408, 432, 456, 480, 504, 528, 552, 576]]\n"
     ]
    }
   ],
   "source": [
    "NUM_ROWS = 25\n",
    "NUM_COLS = 25\n",
    "\n",
    "# construct a matrix\n",
    "my_matrix = []\n",
    "for row in range(NUM_ROWS):\n",
    "    new_row = []\n",
    "    for col in range(NUM_COLS):\n",
    "        new_row.append(row * col)\n",
    "    my_matrix.append(new_row)\n",
    " \n",
    "# print the matrix\n",
    "for row in my_matrix:\n",
    "    print(row)\n",
    "\n",
    "print(my_matrix)"
   ]
  },
  {
   "cell_type": "code",
   "execution_count": 47,
   "id": "26c268ec-d415-481f-8a31-54d6c39cfdd9",
   "metadata": {},
   "outputs": [],
   "source": [
    "def trace(my_matrix):\n",
    "    '''\n",
    "    Función para determinar la diagonal de una matriz\n",
    "    '''\n",
    "    suma = 0\n",
    "    for x in range(len(my_matrix)):\n",
    "        for y in range(len(my_matrix)):\n",
    "            if x == y:\n",
    "                suma = suma + my_matrix[x][y]\n",
    "    return suma"
   ]
  },
  {
   "cell_type": "code",
   "execution_count": 48,
   "id": "ea5b79b8-82c3-4769-91da-b4b055547e90",
   "metadata": {},
   "outputs": [
    {
     "data": {
      "text/plain": [
       "4900"
      ]
     },
     "execution_count": 48,
     "metadata": {},
     "output_type": "execute_result"
    }
   ],
   "source": [
    "trace(my_matrix)"
   ]
  },
  {
   "cell_type": "code",
   "execution_count": 27,
   "id": "33dcb6e0-cc06-4438-879b-bf933fea2976",
   "metadata": {},
   "outputs": [
    {
     "name": "stdout",
     "output_type": "stream",
     "text": [
      "{0: {0: 0, 1: 0, 2: 0, 3: 0, 4: 0, 5: 0, 6: 0, 7: 0, 8: 0}, 1: {0: 0, 1: 1, 2: 2, 3: 3, 4: 4, 5: 5, 6: 6, 7: 7, 8: 8}, 2: {0: 0, 1: 2, 2: 4, 3: 6, 4: 8, 5: 10, 6: 12, 7: 14, 8: 16}, 3: {0: 0, 1: 3, 2: 6, 3: 9, 4: 12, 5: 15, 6: 18, 7: 21, 8: 24}, 4: {0: 0, 1: 4, 2: 8, 3: 12, 4: 16, 5: 20, 6: 24, 7: 28, 8: 32}}\n",
      "0 0 0 0 0 0 0 0 0 \n",
      "0 1 2 3 4 5 6 7 8 \n",
      "0 2 4 6 8 10 12 14 16 \n",
      "0 3 6 9 12 15 18 21 24 \n",
      "0 4 8 12 16 20 24 28 32 \n"
     ]
    }
   ],
   "source": [
    "NUM_ROWS = 5\n",
    "NUM_COLS = 9\n",
    "\n",
    "# construct a matrix\n",
    "my_matrix = {}\n",
    "for row in range(NUM_ROWS):\n",
    "    row_dict = {}\n",
    "    for col in range(NUM_COLS):\n",
    "        row_dict[col] = row * col\n",
    "    my_matrix[row] = row_dict\n",
    "    \n",
    "print(my_matrix)\n",
    " \n",
    "# print the matrix\n",
    "for row in range(NUM_ROWS):\n",
    "    for col in range(NUM_COLS):\n",
    "        print(my_matrix[row][col], end = \" \")\n",
    "    print()"
   ]
  },
  {
   "cell_type": "code",
   "execution_count": null,
   "id": "a54ae2ec-5bc2-43de-bff2-43081206fbbf",
   "metadata": {},
   "outputs": [],
   "source": []
  }
 ],
 "metadata": {
  "kernelspec": {
   "display_name": "Python 3 (ipykernel)",
   "language": "python",
   "name": "python3"
  },
  "language_info": {
   "codemirror_mode": {
    "name": "ipython",
    "version": 3
   },
   "file_extension": ".py",
   "mimetype": "text/x-python",
   "name": "python",
   "nbconvert_exporter": "python",
   "pygments_lexer": "ipython3",
   "version": "3.11.2"
  }
 },
 "nbformat": 4,
 "nbformat_minor": 5
}
