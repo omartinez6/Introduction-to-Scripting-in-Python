{
 "cells": [
  {
   "cell_type": "markdown",
   "id": "0e234818-7a82-426e-8fec-e46aa29a465a",
   "metadata": {},
   "source": [
    "### Empty dictionary"
   ]
  },
  {
   "cell_type": "code",
   "execution_count": 1,
   "id": "350e994c-5da3-48eb-a26b-a1031446f308",
   "metadata": {},
   "outputs": [
    {
     "name": "stdout",
     "output_type": "stream",
     "text": [
      "<class 'dict'>\n",
      "{}\n"
     ]
    }
   ],
   "source": [
    "\"\"\"\n",
    "Template - Initialize a dictionary my_dict to be empty\n",
    "\"\"\"\n",
    "\n",
    "# Add code here\n",
    "\n",
    "my_dict = dict()\n",
    "\n",
    "# Tests\n",
    "print(type(my_dict))\n",
    "print(my_dict)\n",
    "\n",
    "# Output\n",
    "#<class 'dict'>\n",
    "#{}"
   ]
  },
  {
   "cell_type": "markdown",
   "id": "f2e6757c-0a12-493d-bf4d-2a424e7d2669",
   "metadata": {},
   "source": [
    "### Two key dictionary"
   ]
  },
  {
   "cell_type": "code",
   "execution_count": 2,
   "id": "fe2092c3-ccbc-4369-b003-d2449b5d5e98",
   "metadata": {},
   "outputs": [
    {
     "name": "stdout",
     "output_type": "stream",
     "text": [
      "<class 'dict'>\n",
      "1\n",
      "2\n",
      "{'Joe': 1, 'Scott': 2}\n"
     ]
    }
   ],
   "source": [
    "\"\"\"\n",
    "Template - Create a dictionary my_dict that contains \n",
    "two specified value/pairs \n",
    "\"\"\"\n",
    "\n",
    "# Add code here\n",
    "\n",
    "my_dict = {'Joe':1,'Scott':2}\n",
    "\n",
    "# Tests\n",
    "print(type(my_dict))\n",
    "print(my_dict[\"Joe\"])\n",
    "print(my_dict[\"Scott\"])\n",
    "print(my_dict)\n",
    "\n",
    "# Output - note that order of key/values pairs in output is unimportant\n",
    "#<class 'dict'>\n",
    "#1\n",
    "#2\n",
    "#???"
   ]
  },
  {
   "cell_type": "markdown",
   "id": "06b4ee5b-fc11-466d-8f49-fbc37856d958",
   "metadata": {},
   "source": [
    "### Add key/value"
   ]
  },
  {
   "cell_type": "code",
   "execution_count": 3,
   "id": "9a474a84-336b-4ddb-8fae-50aaeac6f910",
   "metadata": {},
   "outputs": [
    {
     "name": "stdout",
     "output_type": "stream",
     "text": [
      "<class 'dict'>\n",
      "1\n",
      "2\n",
      "3\n",
      "{'Joe': 1, 'Scott': 2, 'John': 3}\n"
     ]
    }
   ],
   "source": [
    "\"\"\"\n",
    "Template - Add the specified key/value pair to an\n",
    "existing dictionary my_dict\n",
    "\"\"\"\n",
    "\n",
    "# Initialize dictionary\n",
    "my_dict = {\"Joe\" : 1, \"Scott\" : 2}\n",
    "\n",
    "# Add key/value pair \"John\" : 3\n",
    "\n",
    "my_dict['John'] = 3\n",
    "\n",
    "# Tests\n",
    "print(type(my_dict))\n",
    "print(my_dict[\"Joe\"])\n",
    "print(my_dict[\"Scott\"])\n",
    "print(my_dict[\"John\"])\n",
    "print(my_dict)\n",
    "\n",
    "# Output - note that order of key/values pairs in output is unimportant\n",
    "#<class 'dict'>\n",
    "#1\n",
    "#2\n",
    "#3\n",
    "#{'Scott': 2, 'John': 3, 'Joe': 1}"
   ]
  },
  {
   "cell_type": "markdown",
   "id": "1cc9b4f6-9e15-471d-8270-24d6aa296745",
   "metadata": {},
   "source": [
    "### Contains key"
   ]
  },
  {
   "cell_type": "code",
   "execution_count": 4,
   "id": "f69e0dc8-0010-46c4-a321-aafea97dac4b",
   "metadata": {},
   "outputs": [
    {
     "name": "stdout",
     "output_type": "stream",
     "text": [
      "True\n",
      "True\n",
      "False\n"
     ]
    }
   ],
   "source": [
    "\"\"\"\n",
    "Template - Write an expression that determines whether\n",
    "a key is in a dictionary\n",
    "\"\"\"\n",
    "\n",
    "# Initialize dictionary\n",
    "my_dict = {\"Joe\" : 1, \"Scott\" : 2, \"John\" : 3}\n",
    "\n",
    "# Print True/False depending on whether the key \"Joe\" is in my_dict\n",
    "\n",
    "print('Joe' in my_dict)\n",
    "\n",
    "# Print True/False depending on whether the key \"John\" is in my_dict\n",
    "\n",
    "print('John' in my_dict)\n",
    "\n",
    "# Print True/False depending on whether the key \"Stephen\" is in my_dict\n",
    "\n",
    "print('Stephen' in my_dict)\n",
    "\n",
    "# Output\n",
    "#True\n",
    "#True\n",
    "#False"
   ]
  },
  {
   "cell_type": "markdown",
   "id": "39b9f47b-5b7b-446a-a2d0-341cc3f5c6c6",
   "metadata": {},
   "source": [
    "### Is empty"
   ]
  },
  {
   "cell_type": "code",
   "execution_count": 5,
   "id": "91cd3a35-be58-486f-8921-ce542b76ff53",
   "metadata": {},
   "outputs": [
    {
     "name": "stdout",
     "output_type": "stream",
     "text": [
      "True\n",
      "False\n",
      "False\n"
     ]
    }
   ],
   "source": [
    "\"\"\"\n",
    "Solution - Write a function is_empty(my_dict) that\n",
    "returns True if a dictionary is empty and False otherwise\n",
    "\"\"\"\n",
    "\n",
    "\n",
    "def is_empty(my_dict):\n",
    "    \"\"\"\n",
    "    Given a dictionary my_dict, return True if the \n",
    "    dictionary is empty and False otherwise\n",
    "    \"\"\"\n",
    "    \n",
    "    # Enter code here\n",
    "    if my_dict == {}:\n",
    "        return True\n",
    "    else:\n",
    "        return False\n",
    "\n",
    "# Testing code\n",
    "print(is_empty({}))\n",
    "print(is_empty({0 : 1}))\n",
    "print(is_empty({\"Joe\" : 1, \"Scott\" : 2}))\n",
    "\n",
    "# Output\n",
    "#True\n",
    "#False\n",
    "#False"
   ]
  },
  {
   "cell_type": "markdown",
   "id": "09bb924b-ce79-499c-9598-94b3a17d545d",
   "metadata": {},
   "source": [
    "### Value sum"
   ]
  },
  {
   "cell_type": "code",
   "execution_count": 6,
   "id": "0f0850db-17bf-4c03-923b-eb6fc5d4b381",
   "metadata": {},
   "outputs": [
    {
     "name": "stdout",
     "output_type": "stream",
     "text": [
      "0\n",
      "1\n",
      "7\n"
     ]
    }
   ],
   "source": [
    "\"\"\"\n",
    "Template - Write a function value_sum(my_dict) that\n",
    "returns the sum of the values in a dictionary\n",
    "\"\"\"\n",
    "\n",
    "\n",
    "def value_sum(my_dict):\n",
    "    \"\"\"\n",
    "    Given a dictionary my_dict whose values are numbers, return \n",
    "    the sums of the values in my_dict\n",
    "    \"\"\"\n",
    "    \n",
    "    # Enter code here\n",
    "    sum = 0\n",
    "    if is_empty(my_dict):\n",
    "        return sum\n",
    "    else:\n",
    "        for key in my_dict:\n",
    "            sum = sum + my_dict[key]\n",
    "    return sum\n",
    "\n",
    "# Testing code\n",
    "print(value_sum({}))\n",
    "print(value_sum({0 : 1}))\n",
    "print(value_sum({\"Joe\" : 1, \"Scott\" : 2, \"John\" : 4}))\n",
    "\n",
    "# Output\n",
    "#0\n",
    "#1\n",
    "#7"
   ]
  },
  {
   "cell_type": "markdown",
   "id": "6633c8b8-8073-49c0-b4ca-93b6d2b6b411",
   "metadata": {},
   "source": [
    "### Make dictionary"
   ]
  },
  {
   "cell_type": "code",
   "execution_count": 7,
   "id": "fa407b38-a410-4ec4-bef8-88e9affc6a9c",
   "metadata": {},
   "outputs": [
    {
     "name": "stdout",
     "output_type": "stream",
     "text": [
      "{}\n",
      "{0: 1}\n",
      "{'Joe': 1, 'Scott': 2, 'John': 4}\n"
     ]
    }
   ],
   "source": [
    "\"\"\"\n",
    "Template - Write a function make_dict(key_value_list) that\n",
    "takes a list of tuples (key, value) and returns a \n",
    "dictionary with these keys and values\n",
    "\"\"\"\n",
    "\n",
    "\n",
    "def make_dict(key_value_list):\n",
    "    \"\"\"\n",
    "    Given a list of tuples of the form (key, value), \n",
    "    return a dictionary with the corresponding keys and values\n",
    "    \"\"\"\n",
    "    \n",
    "    # Enter code here\n",
    "    my_dict = dict(key_value_list)\n",
    "    return my_dict\n",
    "\n",
    "# Testing code\n",
    "print(make_dict([]))\n",
    "print(make_dict([(0, 1)]))\n",
    "print(make_dict([(\"Joe\", 1), (\"Scott\", 2), (\"John\", 4)]))\n",
    "\n",
    "# Output\n",
    "#{}\n",
    "#{0: 1}\n",
    "#{'John': 4, 'Joe': 1, 'Scott': 2}"
   ]
  },
  {
   "cell_type": "markdown",
   "id": "95fe3b2f-9cd7-470d-af7f-6ab19e2855f4",
   "metadata": {},
   "source": [
    "### Encrypt"
   ]
  },
  {
   "cell_type": "code",
   "execution_count": 8,
   "id": "0807d03c-8495-45b5-a652-95c89743409e",
   "metadata": {},
   "outputs": [
    {
     "name": "stdout",
     "output_type": "stream",
     "text": [
      "Output for part 1\n",
      "vif\n",
      "hunnybtygnd\n",
      "\n"
     ]
    }
   ],
   "source": [
    "\"\"\"\n",
    "Template for part 1\n",
    "Using substitution ciphers to encrypt and decrypt plain text\n",
    "\"\"\"\n",
    "\n",
    "\n",
    "# Part 1 - Use a dictionary that represents a substition cipher to \n",
    "# encrypt a phrase\n",
    "\n",
    "# Example of a cipher dictionary 26 lower case letters plus the blank\n",
    "CIPHER_DICT = {'e': 'u', 'b': 's', 'k': 'x', 'u': 'q', 'y': 'c', 'm': 'w', 'o': 'y', 'g': 'f', 'a': 'm', 'x': 'j', 'l': 'n', 's': 'o', 'r': 'g', 'i': 'i', 'j': 'z', 'c': 'k', 'f': 'p', ' ': 'b', 'q': 'r', 'z': 'e', 'p': 'v', 'v': 'l', 'h': 'h', 'd': 'd', 'n': 'a', 't': ' ', 'w': 't'}\n",
    "\n",
    "def encrypt(phrase, cipher_dict):\n",
    "    \"\"\"\n",
    "    Take a string phrase (lower case plus blank) \n",
    "    and encypt it using the dictionary cipher_dict\n",
    "    \"\"\"\n",
    "    crypt = ''\n",
    "    \n",
    "    for letter in phrase:\n",
    "        crypt = crypt + cipher_dict[letter]\n",
    "    \n",
    "    return crypt\n",
    "\n",
    "# Tests\n",
    "print(\"Output for part 1\")\n",
    "print(encrypt(\"pig\", CIPHER_DICT))\n",
    "print(encrypt(\"hello world\", CIPHER_DICT))\n",
    "print()\n",
    "\n",
    "# Output for part 1\n",
    "#vif\n",
    "#hunnybtygnd"
   ]
  },
  {
   "cell_type": "markdown",
   "id": "90a76166-abd0-44f7-8f3e-888786ca14ba",
   "metadata": {},
   "source": [
    "## Challenge\n",
    "### Make decipher"
   ]
  },
  {
   "cell_type": "code",
   "execution_count": 14,
   "id": "69320cf7-ef69-4af3-b6b1-fb3a015cfa4c",
   "metadata": {},
   "outputs": [
    {
     "name": "stdout",
     "output_type": "stream",
     "text": [
      "Output for part 1\n",
      "vif\n",
      "hunnybtygnd\n",
      "\n",
      "Output for part 2\n",
      "{'u': 'e', 's': 'b', 'x': 'k', 'q': 'u', 'c': 'y', 'w': 'm', 'y': 'o', 'f': 'g', 'm': 'a', 'j': 'x', 'n': 'l', 'o': 's', 'g': 'r', 'i': 'i', 'z': 'j', 'k': 'c', 'p': 'f', 'b': ' ', 'r': 'q', 'e': 'z', 'v': 'p', 'l': 'v', 'h': 'h', 'd': 'd', 'a': 'n', ' ': 't', 't': 'w'}\n",
      "pig\n",
      "hello world\n",
      "\n"
     ]
    }
   ],
   "source": [
    "\"\"\"\n",
    "Solution for part 1, template for part 2\n",
    "Using substitution ciphers to encrypt and decrypt plain text\n",
    "\"\"\"\n",
    "\n",
    "\n",
    "# Part 1 - Use a dictionary that represents a substition cipher to \n",
    "# encrypt a phrase\n",
    "\n",
    "# Example of a cipher dictionary 26 lower case letters plus the blank\n",
    "CIPHER_DICT = {'e': 'u', 'b': 's', 'k': 'x', 'u': 'q', 'y': 'c', 'm': 'w', 'o': 'y', 'g': 'f', 'a': 'm', 'x': 'j', 'l': 'n', 's': 'o', 'r': 'g', 'i': 'i', 'j': 'z', 'c': 'k', 'f': 'p', ' ': 'b', 'q': 'r', 'z': 'e', 'p': 'v', 'v': 'l', 'h': 'h', 'd': 'd', 'n': 'a', 't': ' ', 'w': 't'}\n",
    "\n",
    "def encrypt(phrase, cipher_dict):\n",
    "    \"\"\"\n",
    "    Take a string phrase (lower case plus blank) \n",
    "    and encypt it using the dictionary cipher_dict\n",
    "    \"\"\"\n",
    "    crypt = ''\n",
    "    \n",
    "    for letter in phrase:\n",
    "        crypt = crypt + cipher_dict[letter]\n",
    "    \n",
    "    return crypt\n",
    "\n",
    "# Tests\n",
    "print(\"Output for part 1\")\n",
    "print(encrypt(\"pig\", CIPHER_DICT))\n",
    "print(encrypt(\"hello world\", CIPHER_DICT))\n",
    "print()\n",
    "\n",
    "# Output for part 1\n",
    "#vif\n",
    "#hunnybtygnd\n",
    "\n",
    "\n",
    "\n",
    "# Part 2 - Compute an inverse substitution cipher that decrypts\n",
    "# an encrypted phrase\n",
    "\n",
    "def make_decipher_dict(cipher_dict):\n",
    "    \"\"\"\n",
    "    Take a cipher dictionary and return the cipher\n",
    "    dictionary that undoes the cipher\n",
    "    \"\"\"\n",
    "    decipher = {}\n",
    "    for key in cipher_dict:\n",
    "        decipher[cipher_dict[key]] = key\n",
    "    \n",
    "    return decipher\n",
    "\n",
    "DECIPHER_DICT = make_decipher_dict(CIPHER_DICT)\n",
    "\n",
    "# Tests - note that applying encrypting with the cipher and decipher dicts\n",
    "# should return the original results\n",
    "print(\"Output for part 2\")\n",
    "print(DECIPHER_DICT)\n",
    "print(encrypt(encrypt(\"pig\", CIPHER_DICT), DECIPHER_DICT))\t\t\t      # Uncomment when testing\n",
    "print(encrypt(encrypt(\"hello world\", CIPHER_DICT), DECIPHER_DICT))\t# Uncomment when testing\n",
    "print()\n",
    "\n",
    "# Output for part 2 - note order of items in dictionary is not important\n",
    "#{'p': 'f', 'n': 'l', 'm': 'a', 'i': 'i', 'd': 'd', 'x': 'k', 'b': ' ', 'l': 'v', 'f': 'g', 'o': 's', 'u': 'e', 'a': 'n', 'c': 'y', 'r': 'q', 'e': 'z', 'k': 'c', 'w': 'm', 'g': 'r', 'y': 'o', ' ': 't', 'h': 'h', 'v': 'p', 'j': 'x', 'q': 'u', 't': 'w', 's': 'b', 'z': 'j'}\n",
    "#pig\n",
    "#hello world"
   ]
  },
  {
   "cell_type": "markdown",
   "id": "3293048c-dfb2-4b27-b597-91d1ca6a6049",
   "metadata": {},
   "source": [
    "### Make cipher"
   ]
  },
  {
   "cell_type": "code",
   "execution_count": 15,
   "id": "11fa1fe9-307b-4175-9e7a-0a54a4791426",
   "metadata": {},
   "outputs": [
    {
     "name": "stdout",
     "output_type": "stream",
     "text": [
      "Output for part 1\n",
      "vif\n",
      "hunnybtygnd\n",
      "\n",
      "Output for part 2\n",
      "{'u': 'e', 's': 'b', 'x': 'k', 'q': 'u', 'c': 'y', 'w': 'm', 'y': 'o', 'f': 'g', 'm': 'a', 'j': 'x', 'n': 'l', 'o': 's', 'g': 'r', 'i': 'i', 'z': 'j', 'k': 'c', 'p': 'f', 'b': ' ', 'r': 'q', 'e': 'z', 'v': 'p', 'l': 'v', 'h': 'h', 'd': 'd', 'a': 'n', ' ': 't', 't': 'w'}\n",
      "pig\n",
      "hello world\n",
      "\n",
      "Output for part 3\n",
      "{}\n",
      "{'c': 'a', 'a': 'c', 't': 't'}\n",
      "{'a': 'i', 'b': 'f', 'c': 'g', 'd': 'n', 'e': 'b', 'f': 'm', 'g': 'h', 'h': 'z', 'i': 'u', 'j': 'o', 'k': 'y', 'l': 'v', 'm': 'j', 'n': 'l', 'o': 'd', 'p': 'a', 'q': 'q', 'r': 'x', 's': 'r', 't': 'p', 'u': 'w', 'v': ' ', 'w': 't', 'x': 'k', 'y': 'c', 'z': 'e', ' ': 's'}\n"
     ]
    }
   ],
   "source": [
    "\"\"\"\n",
    "Solution for parts 1-2, Template for part 3\n",
    "Using substitution ciphers to encrypt and decrypt plain text\n",
    "\"\"\"\n",
    "\n",
    "\n",
    "# Part 1 - Use a dictionary that represents a substition cipher to \n",
    "# encrypt a phrase\n",
    "\n",
    "# Example of a cipher dictionary 26 lower case letters plus the blank\n",
    "CIPHER_DICT = {'e': 'u', 'b': 's', 'k': 'x', 'u': 'q', 'y': 'c', 'm': 'w', 'o': 'y', 'g': 'f', 'a': 'm', 'x': 'j', 'l': 'n', 's': 'o', 'r': 'g', 'i': 'i', 'j': 'z', 'c': 'k', 'f': 'p', ' ': 'b', 'q': 'r', 'z': 'e', 'p': 'v', 'v': 'l', 'h': 'h', 'd': 'd', 'n': 'a', 't': ' ', 'w': 't'}\n",
    "\n",
    "def encrypt(phrase, cipher_dict):\n",
    "    \"\"\"\n",
    "    Take a string phrase (lower case plus blank) \n",
    "    and encypt it using the dictionary cipher_dict\n",
    "    \"\"\"\n",
    "    crypt = ''\n",
    "    \n",
    "    for letter in phrase:\n",
    "        crypt = crypt + cipher_dict[letter]\n",
    "    \n",
    "    return crypt\n",
    "\n",
    "# Tests\n",
    "print(\"Output for part 1\")\n",
    "print(encrypt(\"pig\", CIPHER_DICT))\n",
    "print(encrypt(\"hello world\", CIPHER_DICT))\n",
    "print()\n",
    "\n",
    "# Output for part 1\n",
    "#vif\n",
    "#hunnybtygnd\n",
    "\n",
    "\n",
    "\n",
    "\n",
    "\n",
    "\n",
    "# Part 2 - Compute an inverse substitution cipher that decrypts\n",
    "# an encrypted phrase\n",
    "\n",
    "def make_decipher_dict(cipher_dict):\n",
    "    \"\"\"\n",
    "    Take a cipher dictionary and return the cipher\n",
    "    dictionary that undoes the cipher\n",
    "    \"\"\"\n",
    "    decipher = {}\n",
    "    for key in cipher_dict:\n",
    "        decipher[cipher_dict[key]] = key\n",
    "    \n",
    "    return decipher\n",
    "\n",
    "DECIPHER_DICT = make_decipher_dict(CIPHER_DICT)\n",
    "\n",
    "# Tests - note that applying encrypting with the cipher and decipher dicts\n",
    "# should return the original results\n",
    "print(\"Output for part 2\")\n",
    "print(DECIPHER_DICT)\n",
    "print(encrypt(encrypt(\"pig\", CIPHER_DICT), DECIPHER_DICT))\n",
    "print(encrypt(encrypt(\"hello world\", CIPHER_DICT), DECIPHER_DICT))\n",
    "print()\n",
    "\n",
    "# Output for part 2 - note order of items in dictionary is not important\n",
    "#{'p': 'f', 'n': 'l', 'm': 'a', 'i': 'i', 'd': 'd', 'x': 'k', 'b': ' ', 'l': 'v', 'f': 'g', 'o': 's', 'u': 'e', 'a': 'n', 'c': 'y', 'r': 'q', 'e': 'z', 'k': 'c', 'w': 'm', 'g': 'r', 'y': 'o', ' ': 't', 'h': 'h', 'v': 'p', 'j': 'x', 'q': 'u', 't': 'w', 's': 'b', 'z': 'j'}\n",
    "#pig\n",
    "#hello world\n",
    "\n",
    "\n",
    "\n",
    "\n",
    "\n",
    "# Part 3 - Create a random cipher dictionary\n",
    "\n",
    "import random\n",
    "\n",
    "def make_cipher_dict(alphabet):\n",
    "    \"\"\"\n",
    "    Given a string of unique characters, compute a random \n",
    "    cipher dictionary for these characters\n",
    "    \"\"\"\n",
    "    letters= list(alphabet)\n",
    "    shuffled_letters = list(alphabet)\n",
    "    random.shuffle(shuffled_letters)\n",
    "    \n",
    "    cipher_dict = {}\n",
    "    for idx in range(len(alphabet)):\n",
    "        letter = letters[idx]\n",
    "        shuffled_letter = shuffled_letters[idx]\n",
    "        cipher_dict[letter] = shuffled_letter\n",
    "    return cipher_dict\n",
    "\n",
    "# Tests\n",
    "print(\"Output for part 3\")\n",
    "print(make_cipher_dict(\"\"))\n",
    "print(make_cipher_dict(\"cat\"))\n",
    "print(make_cipher_dict(\"abcdefghijklmnopqrstuvwxyz \"))\n",
    "\n",
    "# Output for part 3 -  note that answers are randomized\n",
    "#{}\n",
    "#{'a': 'a', 't': 'c', 'c': 't'}\n",
    "#{'a': 'h', 'l': 'u', 'u': 'q', 'b': 'v', 'y': 'a', 'm': 'r', 'p': 'j', 'k': 'e', 'n': 'p', 't': 'x', 'd': 'o', 'c': 'c', 'w': ' ', 'f': 'd', 'r': 'z', 'v': 'l', 's': 'y', 'e': 'b', 'o': 'i', 'x': 'm', 'h': 's', 'i': 'w', 'q': 'g', 'g': 'n', 'j': 'f', 'z': 'k', ' ': 't'}"
   ]
  },
  {
   "cell_type": "markdown",
   "id": "415921dc-b054-421f-98d0-d36b84188b5c",
   "metadata": {},
   "source": [
    "## Exam"
   ]
  },
  {
   "cell_type": "code",
   "execution_count": 24,
   "id": "46acc147-0c0e-48bb-9b09-a7f1faa1527d",
   "metadata": {},
   "outputs": [],
   "source": [
    "def count_letters(word_list):\n",
    "    \"\"\" See question description \"\"\"\n",
    "    \n",
    "    ALPHABET = \"abcdefghijklmnopqrstuvwxyz\"\n",
    "\n",
    "    letter_count = {}\n",
    "    for word in word_list:\n",
    "        for letter in word:\n",
    "            if letter in letter_count:\n",
    "                letter_count[letter] = letter_count[letter] + 1\n",
    "            else:\n",
    "                letter_count[letter] = 1\n",
    "    return letter_count"
   ]
  },
  {
   "cell_type": "code",
   "execution_count": 25,
   "id": "682c248c-d329-4e7d-a0f9-36ae6bb05c41",
   "metadata": {},
   "outputs": [
    {
     "data": {
      "text/plain": [
       "{'l': 3,\n",
       " 'i': 12,\n",
       " 's': 17,\n",
       " 't': 11,\n",
       " 'e': 20,\n",
       " 'n': 13,\n",
       " 'r': 13,\n",
       " 'a': 11,\n",
       " 'g': 4,\n",
       " 'w': 3,\n",
       " 'o': 14,\n",
       " 'm': 11,\n",
       " 'y': 3,\n",
       " 'p': 3,\n",
       " 'd': 5,\n",
       " 'b': 2,\n",
       " 'u': 4,\n",
       " 'f': 6,\n",
       " 'v': 3,\n",
       " 'x': 1,\n",
       " 'c': 5,\n",
       " 'h': 1,\n",
       " 'q': 1}"
      ]
     },
     "execution_count": 25,
     "metadata": {},
     "output_type": "execute_result"
    }
   ],
   "source": [
    "monty_quote = \"listen strange women lying in ponds distributing swords is no basis for a system of government supreme executive power derives from a mandate from the masses not from some farcical aquatic ceremony\"\n",
    "monty_words = monty_quote.split(\" \")\n",
    "count_letters(monty_words)"
   ]
  },
  {
   "cell_type": "code",
   "execution_count": null,
   "id": "32a80b0c-9fa1-4600-afd0-e7502101b924",
   "metadata": {},
   "outputs": [],
   "source": []
  }
 ],
 "metadata": {
  "kernelspec": {
   "display_name": "Python 3 (ipykernel)",
   "language": "python",
   "name": "python3"
  },
  "language_info": {
   "codemirror_mode": {
    "name": "ipython",
    "version": 3
   },
   "file_extension": ".py",
   "mimetype": "text/x-python",
   "name": "python",
   "nbconvert_exporter": "python",
   "pygments_lexer": "ipython3",
   "version": "3.11.2"
  }
 },
 "nbformat": 4,
 "nbformat_minor": 5
}
