{
 "cells": [
  {
   "cell_type": "markdown",
   "id": "8a8428db-43b2-45af-86ed-1c068cb43cbb",
   "metadata": {},
   "source": [
    "### Problem 1: Computing the number of days in a month"
   ]
  },
  {
   "cell_type": "code",
   "execution_count": null,
   "id": "d05664cd-3beb-4005-bfb9-a49c3b0cc99c",
   "metadata": {},
   "outputs": [],
   "source": [
    "def days_in_month(year, month):\n",
    "    \"\"\"\n",
    "    Inputs:\n",
    "      year  - an integer between datetime.MINYEAR and datetime.MAXYEAR\n",
    "              representing the year\n",
    "      month - an integer between 1 and 12 representing the month\n",
    "      \n",
    "    Returns:\n",
    "      The number of days in the input month.\n",
    "    \"\"\""
   ]
  },
  {
   "cell_type": "markdown",
   "id": "3453db4f-5cc6-4167-b842-1340d79f0209",
   "metadata": {},
   "source": [
    "### Problem 2: Checking if a date is valid"
   ]
  },
  {
   "cell_type": "code",
   "execution_count": null,
   "id": "219d7eff-4411-4c29-bc66-02187f9f46af",
   "metadata": {},
   "outputs": [],
   "source": [
    "def is_valid_date(year, month, day):\n",
    "    \"\"\"\n",
    "    Inputs:\n",
    "      year  - an integer representing the year\n",
    "      month - an integer representing the month\n",
    "      day   - an integer representing the day\n",
    "      \n",
    "    Returns:\n",
    "      True if year-month-day is a valid date and\n",
    "      False otherwise\n",
    "    \"\"\""
   ]
  },
  {
   "cell_type": "markdown",
   "id": "9439206f-9115-44f9-85ff-2a661bd6471b",
   "metadata": {},
   "source": [
    "### Problem 3: Computing the number of days between two dates"
   ]
  },
  {
   "cell_type": "code",
   "execution_count": null,
   "id": "a56cb315-3547-4373-b6fc-c7fa2265fee6",
   "metadata": {},
   "outputs": [],
   "source": [
    "def days_between(year1, month1, day1, year2, month2, day2):\n",
    "    \"\"\"\n",
    "    Inputs:\n",
    "      year1  - an integer representing the year of the first date\n",
    "      month1 - an integer representing the month of the first date\n",
    "      day1   - an integer representing the day of the first date\n",
    "      year2  - an integer representing the year of the second date\n",
    "      month2 - an integer representing the month of the second date\n",
    "      day2   - an integer representing the day of the second date\n",
    "      \n",
    "    Returns:\n",
    "      The number of days from the first date to the second date.\n",
    "      Returns 0 if either date is invalid or the second date is \n",
    "      before the first date.\n",
    "    \"\"\""
   ]
  },
  {
   "cell_type": "markdown",
   "id": "b37a3174-93b9-4ada-bac4-e7717e73267f",
   "metadata": {},
   "source": [
    "### Problem 4: Calculating a person's age in days"
   ]
  },
  {
   "cell_type": "code",
   "execution_count": null,
   "id": "2eab0e33-5d14-4e3f-96ff-cc0b6a1195aa",
   "metadata": {},
   "outputs": [],
   "source": [
    "def age_in_days(year, month, day):\n",
    "    \"\"\"\n",
    "    Inputs:\n",
    "      year  - an integer representing the birthday year\n",
    "      month - an integer representing the birthday month\n",
    "      day   - an integer representing the birthday day\n",
    "      \n",
    "    Returns:\n",
    "      The age of a person with the input birthday as of today.\n",
    "      Returns 0 if the input date is invalid of if the input\n",
    "      date is in the future.\n",
    "    \"\"\""
   ]
  }
 ],
 "metadata": {
  "kernelspec": {
   "display_name": "Python 3 (ipykernel)",
   "language": "python",
   "name": "python3"
  },
  "language_info": {
   "codemirror_mode": {
    "name": "ipython",
    "version": 3
   },
   "file_extension": ".py",
   "mimetype": "text/x-python",
   "name": "python",
   "nbconvert_exporter": "python",
   "pygments_lexer": "ipython3",
   "version": "3.11.2"
  }
 },
 "nbformat": 4,
 "nbformat_minor": 5
}
