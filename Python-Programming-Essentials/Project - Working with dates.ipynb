{
 "cells": [
  {
   "cell_type": "code",
   "execution_count": 1,
   "id": "5a164f8e-3554-45bb-887a-8125744e0afe",
   "metadata": {},
   "outputs": [],
   "source": [
    "import datetime"
   ]
  },
  {
   "cell_type": "markdown",
   "id": "8a8428db-43b2-45af-86ed-1c068cb43cbb",
   "metadata": {},
   "source": [
    "### Problem 1: Computing the number of days in a month\n",
    "First, you will write a function called days_in_month that takes two integers: a year and a month. The function should return the number of days in that month. You may assume that both inputs are valid (in other words, you do not need to write any code to check whether or not they are reasonable, you can just assume that the month input is a number between 1 and 12 and the year input is a number between datetime.MINYEAR and datetime.MAXYEAR).\n",
    "\n",
    "#### Hints:\n",
    "\n",
    "1. You do not need to check that the inputs are within the proper ranges. You can assume that any function that calls this one will already have checked that.\n",
    "2. For this and all subsequent problems, be sure to familiarize yourself with the datetime module and make use of the capabilities that it provides.\n",
    "3. One way in which to determine the number of days in a month is to subtract the first of the given month from the first of the next month. The result should be the number of days in the given month."
   ]
  },
  {
   "cell_type": "code",
   "execution_count": 30,
   "id": "d05664cd-3beb-4005-bfb9-a49c3b0cc99c",
   "metadata": {},
   "outputs": [
    {
     "name": "stdout",
     "output_type": "stream",
     "text": [
      "30\n"
     ]
    }
   ],
   "source": [
    "def days_in_month(year, month):\n",
    "    \"\"\"\n",
    "    Inputs:\n",
    "      year  - an integer between datetime.MINYEAR and datetime.MAXYEAR\n",
    "              representing the year\n",
    "      month - an integer between 1 and 12 representing the month\n",
    "      \n",
    "    Returns:\n",
    "      The number of days in the input month.\n",
    "    \"\"\"\n",
    "    if datetime.MINYEAR <= year <= datetime.MAXYEAR:\n",
    "        if month < 12:\n",
    "            diferencia = (datetime.date(year, month + 1, 1) - datetime.date(year, month, 1)).days\n",
    "        else:\n",
    "            diferencia = (datetime.date(year + 1, 1, 1) - datetime.date(year, month, 1)).days\n",
    "        return diferencia\n",
    "    else:\n",
    "        return 'Ingresa un año válido'\n",
    "\n",
    "print(days_in_month(2023,4))"
   ]
  },
  {
   "cell_type": "markdown",
   "id": "3453db4f-5cc6-4167-b842-1340d79f0209",
   "metadata": {},
   "source": [
    "### Problem 2: Checking if a date is valid\n",
    "Next, you will write a function called is_valid_date that takes three integers: a year, a month, and a day. The function should return True if that date is valid and False otherwise. This function should not assume that the inputs are valid. Rather, this function should check that all three inputs combine to form a valid date, with a year between datetime.MINYEAR and datetime.MAXYEAR, a month between 1 and 12, and a day between 1 and the number of days in the given month. Notice that the function days_in_month that you wrote for Part 1 will be useful here!\n",
    "\n",
    "#### Hints:\n",
    "\n",
    "1. Do not forget to make use of any function(s) that you have already written!\n",
    "2. This function should just consist of conditional checks that each input is in the proper range."
   ]
  },
  {
   "cell_type": "code",
   "execution_count": 38,
   "id": "219d7eff-4411-4c29-bc66-02187f9f46af",
   "metadata": {},
   "outputs": [
    {
     "data": {
      "text/plain": [
       "False"
      ]
     },
     "execution_count": 38,
     "metadata": {},
     "output_type": "execute_result"
    }
   ],
   "source": [
    "def is_valid_date(year, month, day):\n",
    "    \"\"\"\n",
    "    Inputs:\n",
    "      year  - an integer representing the year\n",
    "      month - an integer representing the month\n",
    "      day   - an integer representing the day\n",
    "      \n",
    "    Returns:\n",
    "      True if year-month-day is a valid date and\n",
    "      False otherwise\n",
    "    \"\"\"\n",
    "    if datetime.MINYEAR <= year <= datetime.MAXYEAR:\n",
    "        if 1 <= month <= 12:\n",
    "            if 1 <= day <= days_in_month(year, month):\n",
    "                return True\n",
    "    return False\n",
    "\n",
    "is_valid_date(2023,4,31)"
   ]
  },
  {
   "cell_type": "markdown",
   "id": "9439206f-9115-44f9-85ff-2a661bd6471b",
   "metadata": {},
   "source": [
    "### Problem 3: Computing the number of days between two dates\n",
    "Now that we have a way to check if a given date is valid, you will write a function called days_between that takes six integers (year1, month1, day1, year2, month2, day2) and returns the number of days from an earlier date (year1-month1-day1) to a later date (year2-month2-day2). If either date is invalid, the function should return 0. Notice that you already wrote a function to determine if a date is valid or not! If the second date is earlier than the first date, the function should also return 0.\n",
    "\n",
    "#### Hints:\n",
    "\n",
    "1. Be sure to first check that all of the inputs are valid. Do not repeat code. Make sure you reuse things that you have already written.\n",
    "2. Make sure to check the cases where the function is supposed to return 0."
   ]
  },
  {
   "cell_type": "code",
   "execution_count": 62,
   "id": "a56cb315-3547-4373-b6fc-c7fa2265fee6",
   "metadata": {},
   "outputs": [
    {
     "name": "stdout",
     "output_type": "stream",
     "text": [
      "0\n"
     ]
    }
   ],
   "source": [
    "def days_between(year1, month1, day1, year2, month2, day2):\n",
    "    \"\"\"\n",
    "    Inputs:\n",
    "      year1  - an integer representing the year of the first date\n",
    "      month1 - an integer representing the month of the first date\n",
    "      day1   - an integer representing the day of the first date\n",
    "      year2  - an integer representing the year of the second date\n",
    "      month2 - an integer representing the month of the second date\n",
    "      day2   - an integer representing the day of the second date\n",
    "      \n",
    "    Returns:\n",
    "      The number of days from the first date to the second date.\n",
    "      Returns 0 if either date is invalid or the second date is \n",
    "      before the first date.\n",
    "    \"\"\"\n",
    "    if (is_valid_date(year1, month1, day1) and is_valid_date(year2, month2, day2)) and datetime.date(year2, month2, day2) > datetime.date(year1, month1, day1):\n",
    "        return (datetime.date(year2, month2, day2) - datetime.date(year1, month1, day1)).days\n",
    "    else:\n",
    "        return 0\n",
    "\n",
    "print(days_between(2029,1,1,2028,2,1))"
   ]
  },
  {
   "cell_type": "markdown",
   "id": "b37a3174-93b9-4ada-bac4-e7717e73267f",
   "metadata": {},
   "source": [
    "### Problem 4: Calculating a person's age in days\n",
    "Finally, you will write a function called age_in_days that takes three integers as input: the year, month, and day of a persons birthday. The function should return that person's age in days as of today. The function should return 0 if the input date is invalid (remember you have a function to check that!). The function should also return 0 if the input date is in the future.\n",
    "\n",
    "Remember that you already have a function that returns the number of days between two dates that you wrote in Part 3. Which two dates could you pass to that function to solve this problem?"
   ]
  },
  {
   "cell_type": "code",
   "execution_count": 76,
   "id": "2eab0e33-5d14-4e3f-96ff-cc0b6a1195aa",
   "metadata": {},
   "outputs": [
    {
     "name": "stdout",
     "output_type": "stream",
     "text": [
      "1\n"
     ]
    }
   ],
   "source": [
    "def age_in_days(year, month, day):\n",
    "    \"\"\"\n",
    "    Inputs:\n",
    "      year  - an integer representing the birthday year\n",
    "      month - an integer representing the birthday month\n",
    "      day   - an integer representing the birthday day\n",
    "      \n",
    "    Returns:\n",
    "      The age of a person with the input birthday as of today.\n",
    "      Returns 0 if the input date is invalid of if the input\n",
    "      date is in the future.\n",
    "    \"\"\"\n",
    "    if is_valid_date(year, month, day) and (datetime.date(year, month, day) < datetime.date.today()):\n",
    "        return (datetime.date.today() - datetime.date(year, month, day)).days\n",
    "    else:\n",
    "        return 0\n",
    "    \n",
    "print(age_in_days(2023,4,5))"
   ]
  },
  {
   "cell_type": "code",
   "execution_count": null,
   "id": "12298a21-c273-499d-b3e5-92add4f09952",
   "metadata": {},
   "outputs": [],
   "source": []
  }
 ],
 "metadata": {
  "kernelspec": {
   "display_name": "Python 3 (ipykernel)",
   "language": "python",
   "name": "python3"
  },
  "language_info": {
   "codemirror_mode": {
    "name": "ipython",
    "version": 3
   },
   "file_extension": ".py",
   "mimetype": "text/x-python",
   "name": "python",
   "nbconvert_exporter": "python",
   "pygments_lexer": "ipython3",
   "version": "3.11.2"
  }
 },
 "nbformat": 4,
 "nbformat_minor": 5
}
