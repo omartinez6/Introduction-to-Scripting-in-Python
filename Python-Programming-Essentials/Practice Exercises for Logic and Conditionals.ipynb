{
 "cells": [
  {
   "cell_type": "markdown",
   "id": "f7abeff6-342d-417e-9a65-04082654f872",
   "metadata": {},
   "source": [
    "### Even"
   ]
  },
  {
   "cell_type": "code",
   "execution_count": 5,
   "id": "95e88f70-71ab-4541-95df-1afd55d5f74e",
   "metadata": {},
   "outputs": [
    {
     "name": "stdout",
     "output_type": "stream",
     "text": [
      "8 is even.\n",
      "3 is odd.\n",
      "12 is even.\n"
     ]
    }
   ],
   "source": [
    "\"\"\"\n",
    "Template - Compute whether an integer is even.\n",
    "\"\"\"\n",
    "\n",
    "###################################################\n",
    "# Is even formula\n",
    "# Student should enter function on the next lines.\n",
    "\n",
    "def is_even(number):\n",
    "    '''\n",
    "    Función que regresa True si el número es par y False si es impar\n",
    "    '''\n",
    "    return (number % 2) == 0\n",
    "\n",
    "###################################################\n",
    "# Tests\n",
    "# Student should not change this code.\n",
    "\n",
    "number = 8\n",
    "if is_even(number):\n",
    "    print(number, \"is even.\")\n",
    "else:\n",
    "    print(number, \"is odd.\")\n",
    "    \n",
    "number = 3\n",
    "if is_even(number):\n",
    "    print(number, \"is even.\")\n",
    "else:\n",
    "    print(number, \"is odd.\")\n",
    "    \n",
    "number = 12\n",
    "if is_even(number):\n",
    "    print(number, \"is even.\")\n",
    "else:\n",
    "    print(number, \"is odd.\")\n",
    "\n",
    "###################################################\n",
    "# Expected output\n",
    "# Student should look at the following comments and compare to printed output.\n",
    "\n",
    "#8 is even.\n",
    "#3 is odd.\n",
    "#12 is even."
   ]
  },
  {
   "cell_type": "markdown",
   "id": "cdb3510f-cb10-4577-a634-782bb6c36f19",
   "metadata": {},
   "source": [
    "### Cool"
   ]
  },
  {
   "cell_type": "code",
   "execution_count": 6,
   "id": "1c5c3b11-80e5-4d6c-8162-842ca8521abc",
   "metadata": {},
   "outputs": [
    {
     "name": "stdout",
     "output_type": "stream",
     "text": [
      "Joe is cool.\n",
      "John is cool.\n",
      "Stephen is cool.\n",
      "Scott is not cool.\n"
     ]
    }
   ],
   "source": [
    "\"\"\"\n",
    "Template - Compute whether a person is cool.\n",
    "\"\"\"\n",
    "\n",
    "###################################################\n",
    "# Is cool formula\n",
    "# Student should enter function on the next lines.\n",
    "\n",
    "def is_cool(name):\n",
    "    return name in ['Joe','Stephen','John']\n",
    "\n",
    "###################################################\n",
    "# Tests\n",
    "# Student should not change this code.\n",
    "\n",
    "name = \"Joe\"\n",
    "if is_cool(name):\n",
    "    print(name, \"is cool.\")\n",
    "else:\n",
    "    print(name, \"is not cool.\")\n",
    "\n",
    "name = \"John\"\n",
    "if is_cool(name):\n",
    "    print(name, \"is cool.\")\n",
    "else:\n",
    "    print(name, \"is not cool.\")\n",
    "    \n",
    "name = \"Stephen\"\n",
    "if is_cool(name):\n",
    "    print(name, \"is cool.\")\n",
    "else:\n",
    "    print(name, \"is not cool.\")\n",
    "    \n",
    "name = \"Scott\"\n",
    "if is_cool(name):\n",
    "    print(name, \"is cool.\")\n",
    "else:\n",
    "    print(name, \"is not cool.\")\n",
    "\n",
    "###################################################\n",
    "# Expected output\n",
    "# Student should look at the following comments and compare to printed output.\n",
    "\n",
    "#Joe is cool.\n",
    "#John is cool.\n",
    "#Stephen is cool.\n",
    "#Scott is not cool."
   ]
  },
  {
   "cell_type": "markdown",
   "id": "1a0f1822-f28d-4769-b741-3b6950b3c310",
   "metadata": {},
   "source": [
    "### Lunchtime"
   ]
  },
  {
   "cell_type": "code",
   "execution_count": 8,
   "id": "f3924a17-9b80-4bb6-b2c0-0d96cd092ede",
   "metadata": {},
   "outputs": [
    {
     "name": "stdout",
     "output_type": "stream",
     "text": [
      "11AM is lunchtime.\n",
      "12AM is not lunchtime.\n",
      "11PM is not lunchtime.\n",
      "12PM is lunchtime.\n",
      "10PM is not lunchtime.\n"
     ]
    }
   ],
   "source": [
    "\"\"\"\n",
    "Template - Compute whether the given time is lunchtime.\n",
    "\"\"\"\n",
    "\n",
    "###################################################\n",
    "# Is lunchtime formula\n",
    "# Student should enter function on the next lines.\n",
    "\n",
    "def is_lunchtime(hour, is_am):\n",
    "    return (hour == 11 and is_am == True) or (hour == 12 and is_am == False)\n",
    "\n",
    "###################################################\n",
    "# Tests\n",
    "# Student should not change this code.\n",
    "\n",
    "def is_lunchtime_test(hour, is_am):\n",
    "    \"\"\"Tests the is_lunchtime function.\"\"\"\n",
    "    print(hour, end = \"\")\n",
    "    if is_am:\n",
    "        print(\"AM\", end = \"\")\n",
    "    else:\n",
    "        print(\"PM\", end = \"\")\n",
    "    if is_lunchtime(hour, is_am):\n",
    "        print(\" is lunchtime.\")\n",
    "    else:\n",
    "        print(\" is not lunchtime.\")\n",
    "\n",
    "is_lunchtime_test(11, True)\n",
    "is_lunchtime_test(12, True)\n",
    "is_lunchtime_test(11, False)\n",
    "is_lunchtime_test(12, False)\n",
    "is_lunchtime_test(10, False)\n",
    "\n",
    "###################################################\n",
    "# Expected output\n",
    "# Student should look at the following comments and compare to printed output.\n",
    "\n",
    "#11 AM is lunchtime.\n",
    "#12 AM is not lunchtime.\n",
    "#11 PM is not lunchtime.\n",
    "#12 PM is lunchtime.\n",
    "#10 PM is not lunchtime."
   ]
  },
  {
   "cell_type": "markdown",
   "id": "a495b59f-79d5-4143-a12f-733c01b11a52",
   "metadata": {},
   "source": [
    "### Leap Year"
   ]
  },
  {
   "cell_type": "code",
   "execution_count": 9,
   "id": "ffe33a56-c660-4e82-b0b9-6d1b33c83ac1",
   "metadata": {},
   "outputs": [
    {
     "name": "stdout",
     "output_type": "stream",
     "text": [
      "2000 is a leap year.\n",
      "1996 is a leap year.\n",
      "1800 is not a leap year.\n",
      "2013 is not a leap year.\n"
     ]
    }
   ],
   "source": [
    "\"\"\"\n",
    "Template - Compute whether the given year is a leap year.\n",
    "\"\"\"\n",
    "\n",
    "###################################################\n",
    "# Is leapyear formula\n",
    "# Student should enter function on the next lines.\n",
    "\n",
    "def is_leap_year(year):\n",
    "    return (year % 100 != 0 and year % 4 == 0) or (year % 400 == 0)\n",
    "\n",
    "###################################################\n",
    "# Tests\n",
    "# Student should not change this code.\n",
    "\n",
    "year = 2000\n",
    "if is_leap_year(year):\n",
    "    print(year, \"is a leap year.\")\n",
    "else:\n",
    "    print(year, \"is not a leap year.\")\n",
    "    \n",
    "year = 1996\n",
    "if is_leap_year(year):\n",
    "    print(year, \"is a leap year.\")\n",
    "else:\n",
    "    print(year, \"is not a leap year.\")\n",
    "    \n",
    "year = 1800\n",
    "if is_leap_year(year):\n",
    "    print(year, \"is a leap year.\")\n",
    "else:\n",
    "    print(year, \"is not a leap year.\")\n",
    "    \n",
    "year = 2013\n",
    "if is_leap_year(year):\n",
    "    print(year, \"is a leap year.\")\n",
    "else:\n",
    "    print(year, \"is not a leap year.\")\n",
    "    \n",
    "###################################################\n",
    "# Expected output\n",
    "# Student should look at the following comments and compare to printed output.\n",
    "\n",
    "#2000 is a leap year.\n",
    "#1996 is a leap year.\n",
    "#1800 is not a leap year.\n",
    "#2013 is not a leap year."
   ]
  },
  {
   "cell_type": "markdown",
   "id": "94b2cc8b-66bd-46cd-a7f3-2650c3bd47a1",
   "metadata": {},
   "source": [
    "### Interval Intersect"
   ]
  },
  {
   "cell_type": "code",
   "execution_count": 12,
   "id": "da168dbd-b88a-4c6c-8ab1-f08f748b5f56",
   "metadata": {},
   "outputs": [
    {
     "name": "stdout",
     "output_type": "stream",
     "text": [
      "Intervals [0, 1] and [1, 2] intersect.\n",
      "Intervals [1, 2] and [0, 1] intersect.\n",
      "Intervals [0, 1] and [2, 3] do not intersect.\n",
      "Intervals [2, 3] and [0, 1] do not intersect.\n",
      "Intervals [0, 3] and [1, 2] intersect.\n"
     ]
    }
   ],
   "source": [
    "\"\"\"\n",
    "Template - Compute whether two intervals intersect.\n",
    "\"\"\"\n",
    "\n",
    "###################################################\n",
    "# Interval intersection formula\n",
    "# Student should enter function on the next lines.\n",
    "\n",
    "def interval_intersect(int1_lower, int1_upper, int2_lower, int2_upper):\n",
    "    return int1_upper >= int2_lower and int2_upper >= int1_lower\n",
    "\n",
    "###################################################\n",
    "# Tests\n",
    "# Student should not change this code.\n",
    "\n",
    "int1_lower, int1_upper, int2_lower, int2_upper = 0, 1, 1, 2\n",
    "print(\"Intervals [\" + str(int1_lower) + \", \" + str(int1_upper) + \"] and [\" + \n",
    "      str(int2_lower) + \", \" + str(int2_upper) + \"] \", end = \"\")\n",
    "if interval_intersect(int1_lower, int1_upper, int2_lower, int2_upper):\n",
    "    print(\"intersect.\")\n",
    "else:\n",
    "    print(\"do not intersect.\")\n",
    "    \n",
    "int1_lower, int1_upper, int2_lower, int2_upper = 1, 2, 0, 1\n",
    "print(\"Intervals [\" + str(int1_lower) + \", \" + str(int1_upper) + \"] and [\" + \n",
    "      str(int2_lower) + \", \" + str(int2_upper) + \"] \", end = \"\")\n",
    "if interval_intersect(int1_lower, int1_upper, int2_lower, int2_upper):\n",
    "    print(\"intersect.\")\n",
    "else:\n",
    "    print(\"do not intersect.\")\n",
    "    \n",
    "int1_lower, int1_upper, int2_lower, int2_upper = 0, 1, 2, 3\n",
    "print(\"Intervals [\" + str(int1_lower) + \", \" + str(int1_upper) + \"] and [\" + \n",
    "      str(int2_lower) + \", \" + str(int2_upper) + \"] \", end = \"\")\n",
    "if interval_intersect(int1_lower, int1_upper, int2_lower, int2_upper):\n",
    "    print(\"intersect.\")\n",
    "else:\n",
    "    print(\"do not intersect.\")\n",
    "    \n",
    "int1_lower, int1_upper, int2_lower, int2_upper = 2, 3, 0, 1\n",
    "print(\"Intervals [\" + str(int1_lower) + \", \" + str(int1_upper) + \"] and [\" + \n",
    "      str(int2_lower) + \", \" + str(int2_upper) + \"] \", end = \"\")\n",
    "if interval_intersect(int1_lower, int1_upper, int2_lower, int2_upper):\n",
    "    print(\"intersect.\")\n",
    "else:\n",
    "    print(\"do not intersect.\")\n",
    "    \n",
    "int1_lower, int1_upper, int2_lower, int2_upper = 0, 3, 1, 2\n",
    "print(\"Intervals [\" + str(int1_lower) + \", \" + str(int1_upper) + \"] and [\" + \n",
    "      str(int2_lower) + \", \" + str(int2_upper) + \"] \", end = \"\")\n",
    "if interval_intersect(int1_lower, int1_upper, int2_lower, int2_upper):\n",
    "    print(\"intersect.\")\n",
    "else:\n",
    "    print(\"do not intersect.\")\n",
    "    \n",
    "\n",
    "###################################################\n",
    "# Expected output\n",
    "# Student should look at the following comments and compare to printed output.\n",
    "\n",
    "#Intervals [0, 1] and [1, 2] intersect.\n",
    "#Intervals [1, 2] and [0, 1] intersect.\n",
    "#Intervals [0, 1] and [2, 3] do not intersect.\n",
    "#Intervals [2, 3] and [0, 1] do not intersect.\n",
    "#Intervals [0, 3] and [1, 2] intersect."
   ]
  },
  {
   "cell_type": "markdown",
   "id": "a728f137-e0e3-4a11-9e01-56355f41ad93",
   "metadata": {},
   "source": [
    "### Name and Age"
   ]
  },
  {
   "cell_type": "code",
   "execution_count": 13,
   "id": "6196de98-9e2a-4fc5-ae8c-dc3d1e5d87dc",
   "metadata": {},
   "outputs": [
    {
     "name": "stdout",
     "output_type": "stream",
     "text": [
      "Joe Warren is 56 year old\n",
      "Scott Rixner is 40 year old\n",
      "Error: Invalid age\n"
     ]
    }
   ],
   "source": [
    "\"\"\"\n",
    "Template - Compute the statement about a person's name and age, given the person's name and age.\n",
    "\"\"\"\n",
    "\n",
    "###################################################\n",
    "# Name and age formula\n",
    "# Student should enter function on the next lines.\n",
    "\n",
    "def name_and_age(name, age):\n",
    "    if age < 0:\n",
    "        return 'Error: Invalid age'\n",
    "    else:\n",
    "        return name + ' is ' + str(age) + ' year old'\n",
    "\n",
    "###################################################\n",
    "# Tests\n",
    "# Student should not change this code.\n",
    "\n",
    "name, age = \"Joe Warren\", 56\n",
    "print(name_and_age(name, age))\n",
    "\n",
    "name, age = \"Scott Rixner\", 40\n",
    "print(name_and_age(name, age))\n",
    "\n",
    "name, age = \"John Greiner\", -46\n",
    "print(name_and_age(name, age))\n",
    "\n",
    "\n",
    "\n",
    "###################################################\n",
    "# Expected output\n",
    "# Student should look at the following comments and compare to printed output.\n",
    "\n",
    "#Joe Warren is 56 years old.\n",
    "#Scott Rixner is 40 years old.\n",
    "#Error: Invalid age"
   ]
  },
  {
   "cell_type": "markdown",
   "id": "f897dd95-2939-4c5e-948b-a21c69b241a2",
   "metadata": {},
   "source": [
    "### Print Digits"
   ]
  },
  {
   "cell_type": "code",
   "execution_count": 18,
   "id": "44303b9f-8245-423a-b747-5d0e27151f9b",
   "metadata": {},
   "outputs": [
    {
     "name": "stdout",
     "output_type": "stream",
     "text": [
      "The tens digit is 4, and the ones digit is 2\n",
      "The tens digit is 9, and the ones digit is 9\n",
      "The tens digit is 0, and the ones digit is 5\n",
      "Error: Input is not a two-digit number\n"
     ]
    }
   ],
   "source": [
    "\"\"\"\n",
    "Template - Compute and print tens and ones digit of an integer in [0,100).\n",
    "\"\"\"\n",
    "\n",
    "###################################################\n",
    "# Digits function\n",
    "# Student should enter function on the next lines.\n",
    "\n",
    "def print_digits(number):\n",
    "    if (number < 0) or (number > 100):\n",
    "        return print('Error: Input is not a two-digit number')\n",
    "    else:\n",
    "        tens = number // 10\n",
    "        ones = number % 10\n",
    "        return print(f'The tens digit is {tens}, and the ones digit is {ones}')\n",
    "    \n",
    "###################################################\n",
    "# Tests\n",
    "# Student should not change this code.\n",
    "    \n",
    "print_digits(42)\n",
    "print_digits(99)\n",
    "print_digits(5)\n",
    "print_digits(459)\n",
    "\n",
    "\n",
    "###################################################\n",
    "# Expected output\n",
    "# Student should look at the following comments and compare to printed output.\n",
    "\n",
    "#The tens digit is 4, and the ones digit is 2.\n",
    "#The tens digit is 9, and the ones digit is 9.\n",
    "#The tens digit is 0, and the ones digit is 5.\n",
    "#Error: Input is not a two-digit number."
   ]
  },
  {
   "cell_type": "markdown",
   "id": "e4c178df-6505-4167-89f3-c1ae9db424c2",
   "metadata": {},
   "source": [
    "### Name Lookup"
   ]
  },
  {
   "cell_type": "code",
   "execution_count": 1,
   "id": "bd086716-578b-45ae-ab83-df2f4921b66b",
   "metadata": {},
   "outputs": [
    {
     "name": "stdout",
     "output_type": "stream",
     "text": [
      "Joe's last name is Warren\n",
      "Scott's last name is Rixner\n",
      "John's last name is Greiner\n",
      "Stephen's last name is Wong\n",
      "Mary's last name is Error: not an instructor\n"
     ]
    }
   ],
   "source": [
    "\"\"\"\n",
    "Template - Compute instructor's last name, given the first name.\n",
    "\"\"\"\n",
    "\n",
    "###################################################\n",
    "# Name lookup formula\n",
    "# Student should enter function on the next lines.\n",
    "\n",
    "def name_lookup(name):\n",
    "    if name == 'Joe':\n",
    "        return 'Warren'\n",
    "    elif name == 'Scott':\n",
    "        return 'Rixner'\n",
    "    elif name == 'John':\n",
    "        return 'Greiner'\n",
    "    elif name == 'Stephen':\n",
    "        return 'Wong'\n",
    "    else:\n",
    "        return 'Error: not an instructor'\n",
    "\n",
    "###################################################\n",
    "# Tests\n",
    "# Student should not change this code. \n",
    "    \n",
    "first_name = \"Joe\"\n",
    "print(first_name + \"'s last name is\", name_lookup(first_name))\n",
    "      \n",
    "first_name = \"Scott\"\n",
    "print(first_name + \"'s last name is\", name_lookup(first_name))\n",
    "      \n",
    "first_name = \"John\"\n",
    "print(first_name + \"'s last name is\", name_lookup(first_name))\n",
    "      \n",
    "first_name = \"Stephen\"\n",
    "print(first_name + \"'s last name is\", name_lookup(first_name))\n",
    "      \n",
    "first_name = \"Mary\"\n",
    "print(first_name + \"'s last name is\", name_lookup(first_name))\n",
    "      \n",
    "\n",
    "###################################################\n",
    "# Expected output\n",
    "# Student should look at the following comments and compare to printed output.\n",
    "\n",
    "#Joe's last name is Warren\n",
    "#Scott's last name is Rixner\n",
    "#John's last name is Greiner\n",
    "#Stephen's last name is Wong\n",
    "#Mary's last name is Error: Not an instructor"
   ]
  },
  {
   "cell_type": "markdown",
   "id": "80f97940-aeec-4582-a30c-c1befc917117",
   "metadata": {},
   "source": [
    "### Pig Latin"
   ]
  },
  {
   "cell_type": "code",
   "execution_count": 2,
   "id": "a599b1af-889e-4772-b5ec-596727d1ad5b",
   "metadata": {},
   "outputs": [
    {
     "name": "stdout",
     "output_type": "stream",
     "text": [
      "igpay\n",
      "owlway\n",
      "ythonpay\n"
     ]
    }
   ],
   "source": [
    "\"\"\"\n",
    "Template - Compute a (simplified) Pig Latin version of a word.\n",
    "\"\"\"\n",
    "\n",
    "###################################################\n",
    "# Pig Latin function\n",
    "def pig_latin(word):\n",
    "    \"\"\"\n",
    "    Returns the (simplified) Pig Latin version of the word.\n",
    "    \"\"\"\n",
    "\n",
    "    # Partial code for body\n",
    "    first_letter = word[0]\n",
    "    rest_of_word = word[1 : ]\n",
    "\n",
    "    if first_letter in ['a','e','i','o','u']:\n",
    "        return word + 'way'\n",
    "    else:\n",
    "        return rest_of_word + first_letter + 'ay'    \n",
    "\n",
    "    # Student should complete function on the next lines\n",
    "    \n",
    "    \n",
    "\n",
    "###################################################\n",
    "# Tests\n",
    "# Student should not change this code.\n",
    "    \n",
    "word = \"pig\"\n",
    "print(pig_latin(word))\n",
    "\n",
    "word = \"owl\"\n",
    "print(pig_latin(word))\n",
    "\n",
    "word = \"python\"\n",
    "print(pig_latin(word))\n",
    "\n",
    "###################################################\n",
    "# Expected output\n",
    "# Student should look at the following comments and compare to printed output.\n",
    "\n",
    "#igpay\n",
    "#owlway\n",
    "#ythonpay"
   ]
  },
  {
   "cell_type": "markdown",
   "id": "8a65493a-8923-44c0-bf0d-b6d30c0c9b89",
   "metadata": {},
   "source": [
    "### Quadratic Root"
   ]
  },
  {
   "cell_type": "code",
   "execution_count": 5,
   "id": "554441ae-6aba-4655-bd93-03329051c326",
   "metadata": {},
   "outputs": [
    {
     "name": "stdout",
     "output_type": "stream",
     "text": [
      "The smaller root of 1x^2 + 2x + 3 is: \n",
      "Error: No real solutions\n",
      "The smaller root of 2x^2 + 0x + -10 is: \n",
      "-2.23606797749979\n",
      "The smaller root of 6x^2 + -3x + 5 is: \n",
      "Error: No real solutions\n"
     ]
    }
   ],
   "source": [
    "\"\"\"\n",
    "Template - Compute the smaller root of a quadratic equation.\n",
    "\"\"\"\n",
    "\n",
    "###################################################\n",
    "# Smaller quadratic root formula\n",
    "# Student should enter function on the next lines.\n",
    "\n",
    "def smaller_root(coeff_a, coeff_b, coeff_c):\n",
    "    discriminant = coeff_b ** 2 - 4 * coeff_a * coeff_c\n",
    "    if discriminant < 0 or coeff_a == 0:\n",
    "        return 'Error: No real solutions'\n",
    "    else:\n",
    "        if coeff_a > 0:\n",
    "            smaller = - discriminant ** 0.5\n",
    "        else:\n",
    "            smalle = discriminant ** 0.5\n",
    "        return (- coeff_b + smaller) / (2 * coeff_a)\n",
    "\n",
    "###################################################\n",
    "# Tests\n",
    "# Student should not change this code.\n",
    "\n",
    "coeff_a, coeff_b, coeff_c = 1, 2, 3\n",
    "print(\"The smaller root of \" + str(coeff_a) + \"x^2 + \" + str(coeff_b) + \n",
    "      \"x + \" + str(coeff_c) + \" is: \")\n",
    "print(str(smaller_root(coeff_a, coeff_b, coeff_c)))\n",
    "\n",
    "coeff_a, coeff_b, coeff_c = 2, 0, -10\n",
    "print(\"The smaller root of \" + str(coeff_a) + \"x^2 + \" + str(coeff_b) + \n",
    "      \"x + \" + str(coeff_c) + \" is: \")\n",
    "print(str(smaller_root(coeff_a, coeff_b, coeff_c)))\n",
    "\n",
    "\n",
    "coeff_a, coeff_b, coeff_c = 6, -3, 5\n",
    "print(\"The smaller root of \" + str(coeff_a) + \"x^2 + \" + str(coeff_b) + \n",
    "      \"x + \" + str(coeff_c) + \" is: \")\n",
    "print(str(smaller_root(coeff_a, coeff_b, coeff_c)))\n",
    "\n",
    "\n",
    "###################################################\n",
    "# Expected output\n",
    "# Student should look at the following comments and compare to printed output.\n",
    "\n",
    "#The smaller root of 1x^2 + 2x + 3 is:\n",
    "#Error: No real solutions\n",
    "#None\n",
    "#The smaller root of 2x^2 + 0x + -10 is:\n",
    "#-2.2360679775\n",
    "#The smaller root of 6x^2 + -3x + 5 is:\n",
    "#Error: No real solutions\n",
    "#None"
   ]
  },
  {
   "cell_type": "markdown",
   "id": "c8ef01a4-6faf-46ce-906f-a0432f214c0b",
   "metadata": {},
   "source": [
    "### Challenge: Collatz Conjecture"
   ]
  },
  {
   "cell_type": "code",
   "execution_count": 6,
   "id": "3a15ab54-a0f9-43be-af6a-bada95de5a3a",
   "metadata": {},
   "outputs": [
    {
     "data": {
      "text/plain": [
       "17.0"
      ]
     },
     "execution_count": 6,
     "metadata": {},
     "output_type": "execute_result"
    }
   ],
   "source": [
    "def collatz(number):\n",
    "    '''\n",
    "    Implementación de la Conjetura de Collatz\n",
    "    '''\n",
    "    if number % 2 == 0:\n",
    "        number = number / 2\n",
    "    else:\n",
    "        number = number * 3 + 1\n",
    "    return number\n",
    "\n",
    "collatz(34)"
   ]
  },
  {
   "cell_type": "code",
   "execution_count": 8,
   "id": "45f2cedb-29fd-422e-b4b0-8969ae6a807b",
   "metadata": {},
   "outputs": [
    {
     "data": {
      "text/plain": [
       "190.0"
      ]
     },
     "execution_count": 8,
     "metadata": {},
     "output_type": "execute_result"
    }
   ],
   "source": [
    "collatz(collatz(collatz(collatz(collatz(collatz(collatz(674)))))))"
   ]
  },
  {
   "cell_type": "code",
   "execution_count": 9,
   "id": "7b72d353-9adc-4fc3-973e-15be363b0036",
   "metadata": {},
   "outputs": [
    {
     "data": {
      "text/plain": [
       "3053.0"
      ]
     },
     "execution_count": 9,
     "metadata": {},
     "output_type": "execute_result"
    }
   ],
   "source": [
    "collatz(collatz(collatz(collatz(collatz(collatz(collatz(collatz(collatz(collatz(collatz(collatz(collatz(collatz(1071))))))))))))))"
   ]
  },
  {
   "cell_type": "code",
   "execution_count": null,
   "id": "25925b48-c598-46c6-a5dd-13e99fdb2c08",
   "metadata": {},
   "outputs": [],
   "source": []
  }
 ],
 "metadata": {
  "kernelspec": {
   "display_name": "Python 3 (ipykernel)",
   "language": "python",
   "name": "python3"
  },
  "language_info": {
   "codemirror_mode": {
    "name": "ipython",
    "version": 3
   },
   "file_extension": ".py",
   "mimetype": "text/x-python",
   "name": "python",
   "nbconvert_exporter": "python",
   "pygments_lexer": "ipython3",
   "version": "3.11.2"
  }
 },
 "nbformat": 4,
 "nbformat_minor": 5
}
