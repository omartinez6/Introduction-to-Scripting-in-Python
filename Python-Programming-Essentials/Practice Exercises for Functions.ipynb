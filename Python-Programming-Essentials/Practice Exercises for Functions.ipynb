{
 "cells": [
  {
   "cell_type": "markdown",
   "id": "d1e0d0ea-dbb1-4170-8aa8-1b4f565c5b36",
   "metadata": {},
   "source": [
    "### Miles to feet"
   ]
  },
  {
   "cell_type": "code",
   "execution_count": 1,
   "id": "a0bb08fd-784e-47be-894a-2f0e6dce5fe6",
   "metadata": {},
   "outputs": [
    {
     "name": "stdout",
     "output_type": "stream",
     "text": [
      "68640\n"
     ]
    }
   ],
   "source": [
    "\"\"\"\n",
    "Template - Compute the number of feet corresponding to a number of miles.\n",
    "\"\"\"\n",
    "\n",
    "###################################################\n",
    "# Miles to feet conversion formula\n",
    "# Student should enter function on the next lines.\n",
    "\n",
    "\n",
    "\n",
    "\n",
    "###################################################\n",
    "# Tests\n",
    "# Student should not change this code.\n",
    "\n",
    "\n",
    "miles = 13\n",
    "print(str(miles) + \" miles equals \" + str(miles_to_feet(miles)) + \" feet.\")\n",
    "    \n",
    "miles = 57\n",
    "print(str(miles) + \" miles equals \" + str(miles_to_feet(miles)) + \" feet.\")\n",
    "\n",
    "miles = 82.67\n",
    "print(str(miles) + \" miles equals \" + str(miles_to_feet(miles)) + \" feet.\")\n",
    "\n",
    "\n",
    "###################################################\n",
    "# Expected output\n",
    "# Student should look at the following comments and compare to printed output.\n",
    "\n",
    "#13 miles equals 68640 feet.\n",
    "#57 miles equals 300960 feet.\n",
    "#82.67 miles equals 436497.6 feet."
   ]
  },
  {
   "cell_type": "markdown",
   "id": "b5bc74e8-f582-44a9-9317-56a9fff12fbe",
   "metadata": {},
   "source": [
    "### Hours to seconds"
   ]
  },
  {
   "cell_type": "code",
   "execution_count": 2,
   "id": "6c669bd2-ab54-4bbb-bae1-419b25a101ef",
   "metadata": {},
   "outputs": [
    {
     "name": "stdout",
     "output_type": "stream",
     "text": [
      "26497\n"
     ]
    }
   ],
   "source": [
    "\"\"\"\n",
    "Template - Compute the number of seconds in a given number of hours, minutes, and seconds.\n",
    "\"\"\"\n",
    "\n",
    "###################################################\n",
    "# Hours, minutes, and seconds to seconds conversion formula\n",
    "# Student should enter function on the next lines.\n",
    "\n",
    "\n",
    "\n",
    "\n",
    "###################################################\n",
    "# Tests\n",
    "# Student should not change this code.\n",
    "\n",
    "hours, minutes, seconds = 7, 21, 37\n",
    "print(str(hours) + \" hours, \" + str(minutes) + \" minutes, and \" + \n",
    "      str(seconds) + \" seconds totals to \" + str(total_seconds(hours, minutes, seconds)) + \n",
    "      \" seconds.\")\n",
    "\n",
    "hours, minutes, seconds = 10, 1, 7\n",
    "print(str(hours) + \" hours, \" + str(minutes) + \" minutes, and \" + \n",
    "      str(seconds) + \" seconds totals to \" + str(total_seconds(hours, minutes, seconds)) + \n",
    "      \" seconds.\")\n",
    "\n",
    "hours, minutes, seconds = 1, 0, 1\n",
    "print(str(hours) + \" hours, \" + str(minutes) + \" minutes, and \" + \n",
    "      str(seconds) + \" seconds totals to \" + str(total_seconds(hours, minutes, seconds)) + \n",
    "      \" seconds.\")\n",
    "\n",
    "###################################################\n",
    "# Expected output\n",
    "# Student should look at the following comments and compare to printed output.\n",
    "\n",
    "#7 hours, 21 minutes, and 37 seconds totals to 26497 seconds.\n",
    "#10 hours, 1 minutes, and 7 seconds totals to 36067 seconds.\n",
    "#1 hours, 0 minutes, and 1 seconds totals to 3601 seconds."
   ]
  },
  {
   "cell_type": "markdown",
   "id": "0cd96da8-c950-442b-9fbe-5ec3f0d4c007",
   "metadata": {},
   "source": [
    "### Perimeter of rectangle"
   ]
  },
  {
   "cell_type": "code",
   "execution_count": 3,
   "id": "604c21a6-bf9b-4ccd-8bdb-b9200233efbd",
   "metadata": {},
   "outputs": [
    {
     "name": "stdout",
     "output_type": "stream",
     "text": [
      "22\n"
     ]
    }
   ],
   "source": [
    "\"\"\"\n",
    "Template - Compute the length of a rectangle's perimeter, given its width and height.\n",
    "\"\"\"\n",
    "\n",
    "###################################################\n",
    "# Rectangle perimeter formula\n",
    "# Student should enter function on the next lines.\n",
    "\n",
    "\n",
    "\n",
    "\n",
    "###################################################\n",
    "# Tests\n",
    "# Student should not change this code.\n",
    "\n",
    "\n",
    "width, height = 4, 7\n",
    "print(\"A rectangle \" + str(width) + \" inches wide and \" + str(height) + \n",
    "      \" inches high has a perimeter of \" + str(rectangle_perimeter(width, height)) + \" inches.\")\n",
    "\n",
    "width, height = 7, 4\n",
    "print(\"A rectangle \" + str(width) + \" inches wide and \" + str(height) + \n",
    "      \" inches high has a perimeter of \" + str(rectangle_perimeter(width, height)) + \" inches.\")\n",
    "\n",
    "width, height = 10, 10\n",
    "print(\"A rectangle \" + str(width) + \" inches wide and \" + str(height) + \n",
    "      \" inches high has a perimeter of \" + str(rectangle_perimeter(width, height)) + \" inches.\")\n",
    "\n",
    "\n",
    "###################################################\n",
    "# Expected output\n",
    "# Student should look at the following comments and compare to printed output.\n",
    "\n",
    "#A rectangle 4 inches wide and 7 inches high has a perimeter of 22 inches.\n",
    "#A rectangle 7 inches wide and 4 inches high has a perimeter of 22 inches.\n",
    "#A rectangle 10 inches wide and 10 inches high has a perimeter of 40 inches."
   ]
  },
  {
   "cell_type": "markdown",
   "id": "21b724d9-5f8b-4d8b-b9f2-a3f885f55344",
   "metadata": {},
   "source": [
    "### Area of rectangle"
   ]
  },
  {
   "cell_type": "code",
   "execution_count": 4,
   "id": "09f31529-c84c-4603-acee-76ba9d41c2d6",
   "metadata": {},
   "outputs": [
    {
     "name": "stdout",
     "output_type": "stream",
     "text": [
      "28\n"
     ]
    }
   ],
   "source": [
    "\"\"\"\n",
    "Template - Compute the area of a rectangle, given its width and height.\n",
    "\"\"\"\n",
    "\n",
    "###################################################\n",
    "# Rectangle area formula\n",
    "# Student should enter function on the next lines.\n",
    "\n",
    "\n",
    "\n",
    "\n",
    "###################################################\n",
    "# Tests\n",
    "# Student should not change this code.\n",
    "\n",
    "width, height = 4, 7\n",
    "print(\"A rectangle \" + str(width) + \" inches wide and \" + str(height) + \n",
    "      \" inches high has an area of \" + str(rectangle_area(width, height)) + \" square inches.\")\n",
    "    \n",
    "width, height = 7, 4\n",
    "print(\"A rectangle \" + str(width) + \" inches wide and \" + str(height) + \n",
    "      \" inches high has an area of \" + str(rectangle_area(width, height)) + \" square inches.\")\n",
    "\n",
    "width, height = 10, 10\n",
    "print(\"A rectangle \" + str(width) + \" inches wide and \" + str(height) + \n",
    "      \" inches high has an area of \" + str(rectangle_area(width, height)) + \" square inches.\")\n",
    "\n",
    "    \n",
    "###################################################\n",
    "# Expected output\n",
    "# Student should look at the following comments and compare to printed output.\n",
    "\n",
    "#A rectangle 4 inches wide and 7 inches high has an area of 28 square inches.\n",
    "#A rectangle 7 inches wide and 4 inches high has an area of 28 square inches.\n",
    "#A rectangle 10 inches wide and 10 inches high has an area of 100 square inches."
   ]
  },
  {
   "cell_type": "markdown",
   "id": "7fb59321-a5f9-4d74-8408-771b1efd75cf",
   "metadata": {},
   "source": [
    "### Circumference of circle"
   ]
  },
  {
   "cell_type": "code",
   "execution_count": 5,
   "id": "49af31b1-3d45-4f5b-88b0-60c6db64c2e8",
   "metadata": {},
   "outputs": [
    {
     "name": "stdout",
     "output_type": "stream",
     "text": [
      "50.24\n"
     ]
    }
   ],
   "source": [
    "\"\"\"\n",
    "Template - Compute the circumference of a circle, given the length of its radius.\n",
    "\"\"\"\n",
    "\n",
    "import math\n",
    "PI = math.pi\n",
    "\n",
    "###################################################\n",
    "# Circle circumference formula\n",
    "# Student should enter function on the next lines.\n",
    "\n",
    "\n",
    "\n",
    "\n",
    "###################################################\n",
    "# Tests\n",
    "# Student should not change this code.\n",
    "\n",
    "radius = 8\n",
    "print(\"A circle with a radius of \" + str(radius) + \n",
    "      \" inches has a circumference of \" + str(circle_circumference(radius)) + \" inches.\")\n",
    "\n",
    "radius = 3\n",
    "print(\"A circle with a radius of \" + str(radius) + \n",
    "      \" inches has a circumference of \" + str(circle_circumference(radius)) + \" inches.\")\n",
    "\n",
    "radius = 12.9\n",
    "print(\"A circle with a radius of \" + str(radius) + \n",
    "      \" inches has a circumference of \" + str(circle_circumference(radius)) + \" inches.\")\n",
    "\n",
    "\n",
    "###################################################\n",
    "# Expected output\n",
    "# Student should look at the following comments and compare to printed output.\n",
    "\n",
    "#A circle with a radius of 8 inches has a circumference of 50.2654824574 inches.\n",
    "#A circle with a radius of 3 inches has a circumference of 18.8495559215 inches.\n",
    "#A circle with a radius of 12.9 inches has a circumference of 81.0530904626 inches."
   ]
  },
  {
   "cell_type": "markdown",
   "id": "00398ba1-d61e-4dd8-9125-5c4ab0cb6216",
   "metadata": {},
   "source": [
    "### Area of circle"
   ]
  },
  {
   "cell_type": "code",
   "execution_count": 6,
   "id": "13c4c49d-cd1d-467e-884b-df52e5edfb9a",
   "metadata": {},
   "outputs": [
    {
     "name": "stdout",
     "output_type": "stream",
     "text": [
      "200.96\n"
     ]
    }
   ],
   "source": [
    "\"\"\"\n",
    "Template - Compute the area of a circle, given the length of its radius.\n",
    "\"\"\"\n",
    "\n",
    "# Import the math module to access the exact value of pi\n",
    "import math\n",
    "PI = math.pi\n",
    "\n",
    "###################################################\n",
    "# Circle area formula\n",
    "# Student should enter function on the next lines.\n",
    "\n",
    "\n",
    "\n",
    "\n",
    "###################################################\n",
    "# Tests\n",
    "# Student should not change this code.\n",
    "\n",
    "radius = 8\n",
    "print(\"A circle with a radius of \" + str(radius) + \n",
    "      \" inches has an area of \" + str(circle_area(radius)) + \n",
    "      \" square inches.\")\n",
    "\n",
    "radius = 3\n",
    "print(\"A circle with a radius of \" + str(radius) + \n",
    "      \" inches has an area of \" + str(circle_area(radius)) + \n",
    "      \" square inches.\")\n",
    "\n",
    "radius = 12.9\n",
    "print(\"A circle with a radius of \" + str(radius) + \n",
    "      \" inches has an area of \" + str(circle_area(radius)) + \n",
    "      \" square inches.\")\n",
    "\n",
    "\n",
    "###################################################\n",
    "# Expected output\n",
    "# Student should look at the following comments and compare to printed output.\n",
    "\n",
    "#A circle with a radius of 8 inches has an area of 201.06192983 square inches.\n",
    "#A circle with a radius of 3 inches has an area of 28.2743338823 square inches.\n",
    "#A circle with a radius of 12.9 inches has an area of 522.792433484 square inches."
   ]
  },
  {
   "cell_type": "markdown",
   "id": "402c65b1-4b08-4c3f-b510-bb47c663fab6",
   "metadata": {},
   "source": [
    "### Future value"
   ]
  },
  {
   "cell_type": "code",
   "execution_count": 7,
   "id": "daef7551-431e-4657-9a10-a997959e1d96",
   "metadata": {},
   "outputs": [
    {
     "name": "stdout",
     "output_type": "stream",
     "text": [
      "1967.1513572895665\n"
     ]
    }
   ],
   "source": [
    "\"\"\"\n",
    "Template - Compute the future value of a given present value, annual rate, and number of years.\n",
    "\"\"\"\n",
    "\n",
    "###################################################\n",
    "# Future value formula\n",
    "# Student should enter function on the next lines.\n",
    "\n",
    "\n",
    "\n",
    "\n",
    "###################################################\n",
    "# Tests\n",
    "# Student should not change this code.\n",
    "\n",
    "\n",
    "present_value, annual_rate, years = 1000, 7, 10\t\n",
    "print(\"The future value of $\" + str(present_value) + \" in \" + str(years) + \n",
    "      \" years at an annual rate of \" + str(annual_rate) + \"% is $\" + \n",
    "      str(future_value(present_value, annual_rate, years)) + \".\")\n",
    "    \n",
    "present_value, annual_rate, years = 200, 4, 5\n",
    "print(\"The future value of $\" + str(present_value) + \" in \" + str(years) + \n",
    "      \" years at an annual rate of \" + str(annual_rate) + \"% is $\" + \n",
    "      str(future_value(present_value, annual_rate, years)) + \".\")\n",
    "\n",
    "present_value, annual_rate, years = 1000, 3, 20\n",
    "print(\"The future value of $\" + str(present_value) + \" in \" + str(years) + \n",
    "      \" years at an annual rate of \" + str(annual_rate) + \"% is $\" + \n",
    "      str(future_value(present_value, annual_rate, years)) + \".\")\n",
    "\n",
    "\n",
    "###################################################\n",
    "# Expected output\n",
    "# Student should look at the following comments and compare to printed output.\n",
    "\n",
    "#The future value of $1000 in 10 years at an annual rate of 7% is $1967.15135729.\n",
    "#The future value of $200 in 5 years at an annual rate of 4% is $243.33058048.\n",
    "#The future value of $1000 in 20 years at an annual rate of 3% is $1806.11123467."
   ]
  },
  {
   "cell_type": "markdown",
   "id": "bef0b96b-1a40-43c3-91ab-9e12468843d8",
   "metadata": {},
   "source": [
    "### Name tag"
   ]
  },
  {
   "cell_type": "code",
   "execution_count": 8,
   "id": "e364f16b-b74a-4d02-8145-41e65dc09a10",
   "metadata": {},
   "outputs": [
    {
     "name": "stdout",
     "output_type": "stream",
     "text": [
      "My name is Joe Warren\n"
     ]
    }
   ],
   "source": [
    "\"\"\"\n",
    "Template - Compute a name tag, given the first and last name.\n",
    "\"\"\"\n",
    "\n",
    "###################################################\n",
    "# Name tag formula\n",
    "# Student should enter function on the next lines.\n",
    "\n",
    "\n",
    "    \n",
    "###################################################\n",
    "# Tests\n",
    "# Student should not change this code.\n",
    "    \n",
    "    \n",
    "first_name, last_name = \"Joe\", \"Warren\"\n",
    "print(name_tag(first_name, last_name))\n",
    "\n",
    "first_name, last_name = \"Scott\", \"Rixner\"\n",
    "print(name_tag(first_name, last_name))\n",
    "\n",
    "first_name, last_name = \"John\", \"Greiner\"\n",
    "print(name_tag(first_name, last_name))\n",
    "\n",
    "\n",
    "###################################################\n",
    "# Expected output\n",
    "# Student should look at the following comments and compare to printed output.\n",
    "\n",
    "#My name is Joe Warren.\n",
    "#My name is Scott Rixner.\n",
    "#My name is John Greiner."
   ]
  },
  {
   "cell_type": "markdown",
   "id": "4121a235-d1b3-488e-8b32-72b7ad9bd97c",
   "metadata": {},
   "source": [
    "### Name and age"
   ]
  },
  {
   "cell_type": "code",
   "execution_count": 9,
   "id": "6bf8cb32-1e53-411e-ae90-706a853eb024",
   "metadata": {},
   "outputs": [
    {
     "name": "stdout",
     "output_type": "stream",
     "text": [
      "Joe Warren is 56 years old\n"
     ]
    }
   ],
   "source": [
    "\"\"\"\n",
    "Template - Compute the statement about a person's name and age, given the person's name and age.\n",
    "\"\"\"\n",
    "\n",
    "###################################################\n",
    "# Name and age formula\n",
    "# Student should enter function on the next lines.\n",
    "\n",
    "\n",
    "\n",
    "###################################################\n",
    "# Tests\n",
    "# Student should not change this code.\n",
    "\n",
    "    \n",
    "name, age = \"Joe Warren\", 56\n",
    "print(name_and_age(name, age))\n",
    "\n",
    "name, age = \"Scott Rixner\", 40\n",
    "print(name_and_age(name, age))\n",
    "\n",
    "name, age = \"John Greiner\", 46\n",
    "print(name_and_age(name, age))\n",
    "\n",
    "\n",
    "###################################################\n",
    "# Expected output\n",
    "# Student should look at the following comments and compare to printed output.\n",
    "\n",
    "#Joe Warren is 56 years old.\n",
    "#Scott Rixner is 40 years old.\n",
    "#John Greiner is 46 years old."
   ]
  },
  {
   "cell_type": "markdown",
   "id": "33cc5aa1-2a3b-4f53-a1f3-998cc8331ad9",
   "metadata": {},
   "source": [
    "### Point distance"
   ]
  },
  {
   "cell_type": "code",
   "execution_count": 10,
   "id": "fc918788-6a55-4717-9246-9ec89c207140",
   "metadata": {},
   "outputs": [
    {
     "name": "stdout",
     "output_type": "stream",
     "text": [
      "5.0\n"
     ]
    }
   ],
   "source": [
    "\"\"\"\n",
    "Template - Compute the distance between the points (x0, y0) and (x1, y1).\n",
    "\"\"\"\n",
    "\n",
    "###################################################\n",
    "# Distance formula\n",
    "# Student should enter function on the next lines.\n",
    "\n",
    "# Hint: You need to use the power operation ** .\n",
    "\n",
    "\n",
    "###################################################\n",
    "# Tests\n",
    "# Student should not change this code.\n",
    "\n",
    "\n",
    "x_0, y_0, x_1, y_1 = 2, 2, 5, 6\n",
    "print(\"The distance from (\" + str(x_0) + \", \" + str(y_0) + \") to (\" + \n",
    "      str(x_1) + \", \" + str(y_1) + \") is \" + str(point_distance(x_0, y_0, x_1, y_1)) + \".\")\n",
    "\n",
    "x_0, y_0, x_1, y_1 = 1, 1, 2, 2\n",
    "print(\"The distance from (\" + str(x_0) + \", \" + str(y_0) + \") to (\" + \n",
    "      str(x_1) + \", \" + str(y_1) + \") is \" + str(point_distance(x_0, y_0, x_1, y_1)) + \".\")\n",
    "\n",
    "x_0, y_0, x_1, y_1 = 0, 0, 3, 4\n",
    "print(\"The distance from (\" + str(x_0) + \", \" + str(y_0) + \") to (\" + \n",
    "      str(x_1) + \", \" + str(y_1) + \") is \" + str(point_distance(x_0, y_0, x_1, y_1)) + \".\")\n",
    "\n",
    "\n",
    "###################################################\n",
    "# Expected output\n",
    "# Student should look at the following comments and compare to printed output.\n",
    "\n",
    "#The distance from (2, 2) to (5, 6) is 5.0.\n",
    "#The distance from (1, 1) to (2, 2) is 1.41421356237.\n",
    "#The distance from (0, 0) to (3, 4) is 5.0."
   ]
  },
  {
   "cell_type": "markdown",
   "id": "6c8b0b27-ca1d-45e4-b345-d874f5c8e595",
   "metadata": {},
   "source": [
    "### Triangle area"
   ]
  },
  {
   "cell_type": "code",
   "execution_count": null,
   "id": "ccc7d2fa-0ad3-4c47-bff1-472c83db0064",
   "metadata": {},
   "outputs": [],
   "source": [
    "\"\"\"\n",
    "Template - Compute the area of a triangle (using Heron's formula),\n",
    "    given its side lengths.\n",
    "\"\"\"\n",
    "\n",
    "###################################################\n",
    "# Triangle area (Heron's) formula\n",
    "# Student should enter function on the next lines.\n",
    "# Hint:  Use point_distance as a helper function.\n",
    "\n",
    "\n",
    "\n",
    "\n",
    "###################################################\n",
    "# Tests\n",
    "# Student should not change this code.\n",
    "\n",
    "def test(x_0, y_0, x_1, y_1, x_2, y_2):\n",
    "    \"\"\"Tests the triangle_area function.\"\"\"\n",
    "    \n",
    "    print(\"A triangle with vertices (\" + str(x_0) + \",\" + str(y_0) + \"),\")\n",
    "    print(\"(\" + str(x_1) + \",\" + str(y_1) + \"), and\")\n",
    "    print(\"(\" + str(x_2) + \",\" + str(y_2) + \") has an area of\")\n",
    "    print(str(triangle_area(x_0, y_0, x_1, y_1, x_2, y_2)) + \".\")\n",
    "\n",
    "x_0, y_0, x_1, y_1, x_2, y_2 = 0, 0, 3, 4, 1, 1\n",
    "print(\"A triangle with vertices (\" + str(x_0) + \", \" + str(y_0) + \"), (\" + \n",
    "      str(x_1) + \",\" + str(y_1) + \"), and (\" + str(x_2) + \", \" + str(y_2) + \n",
    "      \") has an area of \" + str(triangle_area(x_0, y_0, x_1, y_1, x_2, y_2)) + \".\")\n",
    "\n",
    "x_0, y_0, x_1, y_1, x_2, y_2 = -2, 4, 1, 6, 2, 1\n",
    "print(\"A triangle with vertices (\" + str(x_0) + \", \" + str(y_0) + \"), (\" + \n",
    "      str(x_1) + \",\" + str(y_1) + \"), and (\" + str(x_2) + \", \" + str(y_2) + \n",
    "      \") has an area of \" + str(triangle_area(x_0, y_0, x_1, y_1, x_2, y_2)) + \".\")\n",
    "\n",
    "x_0, y_0, x_1, y_1, x_2, y_2 = 10, 0, 0, 0, 0, 10\n",
    "print(\"A triangle with vertices (\" + str(x_0) + \", \" + str(y_0) + \"), (\" + \n",
    "      str(x_1) + \",\" + str(y_1) + \"), and (\" + str(x_2) + \", \" + str(y_2) + \n",
    "      \") has an area of \" + str(triangle_area(x_0, y_0, x_1, y_1, x_2, y_2)) + \".\")\n",
    "\n",
    "\n",
    "###################################################\n",
    "# Expected output\n",
    "# Student should look at the following comments and compare to printed output.\n",
    "\n",
    "#A triangle with vertices (0,0), (3,4), and (1,1) has an area of 0.5.\n",
    "#A triangle with vertices (-2,4), (1,6), and (2,1) has an area of 8.5.\n",
    "#A triangle with vertices (10,0), (0,0), and (0,10) has an area of 50."
   ]
  },
  {
   "cell_type": "markdown",
   "id": "a05541d9-d036-48be-b0c1-2a23415d98e0",
   "metadata": {},
   "source": [
    "### Print digits"
   ]
  },
  {
   "cell_type": "code",
   "execution_count": null,
   "id": "8c4298f4-5a2f-44b7-9ee2-b7b1c65a5c69",
   "metadata": {},
   "outputs": [],
   "source": [
    "\"\"\"\n",
    "Template - Compute and print tens and ones digit of an integer in [0,100).\n",
    "\"\"\"\n",
    "\n",
    "###################################################\n",
    "# Digits function\n",
    "# Student should enter function on the next lines.\n",
    "\n",
    "\n",
    "\n",
    "    \n",
    "###################################################\n",
    "# Tests\n",
    "# Student should not change this code.\n",
    "    \n",
    "print_digits(42)\n",
    "print_digits(99)\n",
    "print_digits(5)\n",
    "\n",
    "\n",
    "###################################################\n",
    "# Expected output\n",
    "# Student should look at the following comments and compare to printed output.\n",
    "\n",
    "#The tens digit is 4, and the ones digit is 2.\n",
    "#The tens digit is 9, and the ones digit is 9.\n",
    "#The tens digit is 0, and the ones digit is 5."
   ]
  },
  {
   "cell_type": "markdown",
   "id": "5464efd7-eb1f-4762-af6f-1484fb7ebcc8",
   "metadata": {},
   "source": [
    "### Powerbal"
   ]
  },
  {
   "cell_type": "code",
   "execution_count": null,
   "id": "08d8f5b2-10b7-47a2-a08e-89fe6d52f944",
   "metadata": {},
   "outputs": [],
   "source": [
    "\"\"\"\n",
    "Template - Compute and print powerball numbers.\n",
    "\"\"\"\n",
    "\n",
    "import random\n",
    "\n",
    "###################################################\n",
    "# Powerball function\n",
    "# Student should enter function on the next lines.\n",
    "\n",
    "\n",
    "\n",
    "    \n",
    "###################################################\n",
    "# Tests\n",
    "# Student should not change this code.\n",
    "    \n",
    "powerball()\n",
    "powerball()\n",
    "powerball()\n",
    "\n",
    "###################################################################\n",
    "# Some sample output appears below.  Note that numbers need not match\n",
    "#Today's numbers are 46, 25, 49, 54, and  8. The Powerball number is 26.\n",
    "#Today's numbers are 14, 11, 17, 6, and  30. The Powerball number is 16.\n",
    "#Today's numbers are 58, 59, 39, 2, and  29. The Powerball number is 19."
   ]
  }
 ],
 "metadata": {
  "kernelspec": {
   "display_name": "Python 3 (ipykernel)",
   "language": "python",
   "name": "python3"
  },
  "language_info": {
   "codemirror_mode": {
    "name": "ipython",
    "version": 3
   },
   "file_extension": ".py",
   "mimetype": "text/x-python",
   "name": "python",
   "nbconvert_exporter": "python",
   "pygments_lexer": "ipython3",
   "version": "3.11.2"
  }
 },
 "nbformat": 4,
 "nbformat_minor": 5
}
