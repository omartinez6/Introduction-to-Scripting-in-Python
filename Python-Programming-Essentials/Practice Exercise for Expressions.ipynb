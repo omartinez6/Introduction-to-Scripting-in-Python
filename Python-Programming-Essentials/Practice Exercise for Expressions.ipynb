{
 "cells": [
  {
   "cell_type": "markdown",
   "id": "d1e0d0ea-dbb1-4170-8aa8-1b4f565c5b36",
   "metadata": {},
   "source": [
    "### Miles to feet"
   ]
  },
  {
   "cell_type": "code",
   "execution_count": 1,
   "id": "a0bb08fd-784e-47be-894a-2f0e6dce5fe6",
   "metadata": {},
   "outputs": [
    {
     "name": "stdout",
     "output_type": "stream",
     "text": [
      "68640\n"
     ]
    }
   ],
   "source": [
    "\"\"\"\n",
    "Template - Compute the number of feet corresponding to a number of miles.\n",
    "\"\"\"\n",
    "\n",
    "###################################################\n",
    "# Miles to feet conversion formula\n",
    "# Student should enter statement on the next line.\n",
    "\n",
    "print(5280 * 13)\n",
    "\n",
    "###################################################\n",
    "# Expected output\n",
    "# Student should look at the following comments and compare to printed output.\n",
    "\n",
    "#68640"
   ]
  },
  {
   "cell_type": "markdown",
   "id": "b5bc74e8-f582-44a9-9317-56a9fff12fbe",
   "metadata": {},
   "source": [
    "### Hours to seconds"
   ]
  },
  {
   "cell_type": "code",
   "execution_count": 2,
   "id": "6c669bd2-ab54-4bbb-bae1-419b25a101ef",
   "metadata": {},
   "outputs": [
    {
     "name": "stdout",
     "output_type": "stream",
     "text": [
      "26497\n"
     ]
    }
   ],
   "source": [
    "\"\"\"\n",
    "Template - Compute the number of seconds in a given number of hours, minutes, and seconds.\n",
    "\"\"\"\n",
    "\n",
    "###################################################\n",
    "# Hours, minutes, and seconds to seconds conversion formula\n",
    "# Student should enter statement on the next line.\n",
    "\n",
    "print(7 * 3600 + 21 * 60 + 37)\n",
    "\n",
    "###################################################\n",
    "# Expected output\n",
    "# Student should look at the following comments and compare to printed output.\n",
    "\n",
    "#26497"
   ]
  },
  {
   "cell_type": "markdown",
   "id": "0cd96da8-c950-442b-9fbe-5ec3f0d4c007",
   "metadata": {},
   "source": [
    "### Perimeter of rectangle"
   ]
  },
  {
   "cell_type": "code",
   "execution_count": 3,
   "id": "604c21a6-bf9b-4ccd-8bdb-b9200233efbd",
   "metadata": {},
   "outputs": [
    {
     "name": "stdout",
     "output_type": "stream",
     "text": [
      "22\n"
     ]
    }
   ],
   "source": [
    "\"\"\"\n",
    "Template - Compute the length of a rectangle's perimeter, given its width and height.\n",
    "\"\"\"\n",
    "\n",
    "###################################################\n",
    "# Rectangle perimeter formula\n",
    "# Student should enter statement on the next line.\n",
    "\n",
    "print(4 * 2 + 7 * 2)\n",
    "\n",
    "###################################################\n",
    "# Expected output\n",
    "# Student should look at the following comments and compare to printed output.\n",
    "\n",
    "#22"
   ]
  },
  {
   "cell_type": "markdown",
   "id": "21b724d9-5f8b-4d8b-b9f2-a3f885f55344",
   "metadata": {},
   "source": [
    "### Area of rectangle"
   ]
  },
  {
   "cell_type": "code",
   "execution_count": 4,
   "id": "09f31529-c84c-4603-acee-76ba9d41c2d6",
   "metadata": {},
   "outputs": [
    {
     "name": "stdout",
     "output_type": "stream",
     "text": [
      "28\n"
     ]
    }
   ],
   "source": [
    "\"\"\"\n",
    "Template - Compute the area of a rectangle, given its width and height.\n",
    "\"\"\"\n",
    "\n",
    "###################################################\n",
    "# Rectangle area formula\n",
    "# Student should enter statement on the next line.\n",
    "\n",
    "print(7 * 4)\n",
    "\n",
    "###################################################\n",
    "# Expected output\n",
    "# Student should look at the following comments and compare to printed output.\n",
    "\n",
    "#28"
   ]
  },
  {
   "cell_type": "markdown",
   "id": "7fb59321-a5f9-4d74-8408-771b1efd75cf",
   "metadata": {},
   "source": [
    "### Circumference of circle"
   ]
  },
  {
   "cell_type": "code",
   "execution_count": 5,
   "id": "49af31b1-3d45-4f5b-88b0-60c6db64c2e8",
   "metadata": {},
   "outputs": [
    {
     "name": "stdout",
     "output_type": "stream",
     "text": [
      "50.24\n"
     ]
    }
   ],
   "source": [
    "\"\"\"\n",
    "Compute the circumference of a circle, given the length of its radius.\n",
    "\"\"\"\n",
    "\n",
    "###################################################\n",
    "# Circle circumference formula\n",
    "# Student should enter statement on the next line.\n",
    "\n",
    "print(3.14 * 8 * 2)\n",
    "\n",
    "###################################################\n",
    "# Expected output\n",
    "# Student should look at the following comments and compare to printed output.\n",
    "\n",
    "#50.24"
   ]
  },
  {
   "cell_type": "markdown",
   "id": "00398ba1-d61e-4dd8-9125-5c4ab0cb6216",
   "metadata": {},
   "source": [
    "### Area of circle"
   ]
  },
  {
   "cell_type": "code",
   "execution_count": 6,
   "id": "13c4c49d-cd1d-467e-884b-df52e5edfb9a",
   "metadata": {},
   "outputs": [
    {
     "name": "stdout",
     "output_type": "stream",
     "text": [
      "200.96\n"
     ]
    }
   ],
   "source": [
    "\"\"\"\n",
    "Template - Compute the area of a circle, given the length of its radius.\n",
    "\"\"\"\n",
    "\n",
    "###################################################\n",
    "# Circle area formula\n",
    "# Student should enter statement on the next line.\n",
    "\n",
    "print(3.14 * 8 ** 2)\n",
    "\n",
    "###################################################\n",
    "# Expected output\n",
    "# Student should look at the following comments and compare to printed output.\n",
    "\n",
    "#200.96"
   ]
  },
  {
   "cell_type": "markdown",
   "id": "402c65b1-4b08-4c3f-b510-bb47c663fab6",
   "metadata": {},
   "source": [
    "### Future value"
   ]
  },
  {
   "cell_type": "code",
   "execution_count": 7,
   "id": "daef7551-431e-4657-9a10-a997959e1d96",
   "metadata": {},
   "outputs": [
    {
     "name": "stdout",
     "output_type": "stream",
     "text": [
      "1967.1513572895665\n"
     ]
    }
   ],
   "source": [
    "\"\"\"\n",
    "Template - Compute the future value of a given present value, annual rate, and number of years.\n",
    "\"\"\"\n",
    "\n",
    "###################################################\n",
    "# Future value formula\n",
    "# Student should enter statement on the next line.\n",
    "\n",
    "print(1000 * (1 + 0.07) ** 10)\n",
    "\n",
    "###################################################\n",
    "# Expected output\n",
    "# Student should look at the following comments and compare to printed output.\n",
    "\n",
    "#1967.15135729"
   ]
  },
  {
   "cell_type": "markdown",
   "id": "bef0b96b-1a40-43c3-91ab-9e12468843d8",
   "metadata": {},
   "source": [
    "### Name tag"
   ]
  },
  {
   "cell_type": "code",
   "execution_count": 8,
   "id": "e364f16b-b74a-4d02-8145-41e65dc09a10",
   "metadata": {},
   "outputs": [
    {
     "name": "stdout",
     "output_type": "stream",
     "text": [
      "My name is Joe Warren\n"
     ]
    }
   ],
   "source": [
    "\"\"\"\n",
    "Template - Compute a name tag, given the first and last name.\n",
    "\"\"\"\n",
    "\n",
    "###################################################\n",
    "# Name tag formula\n",
    "# Student should enter statement on the next line.\n",
    "\n",
    "print('My name is' + ' ' + 'Joe' + ' ' + 'Warren')\n",
    "\n",
    "###################################################\n",
    "# Expected output\n",
    "# Student should look at the following comments and compare to printed output.\n",
    "\n",
    "#My name is Joe Warren."
   ]
  },
  {
   "cell_type": "markdown",
   "id": "4121a235-d1b3-488e-8b32-72b7ad9bd97c",
   "metadata": {},
   "source": [
    "### Name and age"
   ]
  },
  {
   "cell_type": "code",
   "execution_count": 9,
   "id": "6bf8cb32-1e53-411e-ae90-706a853eb024",
   "metadata": {},
   "outputs": [
    {
     "name": "stdout",
     "output_type": "stream",
     "text": [
      "Joe Warren is 56 years old\n"
     ]
    }
   ],
   "source": [
    "\"\"\"\n",
    "Template - Compute the statement about a person's name and age, given the person's name and age.\n",
    "\"\"\"\n",
    "###################################################\n",
    "# Name and age formula\n",
    "# Student should enter statement on the next line.\n",
    "\n",
    "print('Joe Warren' + ' ' + 'is' + ' ' + str(56) + ' ' + 'years old')\n",
    "\n",
    "###################################################\n",
    "# Expected output\n",
    "# Student should look at the following comments and compare to printed output.\n",
    "\n",
    "#Joe Warren is 56 years old.\n"
   ]
  },
  {
   "cell_type": "markdown",
   "id": "33cc5aa1-2a3b-4f53-a1f3-998cc8331ad9",
   "metadata": {},
   "source": [
    "### Point distance"
   ]
  },
  {
   "cell_type": "code",
   "execution_count": 10,
   "id": "fc918788-6a55-4717-9246-9ec89c207140",
   "metadata": {},
   "outputs": [
    {
     "name": "stdout",
     "output_type": "stream",
     "text": [
      "5.0\n"
     ]
    }
   ],
   "source": [
    "\"\"\"\n",
    "Template - Compute the distance between the points (x0, y0) and (x1, y1).\n",
    "\"\"\"\n",
    "\n",
    "###################################################\n",
    "# Distance formula\n",
    "# Student should enter statement on the next line.\n",
    "\n",
    "# Hint: You need to use the power operation ** .\n",
    "\n",
    "print(((2 - 5) ** 2 + (2 - 6) ** 2) ** 0.5)\n",
    "\n",
    "###################################################\n",
    "# Expected output\n",
    "# Student should look at the following comments and compare to printed output.\n",
    "\n",
    "#5.0"
   ]
  }
 ],
 "metadata": {
  "kernelspec": {
   "display_name": "Python 3 (ipykernel)",
   "language": "python",
   "name": "python3"
  },
  "language_info": {
   "codemirror_mode": {
    "name": "ipython",
    "version": 3
   },
   "file_extension": ".py",
   "mimetype": "text/x-python",
   "name": "python",
   "nbconvert_exporter": "python",
   "pygments_lexer": "ipython3",
   "version": "3.11.2"
  }
 },
 "nbformat": 4,
 "nbformat_minor": 5
}
